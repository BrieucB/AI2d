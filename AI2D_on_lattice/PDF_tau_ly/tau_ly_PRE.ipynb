{
 "cells": [
  {
   "cell_type": "code",
   "execution_count": 1,
   "metadata": {},
   "outputs": [],
   "source": [
    "import numpy as np\n",
    "import matplotlib.pyplot as plt\n",
    "import pandas as pd"
   ]
  },
  {
   "cell_type": "code",
   "execution_count": 2,
   "metadata": {},
   "outputs": [],
   "source": [
    "fig_width_pt = 123  # Get this from LaTeX using \\showthe\\columnwidth\n",
    "                      # For PRL columnwidth is 246pt.\n",
    "fig_height_pt = 123\n",
    "inches_per_pt = 1.0/72.27               # Convert pt to inch\n",
    "golden_mean = (np.sqrt(5)+1.0)/2.0         # Aesthetic ratio\n",
    "fig_height_pt=fig_width_pt/golden_mean\n",
    "fig_width = fig_width_pt*inches_per_pt  # width in inches\n",
    "fig_height = fig_height_pt*inches_per_pt      # height in inches\n",
    "fig_size =  [fig_width,fig_height]\n",
    "params = {'backend': 'ps',\n",
    "          'axes.labelsize': 10,\n",
    "          'font.size': 10,\n",
    "          'xtick.labelsize': 6,\n",
    "          'xtick.direction': 'out',\n",
    "          'ytick.labelsize': 6,\n",
    "          'ytick.direction': 'out',\n",
    "          'ytick.major.pad': 1,\n",
    "          'xtick.major.pad': 1,\n",
    "          'text.usetex': True,\n",
    "          'figure.figsize': fig_size,\n",
    "          'legend.frameon': False,\n",
    "          'legend.fancybox': False}\n",
    "plt.rcParams.update(params)"
   ]
  },
  {
   "cell_type": "code",
   "execution_count": 3,
   "metadata": {},
   "outputs": [],
   "source": [
    "import matplotlib as mpl\n",
    "mpl.rcParams['axes.prop_cycle'] = mpl.cycler(color=[plt.get_cmap('Dark2')(a) for a in np.linspace(0,1,9)]) "
   ]
  },
  {
   "cell_type": "code",
   "execution_count": 4,
   "metadata": {},
   "outputs": [],
   "source": [
    "list_ly=[1,2,3,4,5,6]"
   ]
  },
  {
   "cell_type": "code",
   "execution_count": 5,
   "metadata": {
    "scrolled": true
   },
   "outputs": [
    {
     "name": "stdout",
     "output_type": "stream",
     "text": [
      "1 0\n",
      "1 1\n",
      "1 2\n",
      "1 3\n",
      "1 4\n"
     ]
    },
    {
     "name": "stderr",
     "output_type": "stream",
     "text": [
      "/users/invites/benvegnen/anaconda3/lib/python3.7/site-packages/ipykernel_launcher.py:5: UserWarning: loadtxt: Empty input file: \"instances_lx100/ly2/i4/f_rev_t.dat\"\n",
      "  \"\"\"\n",
      "/users/invites/benvegnen/anaconda3/lib/python3.7/site-packages/ipykernel_launcher.py:5: UserWarning: loadtxt: Empty input file: \"instances_lx100/ly5/i3/f_rev_t.dat\"\n",
      "  \"\"\"\n"
     ]
    }
   ],
   "source": [
    "rev_t={ly:[] for ly in list_ly}\n",
    "for ly in list_ly:\n",
    "    for i in range(16):\n",
    "        try:\n",
    "            tmp=np.loadtxt('instances_lx100/ly%d/i%d/f_rev_t.dat'%(ly,i))[1:]\n",
    "            rev_t[ly]=np.concatenate([rev_t[ly], tmp])\n",
    "        except:\n",
    "            print(ly, i)"
   ]
  },
  {
   "cell_type": "code",
   "execution_count": 29,
   "metadata": {},
   "outputs": [
    {
     "data": {
      "image/png": "[encoded data removed]",
      "text/plain": [
       "<Figure size 122.54x75.7342 with 1 Axes>"
      ]
     },
     "metadata": {
      "needs_background": "light"
     },
     "output_type": "display_data"
    }
   ],
   "source": [
    "plt.plot((list_ly), np.exp(1.21*np.array(list_ly)+4.13), '--', color='black', linewidth=0.5)\n",
    "\n",
    "plt.semilogy(list_ly, [np.mean(rev_t[ly]) for ly in list_ly], 'o', markersize=3)\n",
    "\n",
    "\n",
    "plt.ylim(1e2, 2e5)\n",
    "plt.xlim(0.9, 6.1)\n",
    "\n",
    "plt.xticks(np.arange(1,7))\n",
    "\n",
    "plt.xlabel(r'$l_y$', labelpad=-20, x=0.95, rotation=0, zorder=100);\n",
    "plt.ylabel(r'$\\langle \\tau \\rangle$', labelpad=-24, y=0.8, rotation=0, zorder=100);\n",
    "\n",
    "plt.tight_layout(0.0)\n",
    "plt.savefig('tau_ly.pdf');"
   ]
  },
  {
   "cell_type": "code",
   "execution_count": 19,
   "metadata": {},
   "outputs": [
    {
     "data": {
      "text/plain": [
       "array([1.21032672, 4.13268214])"
      ]
     },
     "execution_count": 19,
     "metadata": {},
     "output_type": "execute_result"
    }
   ],
   "source": [
    "np.polyfit(list_ly, np.log([np.mean(rev_t[ly]) for ly in list_ly]), 1)"
   ]
  },
  {
   "cell_type": "code",
   "execution_count": null,
   "metadata": {},
   "outputs": [],
   "source": []
  }
 ],
 "metadata": {
  "kernelspec": {
   "display_name": "Python 3",
   "language": "python",
   "name": "python3"
  },
  "language_info": {
   "codemirror_mode": {
    "name": "ipython",
    "version": 3
   },
   "file_extension": ".py",
   "mimetype": "text/x-python",
   "name": "python",
   "nbconvert_exporter": "python",
   "pygments_lexer": "ipython3",
   "version": "3.7.6"
  }
 },
 "nbformat": 4,
 "nbformat_minor": 4
}
