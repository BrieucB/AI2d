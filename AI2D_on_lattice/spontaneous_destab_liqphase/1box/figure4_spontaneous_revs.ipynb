{
 "cells": [
  {
   "cell_type": "code",
   "execution_count": 2,
   "metadata": {},
   "outputs": [],
   "source": [
    "import numpy as np\n",
    "import matplotlib.pyplot as plt\n",
    "import pandas as pd\n",
    "import seaborn as sns\n",
    "import matplotlib.patheffects as PathEffects\n"
   ]
  },
  {
   "cell_type": "code",
   "execution_count": 49,
   "metadata": {},
   "outputs": [],
   "source": [
    "fig_width_pt = 150  # Get this from LaTeX using \\showthe\\columnwidth\n",
    "                      # For PRL columnwidth is 246pt.\n",
    "golden_mean = (np.sqrt(5)+1.0)/2.0         # Aesthetic ratio\n",
    "\n",
    "fig_height_pt = fig_width_pt/1.5\n",
    "inches_per_pt = 1.0/72.27               # Convert pt to inch\n",
    "fig_width = fig_width_pt*inches_per_pt  # width in inches\n",
    "fig_height = fig_height_pt*inches_per_pt      # height in inches\n",
    "fig_size =  [fig_width,fig_height]\n",
    "params = {'backend': 'ps',\n",
    "          'axes.labelsize': 12,\n",
    "          'font.size': 12,\n",
    "          'xtick.labelsize': 10,\n",
    "          'xtick.direction': 'out',\n",
    "          'ytick.labelsize': 10,\n",
    "          'ytick.direction': 'out',\n",
    "          'ytick.major.pad': 1,\n",
    "          'xtick.major.pad': 1,\n",
    "          'text.usetex': True,\n",
    "          'figure.figsize': fig_size,\n",
    "          'legend.frameon': False,\n",
    "          'legend.fancybox': False}\n",
    "plt.rcParams.update(params)"
   ]
  },
  {
   "cell_type": "code",
   "execution_count": 6,
   "metadata": {},
   "outputs": [],
   "source": [
    "import matplotlib as mpl\n",
    "mpl.rcParams['axes.prop_cycle'] = plt.cycler(\"color\", plt.cm.Dark2.colors)"
   ]
  },
  {
   "cell_type": "code",
   "execution_count": 45,
   "metadata": {},
   "outputs": [],
   "source": [
    "list_L=np.array([25,50,100,200,400,800])"
   ]
  },
  {
   "cell_type": "markdown",
   "metadata": {},
   "source": [
    "scp -r chihiro:~/Thesis/AI2D/AI2D_on_lattice/spontaneous_destab_liqphase/1box/destab_D0.1_L/* destab_D0.1_L_chihiro"
   ]
  },
  {
   "cell_type": "code",
   "execution_count": 46,
   "metadata": {
    "scrolled": true
   },
   "outputs": [],
   "source": [
    "td={}\n",
    "for L in list_L:\n",
    "    td[L]=np.array([])\n",
    "#     for i in range(10):\n",
    "#         try:\n",
    "#             data=np.loadtxt(\"destab_D0.1_L/L%d/i%d/f_mag.dat\"%(L,i), usecols=(0))[-1]\n",
    "#             td[L].append(data)\n",
    "#         except:\n",
    "#             pass\n",
    "    for i in range(10):\n",
    "        try:\n",
    "            data=np.loadtxt(\"destab_D0.1_L2/L%d/i%d/f_mag.dat\"%(L,i), usecols=(0))\n",
    "            td[L]=np.concatenate((td[L], data))\n",
    "        except:\n",
    "            pass\n",
    "\n",
    "    for i in range(51):\n",
    "        try:\n",
    "            data=np.loadtxt(\"destab_D0.1_L_chihiro/L%d/i%d/f_mag.dat\"%(L,i), usecols=(0))\n",
    "            td[L]=np.concatenate((td[L], data))\n",
    "        except:\n",
    "            pass"
   ]
  },
  {
   "cell_type": "code",
   "execution_count": 56,
   "metadata": {},
   "outputs": [
    {
     "data": {
      "text/plain": [
       "(603,)"
      ]
     },
     "execution_count": 56,
     "metadata": {},
     "output_type": "execute_result"
    }
   ],
   "source": [
    "td[400].shape"
   ]
  },
  {
   "cell_type": "code",
   "execution_count": 84,
   "metadata": {},
   "outputs": [],
   "source": [
    "fig_width_pt = 123  # Get this from LaTeX using \\showthe\\columnwidth\n",
    "                      # For PRL columnwidth is 246pt.\n",
    "golden_mean = (np.sqrt(5)+1.0)/2.0         # Aesthetic ratio\n",
    "\n",
    "fig_height_pt = fig_width_pt/1.1\n",
    "inches_per_pt = 1.0/72.27               # Convert pt to inch\n",
    "fig_width = fig_width_pt*inches_per_pt  # width in inches\n",
    "fig_height = fig_height_pt*inches_per_pt      # height in inches\n",
    "fig_size =  [fig_width,fig_height]\n",
    "params = {'backend': 'ps',\n",
    "          'axes.labelsize': 12,\n",
    "          'font.size': 12,\n",
    "          'xtick.labelsize': 10,\n",
    "          'xtick.direction': 'out',\n",
    "          'ytick.labelsize': 10,\n",
    "          'ytick.direction': 'out',\n",
    "          'ytick.major.pad': 1,\n",
    "          'xtick.major.pad': 1,\n",
    "          'text.usetex': True,\n",
    "          'figure.figsize': fig_size,\n",
    "          'legend.frameon': False,\n",
    "          'legend.fancybox': False}\n",
    "plt.rcParams.update(params)"
   ]
  },
  {
   "cell_type": "code",
   "execution_count": 116,
   "metadata": {},
   "outputs": [
    {
     "data": {
      "image/png": "[encoded data removed]",
      "text/plain": [
       "<Figure size 122.54x111.4 with 1 Axes>"
      ]
     },
     "metadata": {
      "needs_background": "light"
     },
     "output_type": "display_data"
    }
   ],
   "source": [
    "\n",
    "plt.plot([],[])\n",
    "h,b=np.histogram(td[200], bins=np.linspace(0,150000,23), density=True)\n",
    "plt.semilogy(b[:-1], h, 'o', markersize=4, linewidth=0.8)\n",
    "\n",
    "plt.xlim(0.,150000-1)\n",
    "plt.ylim(1.9e-7, 8e-5)\n",
    "\n",
    "x=plt.xlabel(r'$\\tau_{\\rm d}$', labelpad=-25, x=0.92)\n",
    "x.set_in_layout(False)\n",
    "\n",
    "plt.ylabel(r'$P(\\tau_{\\rm d})$', labelpad=-40, y=0.82, rotation=0)\n",
    "\n",
    "plt.tight_layout(pad=0.01)\n",
    "\n",
    "plt.savefig('P_tau_d_order.pdf');"
   ]
  },
  {
   "cell_type": "code",
   "execution_count": 117,
   "metadata": {},
   "outputs": [],
   "source": [
    "a, b = np.polyfit(np.log(list(td)),\n",
    "             np.log([np.mean(td[tau]) for tau in td]), deg=1)"
   ]
  },
  {
   "cell_type": "code",
   "execution_count": 126,
   "metadata": {},
   "outputs": [
    {
     "data": {
      "image/png": "[encoded data removed]",
      "text/plain": [
       "<Figure size 122.54x111.4 with 1 Axes>"
      ]
     },
     "metadata": {
      "needs_background": "light"
     },
     "output_type": "display_data"
    }
   ],
   "source": [
    "xlab=0.45\n",
    "ylab=1.06\n",
    "\n",
    "######### tau_d L #########\n",
    "plt.subplot(111)\n",
    "#plt.text(s=r'$\\mathrm{(b)}$', x=xlab, y=ylab, transform=plt.gca().transAxes)\n",
    "\n",
    "plt.errorbar(list(td),\n",
    "             [np.mean(td[tau]) for tau in td],\n",
    "             yerr=0*np.array([np.std(td[tau]) for tau in td])/np.sqrt([len(td[tau]) for tau in td]),\n",
    "             capsize=0,\n",
    "             markersize=ms,\n",
    "             fmt='o')\n",
    "\n",
    "ax_L=np.linspace(20,1200)\n",
    "plt.loglog(ax_L, np.exp(b)*ax_L**(a), 'k--', alpha=0.6)\n",
    "ax=plt.gca()\n",
    "ax.loglog()\n",
    "plt.yticks([1e3, 1e5, 1e7])\n",
    "plt.xlim([20,1200])\n",
    "plt.ylim(0.3e3, 2e7)\n",
    "\n",
    "plt.xlabel(r'$L$', labelpad=-24, x=0.95, rotation=0, zorder=100);\n",
    "plt.ylabel(r'$\\tau_{\\rm d}$', labelpad=-26, y=0.85, rotation=0, zorder=100);\n",
    "\n",
    "plt.text(x=110, y=0.4e5, s=r'$\\propto L^{-2}$', rotation=-35)\n",
    "\n",
    "plt.tight_layout(pad=0.01)\n",
    "\n",
    "plt.savefig('tau_d_L2.pdf', dpi=400);"
   ]
  },
  {
   "cell_type": "code",
   "execution_count": null,
   "metadata": {},
   "outputs": [],
   "source": []
  },
  {
   "cell_type": "markdown",
   "metadata": {},
   "source": [
    "# Scaling of the destabilization time w/ $l_y$"
   ]
  },
  {
   "cell_type": "code",
   "execution_count": 30,
   "metadata": {},
   "outputs": [],
   "source": [
    "fig_width_pt = 246  # Get this from LaTeX using \\showthe\\columnwidth\n",
    "                      # For PRL columnwidth is 246pt.\n",
    "golden_mean = (np.sqrt(5)+1.0)/2.0         # Aesthetic ratio\n",
    "\n",
    "fig_height_pt = fig_width_pt/golden_mean\n",
    "inches_per_pt = 1.0/72.27               # Convert pt to inch\n",
    "fig_width = fig_width_pt*inches_per_pt  # width in inches\n",
    "fig_height = fig_height_pt*inches_per_pt      # height in inches\n",
    "fig_size =  [fig_width,fig_height]\n",
    "params = {'backend': 'ps',\n",
    "          'axes.labelsize': 12,\n",
    "          'font.size': 12,\n",
    "          'xtick.labelsize': 10,\n",
    "          'xtick.direction': 'out',\n",
    "          'ytick.labelsize': 10,\n",
    "          'ytick.direction': 'out',\n",
    "          'ytick.major.pad': 1,\n",
    "          'xtick.major.pad': 1,\n",
    "          'text.usetex': True,\n",
    "          'figure.figsize': fig_size,\n",
    "          'legend.frameon': False,\n",
    "          'legend.fancybox': False}\n",
    "plt.rcParams.update(params)"
   ]
  },
  {
   "cell_type": "code",
   "execution_count": 16,
   "metadata": {},
   "outputs": [],
   "source": [
    "list_ly=np.arange(1,20,1)"
   ]
  },
  {
   "cell_type": "markdown",
   "metadata": {},
   "source": [
    "scp -r chihiro:~/Thesis/AI2D/AI2D_on_lattice/spontaneous_destab_liqphase/1box/destab_D0.1_ly/* destab_D0.1_ly_chihiro"
   ]
  },
  {
   "cell_type": "code",
   "execution_count": 17,
   "metadata": {},
   "outputs": [
    {
     "name": "stdout",
     "output_type": "stream",
     "text": [
      "1 500\n",
      "2 500\n",
      "3 500\n",
      "4 500\n",
      "5 500\n",
      "6 500\n",
      "7 500\n",
      "8 500\n",
      "9 500\n",
      "10 500\n",
      "11 500\n",
      "12 500\n",
      "13 500\n",
      "14 500\n",
      "15 495\n",
      "16 490\n",
      "17 485\n",
      "18 481\n",
      "19 457\n"
     ]
    }
   ],
   "source": [
    "td_1={}\n",
    "for ly in list_ly:\n",
    "    td_1[ly]=np.array([])\n",
    "#     for i in range(21):\n",
    "#         try:\n",
    "#             data=np.loadtxt(\"destab_D0.1_ly/ly%d/i%d/f_mag.dat\"%(ly,i), usecols=(0))[-1]\n",
    "#             td_1[ly].append(data)\n",
    "#         except:\n",
    "#             pass\n",
    "\n",
    "    for i in range(50):\n",
    "        try:\n",
    "            data=np.loadtxt(\"destab_D0.1_ly_chihiro/ly%d/i%d/f_mag.dat\"%(ly,i), usecols=(0))\n",
    "            td_1[ly]=np.concatenate((td_1[ly], data))\n",
    "        except:\n",
    "            pass\n",
    "        \n",
    "    print(ly, len(td_1[ly]))"
   ]
  },
  {
   "cell_type": "code",
   "execution_count": 18,
   "metadata": {},
   "outputs": [
    {
     "name": "stdout",
     "output_type": "stream",
     "text": [
      "1 1000\n",
      "2 589\n",
      "3 109\n"
     ]
    },
    {
     "name": "stderr",
     "output_type": "stream",
     "text": [
      "/users/invites/benvegnen/anaconda3/lib/python3.7/site-packages/ipykernel_launcher.py:7: UserWarning: loadtxt: Empty input file: \"destab_D0.12_L2/ly3/i2/f_mag.dat\"\n",
      "  import sys\n",
      "/users/invites/benvegnen/anaconda3/lib/python3.7/site-packages/ipykernel_launcher.py:7: UserWarning: loadtxt: Empty input file: \"destab_D0.12_L2/ly3/i5/f_mag.dat\"\n",
      "  import sys\n",
      "/users/invites/benvegnen/anaconda3/lib/python3.7/site-packages/ipykernel_launcher.py:7: UserWarning: loadtxt: Empty input file: \"destab_D0.12_L2/ly3/i6/f_mag.dat\"\n",
      "  import sys\n",
      "/users/invites/benvegnen/anaconda3/lib/python3.7/site-packages/ipykernel_launcher.py:7: UserWarning: loadtxt: Empty input file: \"destab_D0.12_L2/ly3/i7/f_mag.dat\"\n",
      "  import sys\n",
      "/users/invites/benvegnen/anaconda3/lib/python3.7/site-packages/ipykernel_launcher.py:7: UserWarning: loadtxt: Empty input file: \"destab_D0.12_L2/ly4/i0/f_mag.dat\"\n",
      "  import sys\n",
      "/users/invites/benvegnen/anaconda3/lib/python3.7/site-packages/ipykernel_launcher.py:7: UserWarning: loadtxt: Empty input file: \"destab_D0.12_L2/ly5/i0/f_mag.dat\"\n",
      "  import sys\n"
     ]
    },
    {
     "name": "stdout",
     "output_type": "stream",
     "text": [
      "4 97\n",
      "5 111\n",
      "6 100\n"
     ]
    },
    {
     "name": "stderr",
     "output_type": "stream",
     "text": [
      "/users/invites/benvegnen/anaconda3/lib/python3.7/site-packages/ipykernel_launcher.py:7: UserWarning: loadtxt: Empty input file: \"destab_D0.12_L2/ly5/i5/f_mag.dat\"\n",
      "  import sys\n",
      "/users/invites/benvegnen/anaconda3/lib/python3.7/site-packages/ipykernel_launcher.py:7: UserWarning: loadtxt: Empty input file: \"destab_D0.12_L2/ly6/i6/f_mag.dat\"\n",
      "  import sys\n",
      "/users/invites/benvegnen/anaconda3/lib/python3.7/site-packages/ipykernel_launcher.py:7: UserWarning: loadtxt: Empty input file: \"destab_D0.12_L2/ly7/i2/f_mag.dat\"\n",
      "  import sys\n",
      "/users/invites/benvegnen/anaconda3/lib/python3.7/site-packages/ipykernel_launcher.py:7: UserWarning: loadtxt: Empty input file: \"destab_D0.12_L2/ly7/i8/f_mag.dat\"\n",
      "  import sys\n",
      "/users/invites/benvegnen/anaconda3/lib/python3.7/site-packages/ipykernel_launcher.py:7: UserWarning: loadtxt: Empty input file: \"destab_D0.12_L2/ly7/i9/f_mag.dat\"\n",
      "  import sys\n"
     ]
    },
    {
     "name": "stdout",
     "output_type": "stream",
     "text": [
      "7 104\n",
      "8 111\n",
      "9 162\n"
     ]
    },
    {
     "name": "stderr",
     "output_type": "stream",
     "text": [
      "/users/invites/benvegnen/anaconda3/lib/python3.7/site-packages/ipykernel_launcher.py:7: UserWarning: loadtxt: Empty input file: \"destab_D0.12_L2/ly8/i5/f_mag.dat\"\n",
      "  import sys\n",
      "/users/invites/benvegnen/anaconda3/lib/python3.7/site-packages/ipykernel_launcher.py:7: UserWarning: loadtxt: Empty input file: \"destab_D0.12_L2/ly8/i8/f_mag.dat\"\n",
      "  import sys\n",
      "/users/invites/benvegnen/anaconda3/lib/python3.7/site-packages/ipykernel_launcher.py:14: UserWarning: loadtxt: Empty input file: \"destab_D0.12_ly_chihiro/ly8/i8/f_mag.dat\"\n",
      "  \n"
     ]
    },
    {
     "name": "stdout",
     "output_type": "stream",
     "text": [
      "10 44\n",
      "11 73\n",
      "12 132\n"
     ]
    },
    {
     "name": "stderr",
     "output_type": "stream",
     "text": [
      "/users/invites/benvegnen/anaconda3/lib/python3.7/site-packages/ipykernel_launcher.py:7: UserWarning: loadtxt: Empty input file: \"destab_D0.12_L2/ly11/i0/f_mag.dat\"\n",
      "  import sys\n",
      "/users/invites/benvegnen/anaconda3/lib/python3.7/site-packages/ipykernel_launcher.py:7: UserWarning: loadtxt: Empty input file: \"destab_D0.12_L2/ly11/i1/f_mag.dat\"\n",
      "  import sys\n",
      "/users/invites/benvegnen/anaconda3/lib/python3.7/site-packages/ipykernel_launcher.py:7: UserWarning: loadtxt: Empty input file: \"destab_D0.12_L2/ly11/i2/f_mag.dat\"\n",
      "  import sys\n",
      "/users/invites/benvegnen/anaconda3/lib/python3.7/site-packages/ipykernel_launcher.py:7: UserWarning: loadtxt: Empty input file: \"destab_D0.12_L2/ly11/i5/f_mag.dat\"\n",
      "  import sys\n",
      "/users/invites/benvegnen/anaconda3/lib/python3.7/site-packages/ipykernel_launcher.py:7: UserWarning: loadtxt: Empty input file: \"destab_D0.12_L2/ly11/i6/f_mag.dat\"\n",
      "  import sys\n",
      "/users/invites/benvegnen/anaconda3/lib/python3.7/site-packages/ipykernel_launcher.py:7: UserWarning: loadtxt: Empty input file: \"destab_D0.12_L2/ly11/i7/f_mag.dat\"\n",
      "  import sys\n",
      "/users/invites/benvegnen/anaconda3/lib/python3.7/site-packages/ipykernel_launcher.py:14: UserWarning: loadtxt: Empty input file: \"destab_D0.12_ly_chihiro/ly11/i9/f_mag.dat\"\n",
      "  \n",
      "/users/invites/benvegnen/anaconda3/lib/python3.7/site-packages/ipykernel_launcher.py:7: UserWarning: loadtxt: Empty input file: \"destab_D0.12_L2/ly12/i3/f_mag.dat\"\n",
      "  import sys\n",
      "/users/invites/benvegnen/anaconda3/lib/python3.7/site-packages/ipykernel_launcher.py:7: UserWarning: loadtxt: Empty input file: \"destab_D0.12_L2/ly13/i2/f_mag.dat\"\n",
      "  import sys\n",
      "/users/invites/benvegnen/anaconda3/lib/python3.7/site-packages/ipykernel_launcher.py:7: UserWarning: loadtxt: Empty input file: \"destab_D0.12_L2/ly13/i3/f_mag.dat\"\n",
      "  import sys\n",
      "/users/invites/benvegnen/anaconda3/lib/python3.7/site-packages/ipykernel_launcher.py:7: UserWarning: loadtxt: Empty input file: \"destab_D0.12_L2/ly13/i4/f_mag.dat\"\n",
      "  import sys\n",
      "/users/invites/benvegnen/anaconda3/lib/python3.7/site-packages/ipykernel_launcher.py:7: UserWarning: loadtxt: Empty input file: \"destab_D0.12_L2/ly13/i5/f_mag.dat\"\n",
      "  import sys\n",
      "/users/invites/benvegnen/anaconda3/lib/python3.7/site-packages/ipykernel_launcher.py:7: UserWarning: loadtxt: Empty input file: \"destab_D0.12_L2/ly13/i6/f_mag.dat\"\n",
      "  import sys\n",
      "/users/invites/benvegnen/anaconda3/lib/python3.7/site-packages/ipykernel_launcher.py:7: UserWarning: loadtxt: Empty input file: \"destab_D0.12_L2/ly13/i7/f_mag.dat\"\n",
      "  import sys\n",
      "/users/invites/benvegnen/anaconda3/lib/python3.7/site-packages/ipykernel_launcher.py:7: UserWarning: loadtxt: Empty input file: \"destab_D0.12_L2/ly13/i8/f_mag.dat\"\n",
      "  import sys\n",
      "/users/invites/benvegnen/anaconda3/lib/python3.7/site-packages/ipykernel_launcher.py:7: UserWarning: loadtxt: Empty input file: \"destab_D0.12_L2/ly13/i9/f_mag.dat\"\n",
      "  import sys\n",
      "/users/invites/benvegnen/anaconda3/lib/python3.7/site-packages/ipykernel_launcher.py:7: UserWarning: loadtxt: Empty input file: \"destab_D0.12_L2/ly13/i10/f_mag.dat\"\n",
      "  import sys\n"
     ]
    },
    {
     "name": "stdout",
     "output_type": "stream",
     "text": [
      "13 63\n",
      "14 35\n"
     ]
    },
    {
     "name": "stderr",
     "output_type": "stream",
     "text": [
      "/users/invites/benvegnen/anaconda3/lib/python3.7/site-packages/ipykernel_launcher.py:7: UserWarning: loadtxt: Empty input file: \"destab_D0.12_L2/ly14/i1/f_mag.dat\"\n",
      "  import sys\n",
      "/users/invites/benvegnen/anaconda3/lib/python3.7/site-packages/ipykernel_launcher.py:7: UserWarning: loadtxt: Empty input file: \"destab_D0.12_L2/ly14/i2/f_mag.dat\"\n",
      "  import sys\n",
      "/users/invites/benvegnen/anaconda3/lib/python3.7/site-packages/ipykernel_launcher.py:7: UserWarning: loadtxt: Empty input file: \"destab_D0.12_L2/ly14/i3/f_mag.dat\"\n",
      "  import sys\n",
      "/users/invites/benvegnen/anaconda3/lib/python3.7/site-packages/ipykernel_launcher.py:7: UserWarning: loadtxt: Empty input file: \"destab_D0.12_L2/ly14/i4/f_mag.dat\"\n",
      "  import sys\n",
      "/users/invites/benvegnen/anaconda3/lib/python3.7/site-packages/ipykernel_launcher.py:7: UserWarning: loadtxt: Empty input file: \"destab_D0.12_L2/ly14/i5/f_mag.dat\"\n",
      "  import sys\n",
      "/users/invites/benvegnen/anaconda3/lib/python3.7/site-packages/ipykernel_launcher.py:7: UserWarning: loadtxt: Empty input file: \"destab_D0.12_L2/ly14/i6/f_mag.dat\"\n",
      "  import sys\n",
      "/users/invites/benvegnen/anaconda3/lib/python3.7/site-packages/ipykernel_launcher.py:7: UserWarning: loadtxt: Empty input file: \"destab_D0.12_L2/ly14/i7/f_mag.dat\"\n",
      "  import sys\n",
      "/users/invites/benvegnen/anaconda3/lib/python3.7/site-packages/ipykernel_launcher.py:7: UserWarning: loadtxt: Empty input file: \"destab_D0.12_L2/ly14/i8/f_mag.dat\"\n",
      "  import sys\n",
      "/users/invites/benvegnen/anaconda3/lib/python3.7/site-packages/ipykernel_launcher.py:7: UserWarning: loadtxt: Empty input file: \"destab_D0.12_L2/ly14/i9/f_mag.dat\"\n",
      "  import sys\n",
      "/users/invites/benvegnen/anaconda3/lib/python3.7/site-packages/ipykernel_launcher.py:7: UserWarning: loadtxt: Empty input file: \"destab_D0.12_L2/ly14/i10/f_mag.dat\"\n",
      "  import sys\n",
      "/users/invites/benvegnen/anaconda3/lib/python3.7/site-packages/ipykernel_launcher.py:7: UserWarning: loadtxt: Empty input file: \"destab_D0.12_L2/ly15/i0/f_mag.dat\"\n",
      "  import sys\n",
      "/users/invites/benvegnen/anaconda3/lib/python3.7/site-packages/ipykernel_launcher.py:7: UserWarning: loadtxt: Empty input file: \"destab_D0.12_L2/ly15/i5/f_mag.dat\"\n",
      "  import sys\n"
     ]
    },
    {
     "name": "stdout",
     "output_type": "stream",
     "text": [
      "15 25\n",
      "16 40\n"
     ]
    },
    {
     "name": "stderr",
     "output_type": "stream",
     "text": [
      "/users/invites/benvegnen/anaconda3/lib/python3.7/site-packages/ipykernel_launcher.py:14: UserWarning: loadtxt: Empty input file: \"destab_D0.12_ly_chihiro/ly17/i4/f_mag.dat\"\n",
      "  \n"
     ]
    },
    {
     "name": "stdout",
     "output_type": "stream",
     "text": [
      "17 32\n",
      "18 42\n",
      "19 37\n"
     ]
    }
   ],
   "source": [
    "td_12={}\n",
    "for ly in list_ly:\n",
    "    td_12[ly]=np.array([])\n",
    "\n",
    "    for i in range(50):\n",
    "        try:\n",
    "            data=np.loadtxt(\"destab_D0.12_L2/ly%d/i%d/f_mag.dat\"%(ly,i), usecols=(0))\n",
    "            td_12[ly]=np.concatenate((td_12[ly], data))\n",
    "        except:\n",
    "            pass\n",
    "    \n",
    "    for i in range(50):\n",
    "        try:\n",
    "            data=np.loadtxt(\"destab_D0.12_ly_chihiro/ly%d/i%d/f_mag.dat\"%(ly,i), usecols=(0))\n",
    "            td_12[ly]=np.concatenate((td_12[ly], data))\n",
    "        except:\n",
    "            pass\n",
    "        \n",
    "    print(ly, len(td_12[ly]))"
   ]
  },
  {
   "cell_type": "code",
   "execution_count": 19,
   "metadata": {
    "scrolled": true
   },
   "outputs": [
    {
     "name": "stdout",
     "output_type": "stream",
     "text": [
      "1 6100\n",
      "2 671\n",
      "3 498\n"
     ]
    },
    {
     "name": "stderr",
     "output_type": "stream",
     "text": [
      "/users/invites/benvegnen/anaconda3/lib/python3.7/site-packages/ipykernel_launcher.py:13: UserWarning: loadtxt: Empty input file: \"destab_D0.11_ly_chihiro/ly3/i0/f_mag.dat\"\n",
      "  del sys.path[0]\n",
      "/users/invites/benvegnen/anaconda3/lib/python3.7/site-packages/ipykernel_launcher.py:13: UserWarning: loadtxt: Empty input file: \"destab_D0.11_ly_chihiro/ly3/i1/f_mag.dat\"\n",
      "  del sys.path[0]\n",
      "/users/invites/benvegnen/anaconda3/lib/python3.7/site-packages/ipykernel_launcher.py:13: UserWarning: loadtxt: Empty input file: \"destab_D0.11_ly_chihiro/ly3/i4/f_mag.dat\"\n",
      "  del sys.path[0]\n",
      "/users/invites/benvegnen/anaconda3/lib/python3.7/site-packages/ipykernel_launcher.py:13: UserWarning: loadtxt: Empty input file: \"destab_D0.11_ly_chihiro/ly3/i5/f_mag.dat\"\n",
      "  del sys.path[0]\n",
      "/users/invites/benvegnen/anaconda3/lib/python3.7/site-packages/ipykernel_launcher.py:13: UserWarning: loadtxt: Empty input file: \"destab_D0.11_ly_chihiro/ly3/i6/f_mag.dat\"\n",
      "  del sys.path[0]\n",
      "/users/invites/benvegnen/anaconda3/lib/python3.7/site-packages/ipykernel_launcher.py:13: UserWarning: loadtxt: Empty input file: \"destab_D0.11_ly_chihiro/ly3/i8/f_mag.dat\"\n",
      "  del sys.path[0]\n",
      "/users/invites/benvegnen/anaconda3/lib/python3.7/site-packages/ipykernel_launcher.py:13: UserWarning: loadtxt: Empty input file: \"destab_D0.11_ly_chihiro/ly4/i0/f_mag.dat\"\n",
      "  del sys.path[0]\n",
      "/users/invites/benvegnen/anaconda3/lib/python3.7/site-packages/ipykernel_launcher.py:13: UserWarning: loadtxt: Empty input file: \"destab_D0.11_ly_chihiro/ly4/i2/f_mag.dat\"\n",
      "  del sys.path[0]\n",
      "/users/invites/benvegnen/anaconda3/lib/python3.7/site-packages/ipykernel_launcher.py:13: UserWarning: loadtxt: Empty input file: \"destab_D0.11_ly_chihiro/ly4/i4/f_mag.dat\"\n",
      "  del sys.path[0]\n",
      "/users/invites/benvegnen/anaconda3/lib/python3.7/site-packages/ipykernel_launcher.py:13: UserWarning: loadtxt: Empty input file: \"destab_D0.11_ly_chihiro/ly4/i5/f_mag.dat\"\n",
      "  del sys.path[0]\n",
      "/users/invites/benvegnen/anaconda3/lib/python3.7/site-packages/ipykernel_launcher.py:13: UserWarning: loadtxt: Empty input file: \"destab_D0.11_ly_chihiro/ly4/i6/f_mag.dat\"\n",
      "  del sys.path[0]\n",
      "/users/invites/benvegnen/anaconda3/lib/python3.7/site-packages/ipykernel_launcher.py:13: UserWarning: loadtxt: Empty input file: \"destab_D0.11_ly_chihiro/ly4/i8/f_mag.dat\"\n",
      "  del sys.path[0]\n"
     ]
    },
    {
     "name": "stdout",
     "output_type": "stream",
     "text": [
      "4 447\n",
      "5 351\n"
     ]
    },
    {
     "name": "stderr",
     "output_type": "stream",
     "text": [
      "/users/invites/benvegnen/anaconda3/lib/python3.7/site-packages/ipykernel_launcher.py:13: UserWarning: loadtxt: Empty input file: \"destab_D0.11_ly_chihiro/ly5/i1/f_mag.dat\"\n",
      "  del sys.path[0]\n",
      "/users/invites/benvegnen/anaconda3/lib/python3.7/site-packages/ipykernel_launcher.py:13: UserWarning: loadtxt: Empty input file: \"destab_D0.11_ly_chihiro/ly5/i4/f_mag.dat\"\n",
      "  del sys.path[0]\n",
      "/users/invites/benvegnen/anaconda3/lib/python3.7/site-packages/ipykernel_launcher.py:13: UserWarning: loadtxt: Empty input file: \"destab_D0.11_ly_chihiro/ly5/i5/f_mag.dat\"\n",
      "  del sys.path[0]\n",
      "/users/invites/benvegnen/anaconda3/lib/python3.7/site-packages/ipykernel_launcher.py:13: UserWarning: loadtxt: Empty input file: \"destab_D0.11_ly_chihiro/ly5/i7/f_mag.dat\"\n",
      "  del sys.path[0]\n",
      "/users/invites/benvegnen/anaconda3/lib/python3.7/site-packages/ipykernel_launcher.py:13: UserWarning: loadtxt: Empty input file: \"destab_D0.11_ly_chihiro/ly5/i10/f_mag.dat\"\n",
      "  del sys.path[0]\n",
      "/users/invites/benvegnen/anaconda3/lib/python3.7/site-packages/ipykernel_launcher.py:13: UserWarning: loadtxt: Empty input file: \"destab_D0.11_ly_chihiro/ly6/i0/f_mag.dat\"\n",
      "  del sys.path[0]\n",
      "/users/invites/benvegnen/anaconda3/lib/python3.7/site-packages/ipykernel_launcher.py:13: UserWarning: loadtxt: Empty input file: \"destab_D0.11_ly_chihiro/ly6/i3/f_mag.dat\"\n",
      "  del sys.path[0]\n",
      "/users/invites/benvegnen/anaconda3/lib/python3.7/site-packages/ipykernel_launcher.py:13: UserWarning: loadtxt: Empty input file: \"destab_D0.11_ly_chihiro/ly6/i4/f_mag.dat\"\n",
      "  del sys.path[0]\n",
      "/users/invites/benvegnen/anaconda3/lib/python3.7/site-packages/ipykernel_launcher.py:13: UserWarning: loadtxt: Empty input file: \"destab_D0.11_ly_chihiro/ly6/i6/f_mag.dat\"\n",
      "  del sys.path[0]\n",
      "/users/invites/benvegnen/anaconda3/lib/python3.7/site-packages/ipykernel_launcher.py:13: UserWarning: loadtxt: Empty input file: \"destab_D0.11_ly_chihiro/ly6/i7/f_mag.dat\"\n",
      "  del sys.path[0]\n",
      "/users/invites/benvegnen/anaconda3/lib/python3.7/site-packages/ipykernel_launcher.py:13: UserWarning: loadtxt: Empty input file: \"destab_D0.11_ly_chihiro/ly6/i9/f_mag.dat\"\n",
      "  del sys.path[0]\n"
     ]
    },
    {
     "name": "stdout",
     "output_type": "stream",
     "text": [
      "6 432\n",
      "7 386\n"
     ]
    },
    {
     "name": "stderr",
     "output_type": "stream",
     "text": [
      "/users/invites/benvegnen/anaconda3/lib/python3.7/site-packages/ipykernel_launcher.py:13: UserWarning: loadtxt: Empty input file: \"destab_D0.11_ly_chihiro/ly7/i1/f_mag.dat\"\n",
      "  del sys.path[0]\n",
      "/users/invites/benvegnen/anaconda3/lib/python3.7/site-packages/ipykernel_launcher.py:13: UserWarning: loadtxt: Empty input file: \"destab_D0.11_ly_chihiro/ly7/i2/f_mag.dat\"\n",
      "  del sys.path[0]\n",
      "/users/invites/benvegnen/anaconda3/lib/python3.7/site-packages/ipykernel_launcher.py:13: UserWarning: loadtxt: Empty input file: \"destab_D0.11_ly_chihiro/ly7/i5/f_mag.dat\"\n",
      "  del sys.path[0]\n",
      "/users/invites/benvegnen/anaconda3/lib/python3.7/site-packages/ipykernel_launcher.py:13: UserWarning: loadtxt: Empty input file: \"destab_D0.11_ly_chihiro/ly7/i10/f_mag.dat\"\n",
      "  del sys.path[0]\n",
      "/users/invites/benvegnen/anaconda3/lib/python3.7/site-packages/ipykernel_launcher.py:13: UserWarning: loadtxt: Empty input file: \"destab_D0.11_ly_chihiro/ly8/i1/f_mag.dat\"\n",
      "  del sys.path[0]\n",
      "/users/invites/benvegnen/anaconda3/lib/python3.7/site-packages/ipykernel_launcher.py:13: UserWarning: loadtxt: Empty input file: \"destab_D0.11_ly_chihiro/ly8/i2/f_mag.dat\"\n",
      "  del sys.path[0]\n",
      "/users/invites/benvegnen/anaconda3/lib/python3.7/site-packages/ipykernel_launcher.py:13: UserWarning: loadtxt: Empty input file: \"destab_D0.11_ly_chihiro/ly8/i3/f_mag.dat\"\n",
      "  del sys.path[0]\n",
      "/users/invites/benvegnen/anaconda3/lib/python3.7/site-packages/ipykernel_launcher.py:13: UserWarning: loadtxt: Empty input file: \"destab_D0.11_ly_chihiro/ly8/i5/f_mag.dat\"\n",
      "  del sys.path[0]\n",
      "/users/invites/benvegnen/anaconda3/lib/python3.7/site-packages/ipykernel_launcher.py:13: UserWarning: loadtxt: Empty input file: \"destab_D0.11_ly_chihiro/ly8/i6/f_mag.dat\"\n",
      "  del sys.path[0]\n"
     ]
    },
    {
     "name": "stdout",
     "output_type": "stream",
     "text": [
      "8 344\n",
      "9 438\n"
     ]
    },
    {
     "name": "stderr",
     "output_type": "stream",
     "text": [
      "/users/invites/benvegnen/anaconda3/lib/python3.7/site-packages/ipykernel_launcher.py:13: UserWarning: loadtxt: Empty input file: \"destab_D0.11_ly_chihiro/ly9/i0/f_mag.dat\"\n",
      "  del sys.path[0]\n",
      "/users/invites/benvegnen/anaconda3/lib/python3.7/site-packages/ipykernel_launcher.py:13: UserWarning: loadtxt: Empty input file: \"destab_D0.11_ly_chihiro/ly9/i1/f_mag.dat\"\n",
      "  del sys.path[0]\n",
      "/users/invites/benvegnen/anaconda3/lib/python3.7/site-packages/ipykernel_launcher.py:13: UserWarning: loadtxt: Empty input file: \"destab_D0.11_ly_chihiro/ly9/i5/f_mag.dat\"\n",
      "  del sys.path[0]\n",
      "/users/invites/benvegnen/anaconda3/lib/python3.7/site-packages/ipykernel_launcher.py:13: UserWarning: loadtxt: Empty input file: \"destab_D0.11_ly_chihiro/ly9/i6/f_mag.dat\"\n",
      "  del sys.path[0]\n",
      "/users/invites/benvegnen/anaconda3/lib/python3.7/site-packages/ipykernel_launcher.py:13: UserWarning: loadtxt: Empty input file: \"destab_D0.11_ly_chihiro/ly9/i7/f_mag.dat\"\n",
      "  del sys.path[0]\n",
      "/users/invites/benvegnen/anaconda3/lib/python3.7/site-packages/ipykernel_launcher.py:13: UserWarning: loadtxt: Empty input file: \"destab_D0.11_ly_chihiro/ly10/i0/f_mag.dat\"\n",
      "  del sys.path[0]\n",
      "/users/invites/benvegnen/anaconda3/lib/python3.7/site-packages/ipykernel_launcher.py:13: UserWarning: loadtxt: Empty input file: \"destab_D0.11_ly_chihiro/ly10/i2/f_mag.dat\"\n",
      "  del sys.path[0]\n",
      "/users/invites/benvegnen/anaconda3/lib/python3.7/site-packages/ipykernel_launcher.py:13: UserWarning: loadtxt: Empty input file: \"destab_D0.11_ly_chihiro/ly10/i3/f_mag.dat\"\n",
      "  del sys.path[0]\n",
      "/users/invites/benvegnen/anaconda3/lib/python3.7/site-packages/ipykernel_launcher.py:13: UserWarning: loadtxt: Empty input file: \"destab_D0.11_ly_chihiro/ly10/i4/f_mag.dat\"\n",
      "  del sys.path[0]\n",
      "/users/invites/benvegnen/anaconda3/lib/python3.7/site-packages/ipykernel_launcher.py:13: UserWarning: loadtxt: Empty input file: \"destab_D0.11_ly_chihiro/ly10/i5/f_mag.dat\"\n",
      "  del sys.path[0]\n",
      "/users/invites/benvegnen/anaconda3/lib/python3.7/site-packages/ipykernel_launcher.py:13: UserWarning: loadtxt: Empty input file: \"destab_D0.11_ly_chihiro/ly10/i9/f_mag.dat\"\n",
      "  del sys.path[0]\n"
     ]
    },
    {
     "name": "stdout",
     "output_type": "stream",
     "text": [
      "10 359\n",
      "11 317\n"
     ]
    },
    {
     "name": "stderr",
     "output_type": "stream",
     "text": [
      "/users/invites/benvegnen/anaconda3/lib/python3.7/site-packages/ipykernel_launcher.py:13: UserWarning: loadtxt: Empty input file: \"destab_D0.11_ly_chihiro/ly11/i0/f_mag.dat\"\n",
      "  del sys.path[0]\n",
      "/users/invites/benvegnen/anaconda3/lib/python3.7/site-packages/ipykernel_launcher.py:13: UserWarning: loadtxt: Empty input file: \"destab_D0.11_ly_chihiro/ly11/i3/f_mag.dat\"\n",
      "  del sys.path[0]\n",
      "/users/invites/benvegnen/anaconda3/lib/python3.7/site-packages/ipykernel_launcher.py:13: UserWarning: loadtxt: Empty input file: \"destab_D0.11_ly_chihiro/ly11/i4/f_mag.dat\"\n",
      "  del sys.path[0]\n",
      "/users/invites/benvegnen/anaconda3/lib/python3.7/site-packages/ipykernel_launcher.py:13: UserWarning: loadtxt: Empty input file: \"destab_D0.11_ly_chihiro/ly11/i5/f_mag.dat\"\n",
      "  del sys.path[0]\n",
      "/users/invites/benvegnen/anaconda3/lib/python3.7/site-packages/ipykernel_launcher.py:13: UserWarning: loadtxt: Empty input file: \"destab_D0.11_ly_chihiro/ly11/i6/f_mag.dat\"\n",
      "  del sys.path[0]\n",
      "/users/invites/benvegnen/anaconda3/lib/python3.7/site-packages/ipykernel_launcher.py:13: UserWarning: loadtxt: Empty input file: \"destab_D0.11_ly_chihiro/ly11/i7/f_mag.dat\"\n",
      "  del sys.path[0]\n",
      "/users/invites/benvegnen/anaconda3/lib/python3.7/site-packages/ipykernel_launcher.py:13: UserWarning: loadtxt: Empty input file: \"destab_D0.11_ly_chihiro/ly11/i9/f_mag.dat\"\n",
      "  del sys.path[0]\n",
      "/users/invites/benvegnen/anaconda3/lib/python3.7/site-packages/ipykernel_launcher.py:13: UserWarning: loadtxt: Empty input file: \"destab_D0.11_ly_chihiro/ly11/i10/f_mag.dat\"\n",
      "  del sys.path[0]\n",
      "/users/invites/benvegnen/anaconda3/lib/python3.7/site-packages/ipykernel_launcher.py:13: UserWarning: loadtxt: Empty input file: \"destab_D0.11_ly_chihiro/ly12/i0/f_mag.dat\"\n",
      "  del sys.path[0]\n",
      "/users/invites/benvegnen/anaconda3/lib/python3.7/site-packages/ipykernel_launcher.py:13: UserWarning: loadtxt: Empty input file: \"destab_D0.11_ly_chihiro/ly12/i1/f_mag.dat\"\n",
      "  del sys.path[0]\n",
      "/users/invites/benvegnen/anaconda3/lib/python3.7/site-packages/ipykernel_launcher.py:13: UserWarning: loadtxt: Empty input file: \"destab_D0.11_ly_chihiro/ly12/i2/f_mag.dat\"\n",
      "  del sys.path[0]\n",
      "/users/invites/benvegnen/anaconda3/lib/python3.7/site-packages/ipykernel_launcher.py:13: UserWarning: loadtxt: Empty input file: \"destab_D0.11_ly_chihiro/ly12/i3/f_mag.dat\"\n",
      "  del sys.path[0]\n",
      "/users/invites/benvegnen/anaconda3/lib/python3.7/site-packages/ipykernel_launcher.py:13: UserWarning: loadtxt: Empty input file: \"destab_D0.11_ly_chihiro/ly12/i4/f_mag.dat\"\n",
      "  del sys.path[0]\n",
      "/users/invites/benvegnen/anaconda3/lib/python3.7/site-packages/ipykernel_launcher.py:13: UserWarning: loadtxt: Empty input file: \"destab_D0.11_ly_chihiro/ly12/i6/f_mag.dat\"\n",
      "  del sys.path[0]\n",
      "/users/invites/benvegnen/anaconda3/lib/python3.7/site-packages/ipykernel_launcher.py:13: UserWarning: loadtxt: Empty input file: \"destab_D0.11_ly_chihiro/ly12/i7/f_mag.dat\"\n",
      "  del sys.path[0]\n",
      "/users/invites/benvegnen/anaconda3/lib/python3.7/site-packages/ipykernel_launcher.py:13: UserWarning: loadtxt: Empty input file: \"destab_D0.11_ly_chihiro/ly12/i8/f_mag.dat\"\n",
      "  del sys.path[0]\n",
      "/users/invites/benvegnen/anaconda3/lib/python3.7/site-packages/ipykernel_launcher.py:13: UserWarning: loadtxt: Empty input file: \"destab_D0.11_ly_chihiro/ly12/i9/f_mag.dat\"\n",
      "  del sys.path[0]\n",
      "/users/invites/benvegnen/anaconda3/lib/python3.7/site-packages/ipykernel_launcher.py:13: UserWarning: loadtxt: Empty input file: \"destab_D0.11_ly_chihiro/ly12/i10/f_mag.dat\"\n",
      "  del sys.path[0]\n"
     ]
    },
    {
     "name": "stdout",
     "output_type": "stream",
     "text": [
      "12 497\n",
      "13 446\n"
     ]
    },
    {
     "name": "stderr",
     "output_type": "stream",
     "text": [
      "/users/invites/benvegnen/anaconda3/lib/python3.7/site-packages/ipykernel_launcher.py:13: UserWarning: loadtxt: Empty input file: \"destab_D0.11_ly_chihiro/ly13/i1/f_mag.dat\"\n",
      "  del sys.path[0]\n",
      "/users/invites/benvegnen/anaconda3/lib/python3.7/site-packages/ipykernel_launcher.py:13: UserWarning: loadtxt: Empty input file: \"destab_D0.11_ly_chihiro/ly13/i3/f_mag.dat\"\n",
      "  del sys.path[0]\n",
      "/users/invites/benvegnen/anaconda3/lib/python3.7/site-packages/ipykernel_launcher.py:13: UserWarning: loadtxt: Empty input file: \"destab_D0.11_ly_chihiro/ly13/i4/f_mag.dat\"\n",
      "  del sys.path[0]\n",
      "/users/invites/benvegnen/anaconda3/lib/python3.7/site-packages/ipykernel_launcher.py:13: UserWarning: loadtxt: Empty input file: \"destab_D0.11_ly_chihiro/ly13/i5/f_mag.dat\"\n",
      "  del sys.path[0]\n",
      "/users/invites/benvegnen/anaconda3/lib/python3.7/site-packages/ipykernel_launcher.py:13: UserWarning: loadtxt: Empty input file: \"destab_D0.11_ly_chihiro/ly13/i6/f_mag.dat\"\n",
      "  del sys.path[0]\n",
      "/users/invites/benvegnen/anaconda3/lib/python3.7/site-packages/ipykernel_launcher.py:13: UserWarning: loadtxt: Empty input file: \"destab_D0.11_ly_chihiro/ly13/i7/f_mag.dat\"\n",
      "  del sys.path[0]\n",
      "/users/invites/benvegnen/anaconda3/lib/python3.7/site-packages/ipykernel_launcher.py:13: UserWarning: loadtxt: Empty input file: \"destab_D0.11_ly_chihiro/ly13/i9/f_mag.dat\"\n",
      "  del sys.path[0]\n",
      "/users/invites/benvegnen/anaconda3/lib/python3.7/site-packages/ipykernel_launcher.py:13: UserWarning: loadtxt: Empty input file: \"destab_D0.11_ly_chihiro/ly13/i10/f_mag.dat\"\n",
      "  del sys.path[0]\n",
      "/users/invites/benvegnen/anaconda3/lib/python3.7/site-packages/ipykernel_launcher.py:13: UserWarning: loadtxt: Empty input file: \"destab_D0.11_ly_chihiro/ly14/i0/f_mag.dat\"\n",
      "  del sys.path[0]\n",
      "/users/invites/benvegnen/anaconda3/lib/python3.7/site-packages/ipykernel_launcher.py:13: UserWarning: loadtxt: Empty input file: \"destab_D0.11_ly_chihiro/ly14/i1/f_mag.dat\"\n",
      "  del sys.path[0]\n",
      "/users/invites/benvegnen/anaconda3/lib/python3.7/site-packages/ipykernel_launcher.py:13: UserWarning: loadtxt: Empty input file: \"destab_D0.11_ly_chihiro/ly14/i4/f_mag.dat\"\n",
      "  del sys.path[0]\n",
      "/users/invites/benvegnen/anaconda3/lib/python3.7/site-packages/ipykernel_launcher.py:13: UserWarning: loadtxt: Empty input file: \"destab_D0.11_ly_chihiro/ly14/i6/f_mag.dat\"\n",
      "  del sys.path[0]\n",
      "/users/invites/benvegnen/anaconda3/lib/python3.7/site-packages/ipykernel_launcher.py:13: UserWarning: loadtxt: Empty input file: \"destab_D0.11_ly_chihiro/ly14/i8/f_mag.dat\"\n",
      "  del sys.path[0]\n",
      "/users/invites/benvegnen/anaconda3/lib/python3.7/site-packages/ipykernel_launcher.py:13: UserWarning: loadtxt: Empty input file: \"destab_D0.11_ly_chihiro/ly14/i10/f_mag.dat\"\n",
      "  del sys.path[0]\n"
     ]
    },
    {
     "name": "stdout",
     "output_type": "stream",
     "text": [
      "14 279\n",
      "15 5\n"
     ]
    },
    {
     "name": "stderr",
     "output_type": "stream",
     "text": [
      "/users/invites/benvegnen/anaconda3/lib/python3.7/site-packages/ipykernel_launcher.py:13: UserWarning: loadtxt: Empty input file: \"destab_D0.11_ly_chihiro/ly15/i0/f_mag.dat\"\n",
      "  del sys.path[0]\n",
      "/users/invites/benvegnen/anaconda3/lib/python3.7/site-packages/ipykernel_launcher.py:13: UserWarning: loadtxt: Empty input file: \"destab_D0.11_ly_chihiro/ly15/i2/f_mag.dat\"\n",
      "  del sys.path[0]\n",
      "/users/invites/benvegnen/anaconda3/lib/python3.7/site-packages/ipykernel_launcher.py:13: UserWarning: loadtxt: Empty input file: \"destab_D0.11_ly_chihiro/ly15/i3/f_mag.dat\"\n",
      "  del sys.path[0]\n",
      "/users/invites/benvegnen/anaconda3/lib/python3.7/site-packages/ipykernel_launcher.py:13: UserWarning: loadtxt: Empty input file: \"destab_D0.11_ly_chihiro/ly15/i5/f_mag.dat\"\n",
      "  del sys.path[0]\n",
      "/users/invites/benvegnen/anaconda3/lib/python3.7/site-packages/ipykernel_launcher.py:13: UserWarning: loadtxt: Empty input file: \"destab_D0.11_ly_chihiro/ly15/i6/f_mag.dat\"\n",
      "  del sys.path[0]\n",
      "/users/invites/benvegnen/anaconda3/lib/python3.7/site-packages/ipykernel_launcher.py:13: UserWarning: loadtxt: Empty input file: \"destab_D0.11_ly_chihiro/ly15/i7/f_mag.dat\"\n",
      "  del sys.path[0]\n",
      "/users/invites/benvegnen/anaconda3/lib/python3.7/site-packages/ipykernel_launcher.py:13: UserWarning: loadtxt: Empty input file: \"destab_D0.11_ly_chihiro/ly16/i2/f_mag.dat\"\n",
      "  del sys.path[0]\n",
      "/users/invites/benvegnen/anaconda3/lib/python3.7/site-packages/ipykernel_launcher.py:13: UserWarning: loadtxt: Empty input file: \"destab_D0.11_ly_chihiro/ly16/i3/f_mag.dat\"\n",
      "  del sys.path[0]\n",
      "/users/invites/benvegnen/anaconda3/lib/python3.7/site-packages/ipykernel_launcher.py:13: UserWarning: loadtxt: Empty input file: \"destab_D0.11_ly_chihiro/ly16/i5/f_mag.dat\"\n",
      "  del sys.path[0]\n",
      "/users/invites/benvegnen/anaconda3/lib/python3.7/site-packages/ipykernel_launcher.py:13: UserWarning: loadtxt: Empty input file: \"destab_D0.11_ly_chihiro/ly16/i6/f_mag.dat\"\n",
      "  del sys.path[0]\n",
      "/users/invites/benvegnen/anaconda3/lib/python3.7/site-packages/ipykernel_launcher.py:13: UserWarning: loadtxt: Empty input file: \"destab_D0.11_ly_chihiro/ly16/i7/f_mag.dat\"\n",
      "  del sys.path[0]\n",
      "/users/invites/benvegnen/anaconda3/lib/python3.7/site-packages/ipykernel_launcher.py:13: UserWarning: loadtxt: Empty input file: \"destab_D0.11_ly_chihiro/ly16/i8/f_mag.dat\"\n",
      "  del sys.path[0]\n",
      "/users/invites/benvegnen/anaconda3/lib/python3.7/site-packages/ipykernel_launcher.py:13: UserWarning: loadtxt: Empty input file: \"destab_D0.11_ly_chihiro/ly16/i9/f_mag.dat\"\n",
      "  del sys.path[0]\n"
     ]
    },
    {
     "name": "stdout",
     "output_type": "stream",
     "text": [
      "16 2\n",
      "17 8\n",
      "18 4\n"
     ]
    },
    {
     "name": "stderr",
     "output_type": "stream",
     "text": [
      "/users/invites/benvegnen/anaconda3/lib/python3.7/site-packages/ipykernel_launcher.py:13: UserWarning: loadtxt: Empty input file: \"destab_D0.11_ly_chihiro/ly17/i1/f_mag.dat\"\n",
      "  del sys.path[0]\n",
      "/users/invites/benvegnen/anaconda3/lib/python3.7/site-packages/ipykernel_launcher.py:13: UserWarning: loadtxt: Empty input file: \"destab_D0.11_ly_chihiro/ly17/i2/f_mag.dat\"\n",
      "  del sys.path[0]\n",
      "/users/invites/benvegnen/anaconda3/lib/python3.7/site-packages/ipykernel_launcher.py:13: UserWarning: loadtxt: Empty input file: \"destab_D0.11_ly_chihiro/ly17/i4/f_mag.dat\"\n",
      "  del sys.path[0]\n",
      "/users/invites/benvegnen/anaconda3/lib/python3.7/site-packages/ipykernel_launcher.py:13: UserWarning: loadtxt: Empty input file: \"destab_D0.11_ly_chihiro/ly17/i6/f_mag.dat\"\n",
      "  del sys.path[0]\n",
      "/users/invites/benvegnen/anaconda3/lib/python3.7/site-packages/ipykernel_launcher.py:13: UserWarning: loadtxt: Empty input file: \"destab_D0.11_ly_chihiro/ly17/i7/f_mag.dat\"\n",
      "  del sys.path[0]\n",
      "/users/invites/benvegnen/anaconda3/lib/python3.7/site-packages/ipykernel_launcher.py:13: UserWarning: loadtxt: Empty input file: \"destab_D0.11_ly_chihiro/ly17/i8/f_mag.dat\"\n",
      "  del sys.path[0]\n",
      "/users/invites/benvegnen/anaconda3/lib/python3.7/site-packages/ipykernel_launcher.py:13: UserWarning: loadtxt: Empty input file: \"destab_D0.11_ly_chihiro/ly18/i1/f_mag.dat\"\n",
      "  del sys.path[0]\n",
      "/users/invites/benvegnen/anaconda3/lib/python3.7/site-packages/ipykernel_launcher.py:13: UserWarning: loadtxt: Empty input file: \"destab_D0.11_ly_chihiro/ly18/i4/f_mag.dat\"\n",
      "  del sys.path[0]\n",
      "/users/invites/benvegnen/anaconda3/lib/python3.7/site-packages/ipykernel_launcher.py:13: UserWarning: loadtxt: Empty input file: \"destab_D0.11_ly_chihiro/ly18/i5/f_mag.dat\"\n",
      "  del sys.path[0]\n",
      "/users/invites/benvegnen/anaconda3/lib/python3.7/site-packages/ipykernel_launcher.py:13: UserWarning: loadtxt: Empty input file: \"destab_D0.11_ly_chihiro/ly18/i6/f_mag.dat\"\n",
      "  del sys.path[0]\n",
      "/users/invites/benvegnen/anaconda3/lib/python3.7/site-packages/ipykernel_launcher.py:13: UserWarning: loadtxt: Empty input file: \"destab_D0.11_ly_chihiro/ly18/i7/f_mag.dat\"\n",
      "  del sys.path[0]\n",
      "/users/invites/benvegnen/anaconda3/lib/python3.7/site-packages/ipykernel_launcher.py:13: UserWarning: loadtxt: Empty input file: \"destab_D0.11_ly_chihiro/ly18/i8/f_mag.dat\"\n",
      "  del sys.path[0]\n",
      "/users/invites/benvegnen/anaconda3/lib/python3.7/site-packages/ipykernel_launcher.py:13: UserWarning: loadtxt: Empty input file: \"destab_D0.11_ly_chihiro/ly19/i2/f_mag.dat\"\n",
      "  del sys.path[0]\n",
      "/users/invites/benvegnen/anaconda3/lib/python3.7/site-packages/ipykernel_launcher.py:13: UserWarning: loadtxt: Empty input file: \"destab_D0.11_ly_chihiro/ly19/i4/f_mag.dat\"\n",
      "  del sys.path[0]\n",
      "/users/invites/benvegnen/anaconda3/lib/python3.7/site-packages/ipykernel_launcher.py:13: UserWarning: loadtxt: Empty input file: \"destab_D0.11_ly_chihiro/ly19/i6/f_mag.dat\"\n",
      "  del sys.path[0]\n"
     ]
    },
    {
     "name": "stdout",
     "output_type": "stream",
     "text": [
      "19 4\n"
     ]
    },
    {
     "name": "stderr",
     "output_type": "stream",
     "text": [
      "/users/invites/benvegnen/anaconda3/lib/python3.7/site-packages/ipykernel_launcher.py:13: UserWarning: loadtxt: Empty input file: \"destab_D0.11_ly_chihiro/ly19/i8/f_mag.dat\"\n",
      "  del sys.path[0]\n"
     ]
    }
   ],
   "source": [
    "td_11={}\n",
    "for ly in list_ly:\n",
    "    td_11[ly]=np.array([])\n",
    "#     for i in range(21):\n",
    "#         try:\n",
    "#             data=np.loadtxt(\"destab_D0.1_ly/ly%d/i%d/f_mag.dat\"%(ly,i), usecols=(0))[-1]\n",
    "#             td_11[ly].append(data)\n",
    "#         except:\n",
    "#             pass\n",
    "\n",
    "    for i in range(50):\n",
    "        try:\n",
    "            data=np.loadtxt(\"destab_D0.11_ly_chihiro/ly%d/i%d/f_mag.dat\"%(ly,i), usecols=(0))\n",
    "            td_11[ly]=np.concatenate((td_11[ly], data))\n",
    "        except:\n",
    "            pass\n",
    "        \n",
    "    for i in range(50):\n",
    "        try:\n",
    "            data=np.loadtxt(\"destab_D0.11_ly/ly%d/i%d/f_mag.dat\"%(ly,i), usecols=(0))\n",
    "            td_11[ly]=np.concatenate((td_11[ly], data))\n",
    "        except:\n",
    "            pass\n",
    "        \n",
    "    print(ly, len(td_11[ly]))"
   ]
  },
  {
   "cell_type": "code",
   "execution_count": 43,
   "metadata": {
    "scrolled": false
   },
   "outputs": [
    {
     "name": "stderr",
     "output_type": "stream",
     "text": [
      "/users/invites/benvegnen/anaconda3/lib/python3.7/site-packages/numpy/core/fromnumeric.py:3335: RuntimeWarning: Mean of empty slice.\n",
      "  out=out, **kwargs)\n",
      "/users/invites/benvegnen/anaconda3/lib/python3.7/site-packages/numpy/core/_methods.py:161: RuntimeWarning: invalid value encountered in double_scalars\n",
      "  ret = ret.dtype.type(ret / rcount)\n",
      "/users/invites/benvegnen/anaconda3/lib/python3.7/site-packages/numpy/core/_methods.py:217: RuntimeWarning: Degrees of freedom <= 0 for slice\n",
      "  keepdims=keepdims)\n",
      "/users/invites/benvegnen/anaconda3/lib/python3.7/site-packages/numpy/core/_methods.py:186: RuntimeWarning: invalid value encountered in true_divide\n",
      "  arrmean, rcount, out=arrmean, casting='unsafe', subok=False)\n",
      "/users/invites/benvegnen/anaconda3/lib/python3.7/site-packages/numpy/core/_methods.py:209: RuntimeWarning: invalid value encountered in double_scalars\n",
      "  ret = ret.dtype.type(ret / rcount)\n"
     ]
    },
    {
     "data": {
      "image/png": "[encoded data removed]",
      "text/plain": [
       "<Figure size 245.081x151.468 with 1 Axes>"
      ]
     },
     "metadata": {
      "needs_background": "light"
     },
     "output_type": "display_data"
    }
   ],
   "source": [
    "plt.plot([], [])\n",
    "# plt.errorbar(list(td_1),\n",
    "#              [np.mean(td_1[tau]) for tau in td_1],\n",
    "#              yerr=3*np.array([np.std(td_1[tau]) for tau in td_1])/np.sqrt([len(td_1[tau]) for tau in td_1]),\n",
    "#              capsize=0,\n",
    "#              fmt='o',\n",
    "#             label=r'$D=0.10$')\n",
    "\n",
    "plt.plot(np.array(list(td_1)),\n",
    "             np.array(list(td_1))*np.array([np.mean(td_1[tau]) for tau in td_1]),\n",
    "             'o',\n",
    "            label=r'$D=0.10$')\n",
    "\n",
    "plt.errorbar(np.array(list(td_11)),\n",
    "             np.array(list(td_11))*np.array([np.mean(td_11[tau]) for tau in td_11]),\n",
    "             yerr=3*np.array(list(td_11))*np.array([np.std(td_11[tau]) for tau in td_11])/np.sqrt([len(td_11[tau]) for tau in td_11]),\n",
    "             capsize=2,\n",
    "             fmt='o',\n",
    "            label=r'$D=0.11$')\n",
    "\n",
    "plt.errorbar(np.array(list(td_12)),\n",
    "             np.array(list(td_12))*np.array([np.mean(td_12[tau]) for tau in td_12]),\n",
    "             yerr=3*np.array(list(td_12))*np.array([np.std(td_12[tau]) for tau in td_12])/np.sqrt([len(td_12[tau]) for tau in td_12]),\n",
    "             capsize=2,\n",
    "             fmt='o',\n",
    "            label=r'$D=0.12$')\n",
    "\n",
    "plt.errorbar(np.array(list(td_14)),\n",
    "             np.array(list(td_14))*np.array([np.mean(td_14[tau]) for tau in td_14]),\n",
    "             yerr=3*np.array(list(td_14))*np.array([np.std(td_14[tau]) for tau in td_14])/np.sqrt([len(td_14[tau]) for tau in td_12]),\n",
    "             capsize=2,\n",
    "             fmt='o',\n",
    "            label=r'$D=0.14$')\n",
    "\n",
    "plt.hlines(1e8, 1,20)\n",
    "\n",
    "\n",
    "plt.semilogy()\n",
    "plt.legend(loc=(0.3,0.1))\n",
    "\n",
    "plt.xlabel(r'$l_y$', labelpad=-26, x=0.96, rotation=0, zorder=100);\n",
    "plt.ylabel(r'$l_y\\tau_d$', labelpad=-32, y=0.88, rotation=0, zorder=100);\n",
    "\n",
    "plt.tight_layout(pad=0.01)\n",
    "#plt.savefig('tau_d_ly.pdf');"
   ]
  },
  {
   "cell_type": "markdown",
   "metadata": {
    "heading_collapsed": true
   },
   "source": [
    "# Spontaneous destab snapshot"
   ]
  },
  {
   "cell_type": "code",
   "execution_count": 40,
   "metadata": {
    "hidden": true
   },
   "outputs": [],
   "source": [
    "from mpl_toolkits.axes_grid1.inset_locator import inset_axes\n"
   ]
  },
  {
   "cell_type": "code",
   "execution_count": 41,
   "metadata": {
    "hidden": true
   },
   "outputs": [],
   "source": [
    "L=10000"
   ]
  },
  {
   "cell_type": "code",
   "execution_count": 42,
   "metadata": {
    "hidden": true,
    "scrolled": true
   },
   "outputs": [
    {
     "name": "stderr",
     "output_type": "stream",
     "text": [
      "/users/invites/benvegnen/anaconda3/lib/python3.7/site-packages/fastparquet/dataframe.py:5: FutureWarning: pandas.core.index is deprecated and will be removed in a future version.  The public classes are available in the top-level namespace.\n",
      "  from pandas.core.index import CategoricalIndex, RangeIndex, Index, MultiIndex\n"
     ]
    }
   ],
   "source": [
    "import matplotlib.pyplot as plt\n",
    "import numpy as np\n",
    "import pandas as pd\n",
    "\n",
    "def outputSnap(df,kt):\n",
    "    t0=np.unique(df.t)[kt]\n",
    "    v0=10\n",
    "    X_m=df[df.t==t0].drop(columns=['t'])\n",
    "    np.savetxt('snap_kt%d.dat'%kt, X_m)\n",
    "    return()\n",
    "\n",
    "df=pd.read_parquet('f_profiles_m.parquet')\n"
   ]
  },
  {
   "cell_type": "code",
   "execution_count": 57,
   "metadata": {
    "hidden": true
   },
   "outputs": [
    {
     "data": {
      "text/plain": [
       "()"
      ]
     },
     "execution_count": 57,
     "metadata": {},
     "output_type": "execute_result"
    }
   ],
   "source": [
    "outputSnap(df_m,0)"
   ]
  },
  {
   "cell_type": "code",
   "execution_count": 61,
   "metadata": {
    "hidden": true
   },
   "outputs": [],
   "source": [
    "t0=np.unique(df_m.t)"
   ]
  },
  {
   "cell_type": "code",
   "execution_count": 63,
   "metadata": {
    "hidden": true
   },
   "outputs": [
    {
     "data": {
      "text/plain": [
       "(6755,)"
      ]
     },
     "execution_count": 63,
     "metadata": {},
     "output_type": "execute_result"
    }
   ],
   "source": [
    "t0.shape"
   ]
  },
  {
   "cell_type": "code",
   "execution_count": 64,
   "metadata": {
    "hidden": true
   },
   "outputs": [
    {
     "data": {
      "image/png": "[encoded data removed]",
      "text/plain": [
       "<Figure size 245.081x81.6936 with 2 Axes>"
      ]
     },
     "metadata": {
      "needs_background": "light"
     },
     "output_type": "display_data"
    }
   ],
   "source": [
    "kt=1490\n",
    "t0=np.unique(df_m.t)[kt]\n",
    "v0=10\n",
    "X_m=df_m[df_m.t==t0].drop(columns=['t'])\n",
    "img=plt.imshow(X_m, cmap='PiYG', vmin=-v0, vmax=v0, aspect=\"auto\")\n",
    "\n",
    "#plt.xlim(1000,2000)\n",
    "cbar = plt.colorbar(img)\n",
    "cbar.set_label('Magnetization')"
   ]
  },
  {
   "cell_type": "code",
   "execution_count": 55,
   "metadata": {
    "hidden": true
   },
   "outputs": [],
   "source": [
    "np.savetxt('snap_kt%d.dat'%kt, X_m)"
   ]
  },
  {
   "cell_type": "code",
   "execution_count": 43,
   "metadata": {
    "hidden": true
   },
   "outputs": [],
   "source": [
    "fig_width_pt = 246  # Get this from LaTeX using \\showthe\\columnwidth\n",
    "                      # For PRL columnwidth is 246pt.\n",
    "golden_mean = (np.sqrt(5)+1.0)/2.0         # Aesthetic ratio\n",
    "\n",
    "fig_height_pt = fig_width_pt/3\n",
    "inches_per_pt = 1.0/72.27               # Convert pt to inch\n",
    "fig_width = fig_width_pt*inches_per_pt  # width in inches\n",
    "fig_height = fig_height_pt*inches_per_pt      # height in inches\n",
    "fig_size =  [fig_width,fig_height]\n",
    "params = {'backend': 'ps',\n",
    "          'axes.labelsize': 10,\n",
    "          'font.size': 10,\n",
    "          'xtick.labelsize': 7,\n",
    "          'xtick.direction': 'out',\n",
    "          'ytick.labelsize': 7,\n",
    "          'ytick.direction': 'out',\n",
    "          'ytick.major.pad': 1,\n",
    "          'xtick.major.pad': 1,\n",
    "          'text.usetex': True,\n",
    "          'figure.figsize': fig_size,\n",
    "          'legend.frameon': False,\n",
    "          'legend.fancybox': False}\n",
    "plt.rcParams.update(params)"
   ]
  },
  {
   "cell_type": "code",
   "execution_count": 44,
   "metadata": {
    "hidden": true
   },
   "outputs": [],
   "source": [
    "from matplotlib import cm\n",
    "from matplotlib.colors import ListedColormap, LinearSegmentedColormap\n",
    "\n",
    "\n",
    "top = cm.get_cmap('PuBu_r', 128)\n",
    "bottom = cm.get_cmap('YlOrBr', 128)\n",
    "middle = (1,1,1,1)\n",
    "newcolors = np.vstack((top(np.linspace(0, 1, 20)),\n",
    "                       bottom(np.linspace(0, 1, 128))))\n",
    "newcmp = ListedColormap(newcolors, name='OrangeBlue')"
   ]
  },
  {
   "cell_type": "code",
   "execution_count": 49,
   "metadata": {
    "hidden": true
   },
   "outputs": [
    {
     "data": {
      "text/html": [
       "<div>\n",
       "<style scoped>\n",
       "    .dataframe tbody tr th:only-of-type {\n",
       "        vertical-align: middle;\n",
       "    }\n",
       "\n",
       "    .dataframe tbody tr th {\n",
       "        vertical-align: top;\n",
       "    }\n",
       "\n",
       "    .dataframe thead th {\n",
       "        text-align: right;\n",
       "    }\n",
       "</style>\n",
       "<table border=\"1\" class=\"dataframe\">\n",
       "  <thead>\n",
       "    <tr style=\"text-align: right;\">\n",
       "      <th></th>\n",
       "      <th>t</th>\n",
       "      <th>0</th>\n",
       "      <th>1</th>\n",
       "      <th>2</th>\n",
       "      <th>3</th>\n",
       "      <th>4</th>\n",
       "      <th>5</th>\n",
       "      <th>6</th>\n",
       "      <th>7</th>\n",
       "      <th>8</th>\n",
       "      <th>...</th>\n",
       "      <th>9990</th>\n",
       "      <th>9991</th>\n",
       "      <th>9992</th>\n",
       "      <th>9993</th>\n",
       "      <th>9994</th>\n",
       "      <th>9995</th>\n",
       "      <th>9996</th>\n",
       "      <th>9997</th>\n",
       "      <th>9998</th>\n",
       "      <th>9999</th>\n",
       "    </tr>\n",
       "  </thead>\n",
       "  <tbody>\n",
       "    <tr>\n",
       "      <th>0</th>\n",
       "      <td>0.0</td>\n",
       "      <td>7.0</td>\n",
       "      <td>8.0</td>\n",
       "      <td>12.0</td>\n",
       "      <td>7.0</td>\n",
       "      <td>6.0</td>\n",
       "      <td>10.0</td>\n",
       "      <td>8.0</td>\n",
       "      <td>6.0</td>\n",
       "      <td>7.0</td>\n",
       "      <td>...</td>\n",
       "      <td>8.0</td>\n",
       "      <td>12.0</td>\n",
       "      <td>4.0</td>\n",
       "      <td>8.0</td>\n",
       "      <td>5.0</td>\n",
       "      <td>10.0</td>\n",
       "      <td>9.0</td>\n",
       "      <td>10.0</td>\n",
       "      <td>11.0</td>\n",
       "      <td>6.0</td>\n",
       "    </tr>\n",
       "    <tr>\n",
       "      <th>1</th>\n",
       "      <td>0.0</td>\n",
       "      <td>5.0</td>\n",
       "      <td>11.0</td>\n",
       "      <td>8.0</td>\n",
       "      <td>5.0</td>\n",
       "      <td>6.0</td>\n",
       "      <td>9.0</td>\n",
       "      <td>5.0</td>\n",
       "      <td>8.0</td>\n",
       "      <td>7.0</td>\n",
       "      <td>...</td>\n",
       "      <td>11.0</td>\n",
       "      <td>7.0</td>\n",
       "      <td>12.0</td>\n",
       "      <td>11.0</td>\n",
       "      <td>11.0</td>\n",
       "      <td>9.0</td>\n",
       "      <td>9.0</td>\n",
       "      <td>10.0</td>\n",
       "      <td>5.0</td>\n",
       "      <td>9.0</td>\n",
       "    </tr>\n",
       "    <tr>\n",
       "      <th>2</th>\n",
       "      <td>0.0</td>\n",
       "      <td>5.0</td>\n",
       "      <td>7.0</td>\n",
       "      <td>7.0</td>\n",
       "      <td>6.0</td>\n",
       "      <td>8.0</td>\n",
       "      <td>6.0</td>\n",
       "      <td>7.0</td>\n",
       "      <td>7.0</td>\n",
       "      <td>8.0</td>\n",
       "      <td>...</td>\n",
       "      <td>10.0</td>\n",
       "      <td>8.0</td>\n",
       "      <td>4.0</td>\n",
       "      <td>8.0</td>\n",
       "      <td>5.0</td>\n",
       "      <td>6.0</td>\n",
       "      <td>9.0</td>\n",
       "      <td>9.0</td>\n",
       "      <td>6.0</td>\n",
       "      <td>6.0</td>\n",
       "    </tr>\n",
       "    <tr>\n",
       "      <th>3</th>\n",
       "      <td>0.0</td>\n",
       "      <td>2.0</td>\n",
       "      <td>5.0</td>\n",
       "      <td>8.0</td>\n",
       "      <td>12.0</td>\n",
       "      <td>3.0</td>\n",
       "      <td>4.0</td>\n",
       "      <td>5.0</td>\n",
       "      <td>7.0</td>\n",
       "      <td>8.0</td>\n",
       "      <td>...</td>\n",
       "      <td>5.0</td>\n",
       "      <td>8.0</td>\n",
       "      <td>10.0</td>\n",
       "      <td>13.0</td>\n",
       "      <td>12.0</td>\n",
       "      <td>9.0</td>\n",
       "      <td>5.0</td>\n",
       "      <td>6.0</td>\n",
       "      <td>9.0</td>\n",
       "      <td>5.0</td>\n",
       "    </tr>\n",
       "    <tr>\n",
       "      <th>4</th>\n",
       "      <td>0.0</td>\n",
       "      <td>10.0</td>\n",
       "      <td>15.0</td>\n",
       "      <td>15.0</td>\n",
       "      <td>7.0</td>\n",
       "      <td>9.0</td>\n",
       "      <td>5.0</td>\n",
       "      <td>3.0</td>\n",
       "      <td>4.0</td>\n",
       "      <td>8.0</td>\n",
       "      <td>...</td>\n",
       "      <td>9.0</td>\n",
       "      <td>13.0</td>\n",
       "      <td>16.0</td>\n",
       "      <td>6.0</td>\n",
       "      <td>5.0</td>\n",
       "      <td>8.0</td>\n",
       "      <td>9.0</td>\n",
       "      <td>9.0</td>\n",
       "      <td>7.0</td>\n",
       "      <td>7.0</td>\n",
       "    </tr>\n",
       "    <tr>\n",
       "      <th>5</th>\n",
       "      <td>0.0</td>\n",
       "      <td>13.0</td>\n",
       "      <td>4.0</td>\n",
       "      <td>2.0</td>\n",
       "      <td>7.0</td>\n",
       "      <td>6.0</td>\n",
       "      <td>8.0</td>\n",
       "      <td>4.0</td>\n",
       "      <td>4.0</td>\n",
       "      <td>3.0</td>\n",
       "      <td>...</td>\n",
       "      <td>5.0</td>\n",
       "      <td>10.0</td>\n",
       "      <td>5.0</td>\n",
       "      <td>9.0</td>\n",
       "      <td>6.0</td>\n",
       "      <td>4.0</td>\n",
       "      <td>9.0</td>\n",
       "      <td>4.0</td>\n",
       "      <td>10.0</td>\n",
       "      <td>10.0</td>\n",
       "    </tr>\n",
       "    <tr>\n",
       "      <th>6</th>\n",
       "      <td>0.0</td>\n",
       "      <td>6.0</td>\n",
       "      <td>8.0</td>\n",
       "      <td>6.0</td>\n",
       "      <td>6.0</td>\n",
       "      <td>11.0</td>\n",
       "      <td>10.0</td>\n",
       "      <td>10.0</td>\n",
       "      <td>8.0</td>\n",
       "      <td>5.0</td>\n",
       "      <td>...</td>\n",
       "      <td>13.0</td>\n",
       "      <td>7.0</td>\n",
       "      <td>9.0</td>\n",
       "      <td>8.0</td>\n",
       "      <td>9.0</td>\n",
       "      <td>12.0</td>\n",
       "      <td>12.0</td>\n",
       "      <td>7.0</td>\n",
       "      <td>10.0</td>\n",
       "      <td>7.0</td>\n",
       "    </tr>\n",
       "    <tr>\n",
       "      <th>7</th>\n",
       "      <td>0.0</td>\n",
       "      <td>5.0</td>\n",
       "      <td>7.0</td>\n",
       "      <td>6.0</td>\n",
       "      <td>13.0</td>\n",
       "      <td>4.0</td>\n",
       "      <td>3.0</td>\n",
       "      <td>8.0</td>\n",
       "      <td>9.0</td>\n",
       "      <td>5.0</td>\n",
       "      <td>...</td>\n",
       "      <td>10.0</td>\n",
       "      <td>9.0</td>\n",
       "      <td>9.0</td>\n",
       "      <td>6.0</td>\n",
       "      <td>9.0</td>\n",
       "      <td>8.0</td>\n",
       "      <td>4.0</td>\n",
       "      <td>9.0</td>\n",
       "      <td>4.0</td>\n",
       "      <td>11.0</td>\n",
       "    </tr>\n",
       "    <tr>\n",
       "      <th>8</th>\n",
       "      <td>0.0</td>\n",
       "      <td>5.0</td>\n",
       "      <td>4.0</td>\n",
       "      <td>10.0</td>\n",
       "      <td>14.0</td>\n",
       "      <td>13.0</td>\n",
       "      <td>10.0</td>\n",
       "      <td>11.0</td>\n",
       "      <td>12.0</td>\n",
       "      <td>12.0</td>\n",
       "      <td>...</td>\n",
       "      <td>8.0</td>\n",
       "      <td>12.0</td>\n",
       "      <td>5.0</td>\n",
       "      <td>5.0</td>\n",
       "      <td>12.0</td>\n",
       "      <td>3.0</td>\n",
       "      <td>6.0</td>\n",
       "      <td>8.0</td>\n",
       "      <td>12.0</td>\n",
       "      <td>7.0</td>\n",
       "    </tr>\n",
       "    <tr>\n",
       "      <th>9</th>\n",
       "      <td>0.0</td>\n",
       "      <td>7.0</td>\n",
       "      <td>12.0</td>\n",
       "      <td>13.0</td>\n",
       "      <td>8.0</td>\n",
       "      <td>14.0</td>\n",
       "      <td>5.0</td>\n",
       "      <td>12.0</td>\n",
       "      <td>6.0</td>\n",
       "      <td>8.0</td>\n",
       "      <td>...</td>\n",
       "      <td>6.0</td>\n",
       "      <td>12.0</td>\n",
       "      <td>9.0</td>\n",
       "      <td>12.0</td>\n",
       "      <td>8.0</td>\n",
       "      <td>9.0</td>\n",
       "      <td>7.0</td>\n",
       "      <td>11.0</td>\n",
       "      <td>10.0</td>\n",
       "      <td>10.0</td>\n",
       "    </tr>\n",
       "    <tr>\n",
       "      <th>10</th>\n",
       "      <td>0.0</td>\n",
       "      <td>9.0</td>\n",
       "      <td>12.0</td>\n",
       "      <td>6.0</td>\n",
       "      <td>8.0</td>\n",
       "      <td>6.0</td>\n",
       "      <td>12.0</td>\n",
       "      <td>7.0</td>\n",
       "      <td>10.0</td>\n",
       "      <td>9.0</td>\n",
       "      <td>...</td>\n",
       "      <td>16.0</td>\n",
       "      <td>11.0</td>\n",
       "      <td>5.0</td>\n",
       "      <td>5.0</td>\n",
       "      <td>9.0</td>\n",
       "      <td>3.0</td>\n",
       "      <td>7.0</td>\n",
       "      <td>7.0</td>\n",
       "      <td>8.0</td>\n",
       "      <td>10.0</td>\n",
       "    </tr>\n",
       "    <tr>\n",
       "      <th>11</th>\n",
       "      <td>0.0</td>\n",
       "      <td>5.0</td>\n",
       "      <td>4.0</td>\n",
       "      <td>12.0</td>\n",
       "      <td>0.0</td>\n",
       "      <td>3.0</td>\n",
       "      <td>5.0</td>\n",
       "      <td>9.0</td>\n",
       "      <td>6.0</td>\n",
       "      <td>14.0</td>\n",
       "      <td>...</td>\n",
       "      <td>7.0</td>\n",
       "      <td>8.0</td>\n",
       "      <td>10.0</td>\n",
       "      <td>9.0</td>\n",
       "      <td>7.0</td>\n",
       "      <td>6.0</td>\n",
       "      <td>7.0</td>\n",
       "      <td>9.0</td>\n",
       "      <td>7.0</td>\n",
       "      <td>11.0</td>\n",
       "    </tr>\n",
       "    <tr>\n",
       "      <th>12</th>\n",
       "      <td>0.0</td>\n",
       "      <td>14.0</td>\n",
       "      <td>9.0</td>\n",
       "      <td>5.0</td>\n",
       "      <td>10.0</td>\n",
       "      <td>6.0</td>\n",
       "      <td>7.0</td>\n",
       "      <td>9.0</td>\n",
       "      <td>4.0</td>\n",
       "      <td>9.0</td>\n",
       "      <td>...</td>\n",
       "      <td>12.0</td>\n",
       "      <td>12.0</td>\n",
       "      <td>14.0</td>\n",
       "      <td>8.0</td>\n",
       "      <td>8.0</td>\n",
       "      <td>9.0</td>\n",
       "      <td>13.0</td>\n",
       "      <td>9.0</td>\n",
       "      <td>8.0</td>\n",
       "      <td>5.0</td>\n",
       "    </tr>\n",
       "    <tr>\n",
       "      <th>13</th>\n",
       "      <td>0.0</td>\n",
       "      <td>6.0</td>\n",
       "      <td>13.0</td>\n",
       "      <td>6.0</td>\n",
       "      <td>6.0</td>\n",
       "      <td>14.0</td>\n",
       "      <td>7.0</td>\n",
       "      <td>7.0</td>\n",
       "      <td>8.0</td>\n",
       "      <td>8.0</td>\n",
       "      <td>...</td>\n",
       "      <td>10.0</td>\n",
       "      <td>8.0</td>\n",
       "      <td>9.0</td>\n",
       "      <td>6.0</td>\n",
       "      <td>6.0</td>\n",
       "      <td>6.0</td>\n",
       "      <td>6.0</td>\n",
       "      <td>11.0</td>\n",
       "      <td>8.0</td>\n",
       "      <td>8.0</td>\n",
       "    </tr>\n",
       "    <tr>\n",
       "      <th>14</th>\n",
       "      <td>0.0</td>\n",
       "      <td>8.0</td>\n",
       "      <td>7.0</td>\n",
       "      <td>5.0</td>\n",
       "      <td>11.0</td>\n",
       "      <td>6.0</td>\n",
       "      <td>7.0</td>\n",
       "      <td>7.0</td>\n",
       "      <td>9.0</td>\n",
       "      <td>6.0</td>\n",
       "      <td>...</td>\n",
       "      <td>8.0</td>\n",
       "      <td>4.0</td>\n",
       "      <td>7.0</td>\n",
       "      <td>8.0</td>\n",
       "      <td>13.0</td>\n",
       "      <td>7.0</td>\n",
       "      <td>10.0</td>\n",
       "      <td>7.0</td>\n",
       "      <td>10.0</td>\n",
       "      <td>12.0</td>\n",
       "    </tr>\n",
       "    <tr>\n",
       "      <th>15</th>\n",
       "      <td>0.0</td>\n",
       "      <td>7.0</td>\n",
       "      <td>5.0</td>\n",
       "      <td>12.0</td>\n",
       "      <td>8.0</td>\n",
       "      <td>7.0</td>\n",
       "      <td>6.0</td>\n",
       "      <td>7.0</td>\n",
       "      <td>8.0</td>\n",
       "      <td>8.0</td>\n",
       "      <td>...</td>\n",
       "      <td>10.0</td>\n",
       "      <td>10.0</td>\n",
       "      <td>9.0</td>\n",
       "      <td>5.0</td>\n",
       "      <td>8.0</td>\n",
       "      <td>9.0</td>\n",
       "      <td>11.0</td>\n",
       "      <td>7.0</td>\n",
       "      <td>10.0</td>\n",
       "      <td>7.0</td>\n",
       "    </tr>\n",
       "    <tr>\n",
       "      <th>16</th>\n",
       "      <td>0.0</td>\n",
       "      <td>8.0</td>\n",
       "      <td>7.0</td>\n",
       "      <td>7.0</td>\n",
       "      <td>10.0</td>\n",
       "      <td>9.0</td>\n",
       "      <td>6.0</td>\n",
       "      <td>7.0</td>\n",
       "      <td>4.0</td>\n",
       "      <td>13.0</td>\n",
       "      <td>...</td>\n",
       "      <td>11.0</td>\n",
       "      <td>5.0</td>\n",
       "      <td>10.0</td>\n",
       "      <td>9.0</td>\n",
       "      <td>6.0</td>\n",
       "      <td>10.0</td>\n",
       "      <td>8.0</td>\n",
       "      <td>4.0</td>\n",
       "      <td>8.0</td>\n",
       "      <td>13.0</td>\n",
       "    </tr>\n",
       "    <tr>\n",
       "      <th>17</th>\n",
       "      <td>0.0</td>\n",
       "      <td>6.0</td>\n",
       "      <td>9.0</td>\n",
       "      <td>8.0</td>\n",
       "      <td>4.0</td>\n",
       "      <td>8.0</td>\n",
       "      <td>6.0</td>\n",
       "      <td>9.0</td>\n",
       "      <td>10.0</td>\n",
       "      <td>7.0</td>\n",
       "      <td>...</td>\n",
       "      <td>12.0</td>\n",
       "      <td>4.0</td>\n",
       "      <td>11.0</td>\n",
       "      <td>12.0</td>\n",
       "      <td>8.0</td>\n",
       "      <td>4.0</td>\n",
       "      <td>8.0</td>\n",
       "      <td>8.0</td>\n",
       "      <td>5.0</td>\n",
       "      <td>4.0</td>\n",
       "    </tr>\n",
       "    <tr>\n",
       "      <th>18</th>\n",
       "      <td>0.0</td>\n",
       "      <td>8.0</td>\n",
       "      <td>9.0</td>\n",
       "      <td>13.0</td>\n",
       "      <td>8.0</td>\n",
       "      <td>11.0</td>\n",
       "      <td>7.0</td>\n",
       "      <td>15.0</td>\n",
       "      <td>9.0</td>\n",
       "      <td>10.0</td>\n",
       "      <td>...</td>\n",
       "      <td>4.0</td>\n",
       "      <td>12.0</td>\n",
       "      <td>9.0</td>\n",
       "      <td>12.0</td>\n",
       "      <td>7.0</td>\n",
       "      <td>10.0</td>\n",
       "      <td>9.0</td>\n",
       "      <td>10.0</td>\n",
       "      <td>8.0</td>\n",
       "      <td>4.0</td>\n",
       "    </tr>\n",
       "    <tr>\n",
       "      <th>19</th>\n",
       "      <td>0.0</td>\n",
       "      <td>4.0</td>\n",
       "      <td>7.0</td>\n",
       "      <td>12.0</td>\n",
       "      <td>7.0</td>\n",
       "      <td>8.0</td>\n",
       "      <td>8.0</td>\n",
       "      <td>13.0</td>\n",
       "      <td>7.0</td>\n",
       "      <td>8.0</td>\n",
       "      <td>...</td>\n",
       "      <td>7.0</td>\n",
       "      <td>10.0</td>\n",
       "      <td>10.0</td>\n",
       "      <td>11.0</td>\n",
       "      <td>6.0</td>\n",
       "      <td>6.0</td>\n",
       "      <td>7.0</td>\n",
       "      <td>12.0</td>\n",
       "      <td>5.0</td>\n",
       "      <td>9.0</td>\n",
       "    </tr>\n",
       "    <tr>\n",
       "      <th>20</th>\n",
       "      <td>0.0</td>\n",
       "      <td>7.0</td>\n",
       "      <td>12.0</td>\n",
       "      <td>5.0</td>\n",
       "      <td>6.0</td>\n",
       "      <td>8.0</td>\n",
       "      <td>11.0</td>\n",
       "      <td>6.0</td>\n",
       "      <td>7.0</td>\n",
       "      <td>9.0</td>\n",
       "      <td>...</td>\n",
       "      <td>9.0</td>\n",
       "      <td>13.0</td>\n",
       "      <td>11.0</td>\n",
       "      <td>8.0</td>\n",
       "      <td>13.0</td>\n",
       "      <td>8.0</td>\n",
       "      <td>6.0</td>\n",
       "      <td>8.0</td>\n",
       "      <td>7.0</td>\n",
       "      <td>15.0</td>\n",
       "    </tr>\n",
       "    <tr>\n",
       "      <th>21</th>\n",
       "      <td>0.0</td>\n",
       "      <td>6.0</td>\n",
       "      <td>9.0</td>\n",
       "      <td>8.0</td>\n",
       "      <td>6.0</td>\n",
       "      <td>3.0</td>\n",
       "      <td>12.0</td>\n",
       "      <td>6.0</td>\n",
       "      <td>7.0</td>\n",
       "      <td>10.0</td>\n",
       "      <td>...</td>\n",
       "      <td>7.0</td>\n",
       "      <td>7.0</td>\n",
       "      <td>12.0</td>\n",
       "      <td>10.0</td>\n",
       "      <td>11.0</td>\n",
       "      <td>8.0</td>\n",
       "      <td>11.0</td>\n",
       "      <td>9.0</td>\n",
       "      <td>10.0</td>\n",
       "      <td>10.0</td>\n",
       "    </tr>\n",
       "    <tr>\n",
       "      <th>22</th>\n",
       "      <td>0.0</td>\n",
       "      <td>6.0</td>\n",
       "      <td>8.0</td>\n",
       "      <td>10.0</td>\n",
       "      <td>6.0</td>\n",
       "      <td>5.0</td>\n",
       "      <td>4.0</td>\n",
       "      <td>6.0</td>\n",
       "      <td>13.0</td>\n",
       "      <td>8.0</td>\n",
       "      <td>...</td>\n",
       "      <td>9.0</td>\n",
       "      <td>5.0</td>\n",
       "      <td>8.0</td>\n",
       "      <td>9.0</td>\n",
       "      <td>9.0</td>\n",
       "      <td>7.0</td>\n",
       "      <td>6.0</td>\n",
       "      <td>4.0</td>\n",
       "      <td>11.0</td>\n",
       "      <td>9.0</td>\n",
       "    </tr>\n",
       "    <tr>\n",
       "      <th>23</th>\n",
       "      <td>0.0</td>\n",
       "      <td>7.0</td>\n",
       "      <td>6.0</td>\n",
       "      <td>4.0</td>\n",
       "      <td>7.0</td>\n",
       "      <td>3.0</td>\n",
       "      <td>6.0</td>\n",
       "      <td>8.0</td>\n",
       "      <td>2.0</td>\n",
       "      <td>8.0</td>\n",
       "      <td>...</td>\n",
       "      <td>5.0</td>\n",
       "      <td>10.0</td>\n",
       "      <td>13.0</td>\n",
       "      <td>7.0</td>\n",
       "      <td>12.0</td>\n",
       "      <td>7.0</td>\n",
       "      <td>17.0</td>\n",
       "      <td>6.0</td>\n",
       "      <td>8.0</td>\n",
       "      <td>9.0</td>\n",
       "    </tr>\n",
       "    <tr>\n",
       "      <th>24</th>\n",
       "      <td>0.0</td>\n",
       "      <td>6.0</td>\n",
       "      <td>5.0</td>\n",
       "      <td>12.0</td>\n",
       "      <td>4.0</td>\n",
       "      <td>8.0</td>\n",
       "      <td>7.0</td>\n",
       "      <td>9.0</td>\n",
       "      <td>10.0</td>\n",
       "      <td>1.0</td>\n",
       "      <td>...</td>\n",
       "      <td>6.0</td>\n",
       "      <td>8.0</td>\n",
       "      <td>8.0</td>\n",
       "      <td>4.0</td>\n",
       "      <td>8.0</td>\n",
       "      <td>6.0</td>\n",
       "      <td>12.0</td>\n",
       "      <td>10.0</td>\n",
       "      <td>10.0</td>\n",
       "      <td>8.0</td>\n",
       "    </tr>\n",
       "    <tr>\n",
       "      <th>25</th>\n",
       "      <td>0.0</td>\n",
       "      <td>10.0</td>\n",
       "      <td>6.0</td>\n",
       "      <td>6.0</td>\n",
       "      <td>8.0</td>\n",
       "      <td>7.0</td>\n",
       "      <td>11.0</td>\n",
       "      <td>6.0</td>\n",
       "      <td>8.0</td>\n",
       "      <td>1.0</td>\n",
       "      <td>...</td>\n",
       "      <td>11.0</td>\n",
       "      <td>8.0</td>\n",
       "      <td>8.0</td>\n",
       "      <td>6.0</td>\n",
       "      <td>11.0</td>\n",
       "      <td>8.0</td>\n",
       "      <td>9.0</td>\n",
       "      <td>4.0</td>\n",
       "      <td>8.0</td>\n",
       "      <td>4.0</td>\n",
       "    </tr>\n",
       "    <tr>\n",
       "      <th>26</th>\n",
       "      <td>0.0</td>\n",
       "      <td>5.0</td>\n",
       "      <td>12.0</td>\n",
       "      <td>7.0</td>\n",
       "      <td>5.0</td>\n",
       "      <td>9.0</td>\n",
       "      <td>7.0</td>\n",
       "      <td>9.0</td>\n",
       "      <td>9.0</td>\n",
       "      <td>13.0</td>\n",
       "      <td>...</td>\n",
       "      <td>9.0</td>\n",
       "      <td>9.0</td>\n",
       "      <td>5.0</td>\n",
       "      <td>7.0</td>\n",
       "      <td>6.0</td>\n",
       "      <td>9.0</td>\n",
       "      <td>12.0</td>\n",
       "      <td>12.0</td>\n",
       "      <td>11.0</td>\n",
       "      <td>9.0</td>\n",
       "    </tr>\n",
       "    <tr>\n",
       "      <th>27</th>\n",
       "      <td>0.0</td>\n",
       "      <td>7.0</td>\n",
       "      <td>8.0</td>\n",
       "      <td>8.0</td>\n",
       "      <td>5.0</td>\n",
       "      <td>6.0</td>\n",
       "      <td>5.0</td>\n",
       "      <td>7.0</td>\n",
       "      <td>11.0</td>\n",
       "      <td>10.0</td>\n",
       "      <td>...</td>\n",
       "      <td>6.0</td>\n",
       "      <td>8.0</td>\n",
       "      <td>15.0</td>\n",
       "      <td>6.0</td>\n",
       "      <td>5.0</td>\n",
       "      <td>8.0</td>\n",
       "      <td>10.0</td>\n",
       "      <td>8.0</td>\n",
       "      <td>5.0</td>\n",
       "      <td>15.0</td>\n",
       "    </tr>\n",
       "    <tr>\n",
       "      <th>28</th>\n",
       "      <td>0.0</td>\n",
       "      <td>7.0</td>\n",
       "      <td>7.0</td>\n",
       "      <td>7.0</td>\n",
       "      <td>8.0</td>\n",
       "      <td>8.0</td>\n",
       "      <td>7.0</td>\n",
       "      <td>6.0</td>\n",
       "      <td>6.0</td>\n",
       "      <td>7.0</td>\n",
       "      <td>...</td>\n",
       "      <td>10.0</td>\n",
       "      <td>4.0</td>\n",
       "      <td>8.0</td>\n",
       "      <td>6.0</td>\n",
       "      <td>8.0</td>\n",
       "      <td>10.0</td>\n",
       "      <td>9.0</td>\n",
       "      <td>4.0</td>\n",
       "      <td>8.0</td>\n",
       "      <td>11.0</td>\n",
       "    </tr>\n",
       "    <tr>\n",
       "      <th>29</th>\n",
       "      <td>0.0</td>\n",
       "      <td>12.0</td>\n",
       "      <td>9.0</td>\n",
       "      <td>4.0</td>\n",
       "      <td>10.0</td>\n",
       "      <td>4.0</td>\n",
       "      <td>7.0</td>\n",
       "      <td>9.0</td>\n",
       "      <td>7.0</td>\n",
       "      <td>10.0</td>\n",
       "      <td>...</td>\n",
       "      <td>6.0</td>\n",
       "      <td>10.0</td>\n",
       "      <td>6.0</td>\n",
       "      <td>9.0</td>\n",
       "      <td>8.0</td>\n",
       "      <td>9.0</td>\n",
       "      <td>4.0</td>\n",
       "      <td>9.0</td>\n",
       "      <td>9.0</td>\n",
       "      <td>6.0</td>\n",
       "    </tr>\n",
       "    <tr>\n",
       "      <th>30</th>\n",
       "      <td>0.0</td>\n",
       "      <td>12.0</td>\n",
       "      <td>7.0</td>\n",
       "      <td>10.0</td>\n",
       "      <td>14.0</td>\n",
       "      <td>9.0</td>\n",
       "      <td>9.0</td>\n",
       "      <td>8.0</td>\n",
       "      <td>7.0</td>\n",
       "      <td>11.0</td>\n",
       "      <td>...</td>\n",
       "      <td>12.0</td>\n",
       "      <td>9.0</td>\n",
       "      <td>9.0</td>\n",
       "      <td>10.0</td>\n",
       "      <td>10.0</td>\n",
       "      <td>10.0</td>\n",
       "      <td>3.0</td>\n",
       "      <td>17.0</td>\n",
       "      <td>8.0</td>\n",
       "      <td>9.0</td>\n",
       "    </tr>\n",
       "    <tr>\n",
       "      <th>31</th>\n",
       "      <td>0.0</td>\n",
       "      <td>6.0</td>\n",
       "      <td>9.0</td>\n",
       "      <td>9.0</td>\n",
       "      <td>7.0</td>\n",
       "      <td>3.0</td>\n",
       "      <td>8.0</td>\n",
       "      <td>10.0</td>\n",
       "      <td>3.0</td>\n",
       "      <td>7.0</td>\n",
       "      <td>...</td>\n",
       "      <td>3.0</td>\n",
       "      <td>4.0</td>\n",
       "      <td>8.0</td>\n",
       "      <td>13.0</td>\n",
       "      <td>4.0</td>\n",
       "      <td>7.0</td>\n",
       "      <td>6.0</td>\n",
       "      <td>8.0</td>\n",
       "      <td>5.0</td>\n",
       "      <td>8.0</td>\n",
       "    </tr>\n",
       "    <tr>\n",
       "      <th>32</th>\n",
       "      <td>0.0</td>\n",
       "      <td>5.0</td>\n",
       "      <td>12.0</td>\n",
       "      <td>5.0</td>\n",
       "      <td>7.0</td>\n",
       "      <td>9.0</td>\n",
       "      <td>3.0</td>\n",
       "      <td>5.0</td>\n",
       "      <td>11.0</td>\n",
       "      <td>7.0</td>\n",
       "      <td>...</td>\n",
       "      <td>7.0</td>\n",
       "      <td>7.0</td>\n",
       "      <td>8.0</td>\n",
       "      <td>4.0</td>\n",
       "      <td>7.0</td>\n",
       "      <td>9.0</td>\n",
       "      <td>8.0</td>\n",
       "      <td>7.0</td>\n",
       "      <td>7.0</td>\n",
       "      <td>7.0</td>\n",
       "    </tr>\n",
       "    <tr>\n",
       "      <th>33</th>\n",
       "      <td>0.0</td>\n",
       "      <td>6.0</td>\n",
       "      <td>6.0</td>\n",
       "      <td>4.0</td>\n",
       "      <td>3.0</td>\n",
       "      <td>4.0</td>\n",
       "      <td>10.0</td>\n",
       "      <td>7.0</td>\n",
       "      <td>9.0</td>\n",
       "      <td>4.0</td>\n",
       "      <td>...</td>\n",
       "      <td>9.0</td>\n",
       "      <td>11.0</td>\n",
       "      <td>8.0</td>\n",
       "      <td>5.0</td>\n",
       "      <td>7.0</td>\n",
       "      <td>10.0</td>\n",
       "      <td>4.0</td>\n",
       "      <td>8.0</td>\n",
       "      <td>8.0</td>\n",
       "      <td>12.0</td>\n",
       "    </tr>\n",
       "    <tr>\n",
       "      <th>34</th>\n",
       "      <td>0.0</td>\n",
       "      <td>7.0</td>\n",
       "      <td>14.0</td>\n",
       "      <td>5.0</td>\n",
       "      <td>6.0</td>\n",
       "      <td>4.0</td>\n",
       "      <td>5.0</td>\n",
       "      <td>9.0</td>\n",
       "      <td>10.0</td>\n",
       "      <td>8.0</td>\n",
       "      <td>...</td>\n",
       "      <td>10.0</td>\n",
       "      <td>9.0</td>\n",
       "      <td>3.0</td>\n",
       "      <td>6.0</td>\n",
       "      <td>8.0</td>\n",
       "      <td>11.0</td>\n",
       "      <td>6.0</td>\n",
       "      <td>5.0</td>\n",
       "      <td>13.0</td>\n",
       "      <td>9.0</td>\n",
       "    </tr>\n",
       "    <tr>\n",
       "      <th>35</th>\n",
       "      <td>0.0</td>\n",
       "      <td>10.0</td>\n",
       "      <td>12.0</td>\n",
       "      <td>3.0</td>\n",
       "      <td>13.0</td>\n",
       "      <td>5.0</td>\n",
       "      <td>12.0</td>\n",
       "      <td>5.0</td>\n",
       "      <td>10.0</td>\n",
       "      <td>11.0</td>\n",
       "      <td>...</td>\n",
       "      <td>9.0</td>\n",
       "      <td>12.0</td>\n",
       "      <td>6.0</td>\n",
       "      <td>11.0</td>\n",
       "      <td>9.0</td>\n",
       "      <td>10.0</td>\n",
       "      <td>5.0</td>\n",
       "      <td>6.0</td>\n",
       "      <td>5.0</td>\n",
       "      <td>10.0</td>\n",
       "    </tr>\n",
       "    <tr>\n",
       "      <th>36</th>\n",
       "      <td>0.0</td>\n",
       "      <td>5.0</td>\n",
       "      <td>9.0</td>\n",
       "      <td>10.0</td>\n",
       "      <td>4.0</td>\n",
       "      <td>13.0</td>\n",
       "      <td>15.0</td>\n",
       "      <td>4.0</td>\n",
       "      <td>5.0</td>\n",
       "      <td>6.0</td>\n",
       "      <td>...</td>\n",
       "      <td>12.0</td>\n",
       "      <td>12.0</td>\n",
       "      <td>13.0</td>\n",
       "      <td>8.0</td>\n",
       "      <td>9.0</td>\n",
       "      <td>5.0</td>\n",
       "      <td>8.0</td>\n",
       "      <td>15.0</td>\n",
       "      <td>5.0</td>\n",
       "      <td>2.0</td>\n",
       "    </tr>\n",
       "    <tr>\n",
       "      <th>37</th>\n",
       "      <td>0.0</td>\n",
       "      <td>13.0</td>\n",
       "      <td>7.0</td>\n",
       "      <td>6.0</td>\n",
       "      <td>10.0</td>\n",
       "      <td>6.0</td>\n",
       "      <td>10.0</td>\n",
       "      <td>8.0</td>\n",
       "      <td>8.0</td>\n",
       "      <td>6.0</td>\n",
       "      <td>...</td>\n",
       "      <td>11.0</td>\n",
       "      <td>3.0</td>\n",
       "      <td>7.0</td>\n",
       "      <td>8.0</td>\n",
       "      <td>12.0</td>\n",
       "      <td>10.0</td>\n",
       "      <td>10.0</td>\n",
       "      <td>5.0</td>\n",
       "      <td>8.0</td>\n",
       "      <td>15.0</td>\n",
       "    </tr>\n",
       "    <tr>\n",
       "      <th>38</th>\n",
       "      <td>0.0</td>\n",
       "      <td>13.0</td>\n",
       "      <td>5.0</td>\n",
       "      <td>10.0</td>\n",
       "      <td>8.0</td>\n",
       "      <td>12.0</td>\n",
       "      <td>9.0</td>\n",
       "      <td>13.0</td>\n",
       "      <td>7.0</td>\n",
       "      <td>8.0</td>\n",
       "      <td>...</td>\n",
       "      <td>12.0</td>\n",
       "      <td>6.0</td>\n",
       "      <td>2.0</td>\n",
       "      <td>9.0</td>\n",
       "      <td>9.0</td>\n",
       "      <td>9.0</td>\n",
       "      <td>8.0</td>\n",
       "      <td>9.0</td>\n",
       "      <td>8.0</td>\n",
       "      <td>6.0</td>\n",
       "    </tr>\n",
       "    <tr>\n",
       "      <th>39</th>\n",
       "      <td>0.0</td>\n",
       "      <td>15.0</td>\n",
       "      <td>12.0</td>\n",
       "      <td>10.0</td>\n",
       "      <td>9.0</td>\n",
       "      <td>17.0</td>\n",
       "      <td>6.0</td>\n",
       "      <td>7.0</td>\n",
       "      <td>9.0</td>\n",
       "      <td>6.0</td>\n",
       "      <td>...</td>\n",
       "      <td>8.0</td>\n",
       "      <td>4.0</td>\n",
       "      <td>12.0</td>\n",
       "      <td>4.0</td>\n",
       "      <td>7.0</td>\n",
       "      <td>10.0</td>\n",
       "      <td>9.0</td>\n",
       "      <td>14.0</td>\n",
       "      <td>11.0</td>\n",
       "      <td>6.0</td>\n",
       "    </tr>\n",
       "  </tbody>\n",
       "</table>\n",
       "<p>40 rows × 10001 columns</p>\n",
       "</div>"
      ],
      "text/plain": [
       "      t     0     1     2     3     4     5     6     7     8  ...  9990  \\\n",
       "0   0.0   7.0   8.0  12.0   7.0   6.0  10.0   8.0   6.0   7.0  ...   8.0   \n",
       "1   0.0   5.0  11.0   8.0   5.0   6.0   9.0   5.0   8.0   7.0  ...  11.0   \n",
       "2   0.0   5.0   7.0   7.0   6.0   8.0   6.0   7.0   7.0   8.0  ...  10.0   \n",
       "3   0.0   2.0   5.0   8.0  12.0   3.0   4.0   5.0   7.0   8.0  ...   5.0   \n",
       "4   0.0  10.0  15.0  15.0   7.0   9.0   5.0   3.0   4.0   8.0  ...   9.0   \n",
       "5   0.0  13.0   4.0   2.0   7.0   6.0   8.0   4.0   4.0   3.0  ...   5.0   \n",
       "6   0.0   6.0   8.0   6.0   6.0  11.0  10.0  10.0   8.0   5.0  ...  13.0   \n",
       "7   0.0   5.0   7.0   6.0  13.0   4.0   3.0   8.0   9.0   5.0  ...  10.0   \n",
       "8   0.0   5.0   4.0  10.0  14.0  13.0  10.0  11.0  12.0  12.0  ...   8.0   \n",
       "9   0.0   7.0  12.0  13.0   8.0  14.0   5.0  12.0   6.0   8.0  ...   6.0   \n",
       "10  0.0   9.0  12.0   6.0   8.0   6.0  12.0   7.0  10.0   9.0  ...  16.0   \n",
       "11  0.0   5.0   4.0  12.0   0.0   3.0   5.0   9.0   6.0  14.0  ...   7.0   \n",
       "12  0.0  14.0   9.0   5.0  10.0   6.0   7.0   9.0   4.0   9.0  ...  12.0   \n",
       "13  0.0   6.0  13.0   6.0   6.0  14.0   7.0   7.0   8.0   8.0  ...  10.0   \n",
       "14  0.0   8.0   7.0   5.0  11.0   6.0   7.0   7.0   9.0   6.0  ...   8.0   \n",
       "15  0.0   7.0   5.0  12.0   8.0   7.0   6.0   7.0   8.0   8.0  ...  10.0   \n",
       "16  0.0   8.0   7.0   7.0  10.0   9.0   6.0   7.0   4.0  13.0  ...  11.0   \n",
       "17  0.0   6.0   9.0   8.0   4.0   8.0   6.0   9.0  10.0   7.0  ...  12.0   \n",
       "18  0.0   8.0   9.0  13.0   8.0  11.0   7.0  15.0   9.0  10.0  ...   4.0   \n",
       "19  0.0   4.0   7.0  12.0   7.0   8.0   8.0  13.0   7.0   8.0  ...   7.0   \n",
       "20  0.0   7.0  12.0   5.0   6.0   8.0  11.0   6.0   7.0   9.0  ...   9.0   \n",
       "21  0.0   6.0   9.0   8.0   6.0   3.0  12.0   6.0   7.0  10.0  ...   7.0   \n",
       "22  0.0   6.0   8.0  10.0   6.0   5.0   4.0   6.0  13.0   8.0  ...   9.0   \n",
       "23  0.0   7.0   6.0   4.0   7.0   3.0   6.0   8.0   2.0   8.0  ...   5.0   \n",
       "24  0.0   6.0   5.0  12.0   4.0   8.0   7.0   9.0  10.0   1.0  ...   6.0   \n",
       "25  0.0  10.0   6.0   6.0   8.0   7.0  11.0   6.0   8.0   1.0  ...  11.0   \n",
       "26  0.0   5.0  12.0   7.0   5.0   9.0   7.0   9.0   9.0  13.0  ...   9.0   \n",
       "27  0.0   7.0   8.0   8.0   5.0   6.0   5.0   7.0  11.0  10.0  ...   6.0   \n",
       "28  0.0   7.0   7.0   7.0   8.0   8.0   7.0   6.0   6.0   7.0  ...  10.0   \n",
       "29  0.0  12.0   9.0   4.0  10.0   4.0   7.0   9.0   7.0  10.0  ...   6.0   \n",
       "30  0.0  12.0   7.0  10.0  14.0   9.0   9.0   8.0   7.0  11.0  ...  12.0   \n",
       "31  0.0   6.0   9.0   9.0   7.0   3.0   8.0  10.0   3.0   7.0  ...   3.0   \n",
       "32  0.0   5.0  12.0   5.0   7.0   9.0   3.0   5.0  11.0   7.0  ...   7.0   \n",
       "33  0.0   6.0   6.0   4.0   3.0   4.0  10.0   7.0   9.0   4.0  ...   9.0   \n",
       "34  0.0   7.0  14.0   5.0   6.0   4.0   5.0   9.0  10.0   8.0  ...  10.0   \n",
       "35  0.0  10.0  12.0   3.0  13.0   5.0  12.0   5.0  10.0  11.0  ...   9.0   \n",
       "36  0.0   5.0   9.0  10.0   4.0  13.0  15.0   4.0   5.0   6.0  ...  12.0   \n",
       "37  0.0  13.0   7.0   6.0  10.0   6.0  10.0   8.0   8.0   6.0  ...  11.0   \n",
       "38  0.0  13.0   5.0  10.0   8.0  12.0   9.0  13.0   7.0   8.0  ...  12.0   \n",
       "39  0.0  15.0  12.0  10.0   9.0  17.0   6.0   7.0   9.0   6.0  ...   8.0   \n",
       "\n",
       "    9991  9992  9993  9994  9995  9996  9997  9998  9999  \n",
       "0   12.0   4.0   8.0   5.0  10.0   9.0  10.0  11.0   6.0  \n",
       "1    7.0  12.0  11.0  11.0   9.0   9.0  10.0   5.0   9.0  \n",
       "2    8.0   4.0   8.0   5.0   6.0   9.0   9.0   6.0   6.0  \n",
       "3    8.0  10.0  13.0  12.0   9.0   5.0   6.0   9.0   5.0  \n",
       "4   13.0  16.0   6.0   5.0   8.0   9.0   9.0   7.0   7.0  \n",
       "5   10.0   5.0   9.0   6.0   4.0   9.0   4.0  10.0  10.0  \n",
       "6    7.0   9.0   8.0   9.0  12.0  12.0   7.0  10.0   7.0  \n",
       "7    9.0   9.0   6.0   9.0   8.0   4.0   9.0   4.0  11.0  \n",
       "8   12.0   5.0   5.0  12.0   3.0   6.0   8.0  12.0   7.0  \n",
       "9   12.0   9.0  12.0   8.0   9.0   7.0  11.0  10.0  10.0  \n",
       "10  11.0   5.0   5.0   9.0   3.0   7.0   7.0   8.0  10.0  \n",
       "11   8.0  10.0   9.0   7.0   6.0   7.0   9.0   7.0  11.0  \n",
       "12  12.0  14.0   8.0   8.0   9.0  13.0   9.0   8.0   5.0  \n",
       "13   8.0   9.0   6.0   6.0   6.0   6.0  11.0   8.0   8.0  \n",
       "14   4.0   7.0   8.0  13.0   7.0  10.0   7.0  10.0  12.0  \n",
       "15  10.0   9.0   5.0   8.0   9.0  11.0   7.0  10.0   7.0  \n",
       "16   5.0  10.0   9.0   6.0  10.0   8.0   4.0   8.0  13.0  \n",
       "17   4.0  11.0  12.0   8.0   4.0   8.0   8.0   5.0   4.0  \n",
       "18  12.0   9.0  12.0   7.0  10.0   9.0  10.0   8.0   4.0  \n",
       "19  10.0  10.0  11.0   6.0   6.0   7.0  12.0   5.0   9.0  \n",
       "20  13.0  11.0   8.0  13.0   8.0   6.0   8.0   7.0  15.0  \n",
       "21   7.0  12.0  10.0  11.0   8.0  11.0   9.0  10.0  10.0  \n",
       "22   5.0   8.0   9.0   9.0   7.0   6.0   4.0  11.0   9.0  \n",
       "23  10.0  13.0   7.0  12.0   7.0  17.0   6.0   8.0   9.0  \n",
       "24   8.0   8.0   4.0   8.0   6.0  12.0  10.0  10.0   8.0  \n",
       "25   8.0   8.0   6.0  11.0   8.0   9.0   4.0   8.0   4.0  \n",
       "26   9.0   5.0   7.0   6.0   9.0  12.0  12.0  11.0   9.0  \n",
       "27   8.0  15.0   6.0   5.0   8.0  10.0   8.0   5.0  15.0  \n",
       "28   4.0   8.0   6.0   8.0  10.0   9.0   4.0   8.0  11.0  \n",
       "29  10.0   6.0   9.0   8.0   9.0   4.0   9.0   9.0   6.0  \n",
       "30   9.0   9.0  10.0  10.0  10.0   3.0  17.0   8.0   9.0  \n",
       "31   4.0   8.0  13.0   4.0   7.0   6.0   8.0   5.0   8.0  \n",
       "32   7.0   8.0   4.0   7.0   9.0   8.0   7.0   7.0   7.0  \n",
       "33  11.0   8.0   5.0   7.0  10.0   4.0   8.0   8.0  12.0  \n",
       "34   9.0   3.0   6.0   8.0  11.0   6.0   5.0  13.0   9.0  \n",
       "35  12.0   6.0  11.0   9.0  10.0   5.0   6.0   5.0  10.0  \n",
       "36  12.0  13.0   8.0   9.0   5.0   8.0  15.0   5.0   2.0  \n",
       "37   3.0   7.0   8.0  12.0  10.0  10.0   5.0   8.0  15.0  \n",
       "38   6.0   2.0   9.0   9.0   9.0   8.0   9.0   8.0   6.0  \n",
       "39   4.0  12.0   4.0   7.0  10.0   9.0  14.0  11.0   6.0  \n",
       "\n",
       "[40 rows x 10001 columns]"
      ]
     },
     "execution_count": 49,
     "metadata": {},
     "output_type": "execute_result"
    }
   ],
   "source": [
    "df_m[df_m.t==0]"
   ]
  },
  {
   "cell_type": "code",
   "execution_count": 45,
   "metadata": {
    "hidden": true
   },
   "outputs": [
    {
     "name": "stderr",
     "output_type": "stream",
     "text": [
      "/users/invites/benvegnen/anaconda3/lib/python3.7/site-packages/ipykernel_launcher.py:24: UserWarning: This figure includes Axes that are not compatible with tight_layout, so results might be incorrect.\n"
     ]
    },
    {
     "data": {
      "image/png": "[encoded data removed]",
      "text/plain": [
       "<Figure size 245.081x81.6936 with 2 Axes>"
      ]
     },
     "metadata": {},
     "output_type": "display_data"
    }
   ],
   "source": [
    "\n",
    "kt=1570\n",
    "t0=np.unique(df_m.t)[kt]\n",
    "X_m=-np.roll(df_m[df_m.t==t0].drop(columns=['t']), axis=0, shift=10)[:,7400:8700]\n",
    "\n",
    "pcm=plt.imshow(X_m[:,::-1], cmap=newcmp, aspect='auto', vmin=-9, vmax=60, origin='lower')\n",
    "\n",
    "inset_ax = inset_axes(plt.gca(),\n",
    "                          height=\"61%\", # set height\n",
    "                          width=\"2.54%\", # and width\n",
    "                          loc=7,\n",
    "                          #bbox_to_anchor=(75,130, 100, 100)\n",
    "                     )\n",
    "\n",
    "cbar=plt.colorbar(pcm, fraction=0.1, ticks=[-5, 0, +5], cax = inset_ax, \n",
    "                  orientation='vertical',\n",
    "                    drawedges=False)\n",
    "\n",
    "cbar.outline.set_visible(False)\n",
    "cbar.ax.tick_params(size=1, color='w')\n",
    "cbar_yticks = plt.getp(cbar.ax.axes, 'yticklabels')\n",
    "plt.setp(cbar_yticks, color='w')\n",
    "\n",
    "cbar.ax.set_ylabel(r'$m$', rotation=0, labelpad=-14, y=1.3, color=\"w\")\n",
    "plt.tight_layout(pad=0.01)\n",
    "\n",
    "plt.savefig('spontaneous_micro.pdf', dpi=400);\n"
   ]
  },
  {
   "cell_type": "code",
   "execution_count": 47,
   "metadata": {
    "hidden": true,
    "scrolled": false
   },
   "outputs": [
    {
     "data": {
      "image/png": "[encoded data removed]",
      "text/plain": [
       "<Figure size 864x504 with 2 Axes>"
      ]
     },
     "metadata": {
      "needs_background": "light"
     },
     "output_type": "display_data"
    }
   ],
   "source": [
    "fig, ax = plt.subplots(figsize=(12, 7))\n",
    "\n",
    "kt=1500\n",
    "t0=np.unique(df_m.t)[kt]\n",
    "v0=10\n",
    "X_m=np.roll(df_m[df_m.t==t0].drop(columns=['t']), axis=0, shift=10)[:,::-1]\n",
    "img=plt.imshow(X_m, cmap='PiYG', vmin=-v0, vmax=v0, aspect=\"auto\")\n",
    "\n",
    "#plt.xlim(1000,2000)\n",
    "cbar = plt.colorbar(img)\n",
    "cbar.set_label('Magnetization')\n",
    "#np.min(X_m[X_m<0])"
   ]
  },
  {
   "cell_type": "code",
   "execution_count": 315,
   "metadata": {
    "hidden": true,
    "scrolled": false
   },
   "outputs": [
    {
     "data": {
      "image/png": "[encoded data removed]",
      "text/plain": [
       "<Figure size 720x720 with 2 Axes>"
      ]
     },
     "metadata": {
      "needs_background": "light"
     },
     "output_type": "display_data"
    }
   ],
   "source": [
    "fig, ax = plt.subplots(figsize=(10, 10))\n",
    "\n",
    "kt=1485\n",
    "t0=np.unique(df_m.t)[kt]\n",
    "v0=10\n",
    "X_m=-(df_m[df_m.t==t0].drop(columns=['t']))\n",
    "img=plt.imshow(X_m, cmap='PiYG', vmin=-v0, vmax=v0, aspect=\"auto\")\n",
    "\n",
    "plt.xlim(8650,8820)\n",
    "cbar = plt.colorbar(img)\n",
    "cbar.set_label('Magnetization')\n",
    "#np.min(X_m[X_m<0])"
   ]
  },
  {
   "cell_type": "markdown",
   "metadata": {
    "heading_collapsed": true
   },
   "source": [
    "# Panel1 Fig. 4"
   ]
  },
  {
   "cell_type": "code",
   "execution_count": 38,
   "metadata": {
    "hidden": true
   },
   "outputs": [],
   "source": [
    "fig_width_pt = 246  # Get this from LaTeX using \\showthe\\columnwidth\n",
    "                      # For PRL columnwidth is 246pt.\n",
    "golden_mean = (np.sqrt(5)+1.0)/2.0         # Aesthetic ratio\n",
    "\n",
    "fig_height_pt = fig_width_pt/4.5\n",
    "inches_per_pt = 1.0/72.27               # Convert pt to inch\n",
    "fig_width = fig_width_pt*inches_per_pt  # width in inches\n",
    "fig_height = fig_height_pt*inches_per_pt      # height in inches\n",
    "fig_size =  [fig_width,fig_height]\n",
    "params = {'backend': 'ps',\n",
    "          'axes.labelsize': 12,\n",
    "          'font.size': 12,\n",
    "          'xtick.labelsize': 10,\n",
    "          'xtick.direction': 'out',\n",
    "          'ytick.labelsize': 10,\n",
    "          'ytick.direction': 'out',\n",
    "          'ytick.major.pad': 1,\n",
    "          'xtick.major.pad': 1,\n",
    "          'text.usetex': True,\n",
    "          'figure.figsize': fig_size,\n",
    "          'legend.frameon': False,\n",
    "          'legend.fancybox': False}\n",
    "plt.rcParams.update(params)"
   ]
  },
  {
   "cell_type": "code",
   "execution_count": 39,
   "metadata": {
    "hidden": true
   },
   "outputs": [],
   "source": [
    "from matplotlib import cm\n",
    "from matplotlib.colors import ListedColormap, LinearSegmentedColormap\n",
    "\n",
    "\n",
    "top = cm.get_cmap('PuBu_r', 128)\n",
    "bottom = cm.get_cmap('YlOrBr', 128)\n",
    "middle = (1,1,1,1)\n",
    "newcolors = np.vstack((top(np.linspace(0, 1, 20)),\n",
    "                       bottom(np.linspace(0, 1, 128))))\n",
    "newcmp = ListedColormap(newcolors, name='OrangeBlue')"
   ]
  },
  {
   "cell_type": "code",
   "execution_count": 600,
   "metadata": {
    "hidden": true
   },
   "outputs": [
    {
     "data": {
      "image/png": "[encoded data removed]",
      "text/plain": [
       "<Figure size 245.081x54.4624 with 4 Axes>"
      ]
     },
     "metadata": {},
     "output_type": "display_data"
    }
   ],
   "source": [
    "x0=1270\n",
    "dx=200\n",
    "vmin=-1\n",
    "vmax=7\n",
    "sh=11\n",
    "rho0=8\n",
    "\n",
    "xtime=1440\n",
    "ytime=34\n",
    "\n",
    "ti=np.int64(np.unique(df_m.t)[1474])\n",
    "\n",
    "plt.subplot(141)\n",
    "ax=plt.gca()\n",
    "kt=1474\n",
    "t0=np.unique(df_m.t)[kt]\n",
    "# txt=plt.text(x=xtime, y=ytime, s=r'$t=%d$'%(t0-ti), fontsize=8, color=\"w\", horizontalalignment='right')\n",
    "# txt.set_path_effects([PathEffects.withStroke(linewidth=1, foreground='k')])\n",
    "\n",
    "t=plt.text(xtime, ytime, r'$t=%d$'%(t0-ti), fontsize=8, rotation=0.,\n",
    "         ha=\"right\", va=\"center\",\n",
    "         bbox=dict(boxstyle=\"round,pad=0.15\",\n",
    "                   ec='w',\n",
    "                   fc='w',\n",
    "                   alpha=0.7\n",
    "                   )\n",
    "         )\n",
    "v0=10\n",
    "X_m=-np.roll(df_m[df_m.t==t0].drop(columns=['t']), axis=0, shift=sh)[:,::-1]/rho0\n",
    "img=plt.imshow(X_m, cmap=newcmp, aspect='auto', vmin=vmin, vmax=vmax, origin='lower')\n",
    "plt.xlim(x0-dx,x0+dx)\n",
    "plt.xticks([])\n",
    "plt.yticks([])\n",
    "\n",
    "# inset_ax = inset_axes(ax,\n",
    "#                           height=\"100%\", # set height\n",
    "#                           width=\"100%\", # and width\n",
    "#                           loc=1,\n",
    "#                           bbox_to_anchor=(15, 15, 4, 30)\n",
    "#                      )\n",
    "\n",
    "# cbar=plt.colorbar(img, fraction=0.1, ticks=[-1, 0, +4], cax = inset_ax, \n",
    "#                   orientation='vertical',\n",
    "#                     drawedges=False)\n",
    "\n",
    "# cbar.outline.set_visible(False)\n",
    "# cbar.ax.tick_params(size=1, color='w')\n",
    "# cbar_yticks = plt.getp(cbar.ax.axes, 'yticklabels')\n",
    "# plt.setp(cbar_yticks, color='w')\n",
    "\n",
    "# cbar.ax.set_ylabel(r'${m}/{\\rho_0}$', rotation=0, labelpad=-14, y=1.2, color=\"w\", fontsize=6)\n",
    "\n",
    "\n",
    "\n",
    "\n",
    "plt.subplot(142)\n",
    "kt=1478\n",
    "t0=np.unique(df_m.t)[kt]\n",
    "\n",
    "t=plt.text(xtime, ytime, r'$t=%d$'%(t0-ti), fontsize=8, rotation=0.,\n",
    "         ha=\"right\", va=\"center\",\n",
    "         bbox=dict(boxstyle=\"round,pad=0.15\",\n",
    "                   ec='w',\n",
    "                   fc='w',\n",
    "                   alpha=0.7\n",
    "                   )\n",
    "         )\n",
    "v0=10\n",
    "X_m=-np.roll(df_m[df_m.t==t0].drop(columns=['t']), axis=0, shift=sh)[:,::-1]/rho0\n",
    "img=plt.imshow(X_m, cmap=newcmp, aspect='auto', vmin=vmin, vmax=vmax, origin='lower')\n",
    "plt.xlim(x0-dx,x0+dx)\n",
    "plt.yticks([])\n",
    "plt.xticks([])\n",
    "\n",
    "\n",
    "plt.subplot(143)\n",
    "kt=1482\n",
    "t0=np.unique(df_m.t)[kt]\n",
    "\n",
    "t=plt.text(xtime, ytime, r'$t=%d$'%(t0-ti), fontsize=8, rotation=0.,\n",
    "         ha=\"right\", va=\"center\",\n",
    "         bbox=dict(boxstyle=\"round,pad=0.15\",\n",
    "                   ec='w',\n",
    "                   fc='w',\n",
    "                   alpha=0.7\n",
    "                   )\n",
    "         )\n",
    "v0=10\n",
    "X_m=-np.roll(df_m[df_m.t==t0].drop(columns=['t']), axis=0, shift=sh)[:,::-1]/rho0\n",
    "img=plt.imshow(X_m, cmap=newcmp, aspect='auto', vmin=vmin, vmax=vmax, origin='lower')\n",
    "plt.xlim(x0-dx,x0+dx)\n",
    "plt.yticks([])\n",
    "plt.xticks([])\n",
    "\n",
    "plt.subplot(144)\n",
    "kt=1490\n",
    "t0=np.unique(df_m.t)[kt]\n",
    "\n",
    "t=plt.text(xtime, ytime, r'$t=%d$'%(t0-ti), fontsize=8, rotation=0.,\n",
    "         ha=\"right\", va=\"center\",\n",
    "         bbox=dict(boxstyle=\"round,pad=0.15\",\n",
    "                   ec='w',\n",
    "                   fc='w',\n",
    "                   alpha=0.7\n",
    "                   )\n",
    "         )\n",
    "v0=10\n",
    "X_m=-np.roll(df_m[df_m.t==t0].drop(columns=['t']), axis=0, shift=sh)[:,::-1]/rho0\n",
    "\n",
    "img=plt.imshow(X_m, cmap=newcmp, aspect='auto', vmin=vmin, vmax=vmax, origin='lower')\n",
    "plt.xlim(x0-dx,x0+dx)\n",
    "plt.yticks([])\n",
    "plt.xticks([])\n",
    "\n",
    "\n",
    "\n",
    "plt.subplots_adjust(hspace=0.3, wspace=0.2, left=0.005, right=0.995, top=0.99, bottom=0.01)\n",
    "\n",
    "plt.savefig('panel1_fig4_v1.pdf', dpi=400);"
   ]
  },
  {
   "cell_type": "code",
   "execution_count": 37,
   "metadata": {
    "hidden": true
   },
   "outputs": [
    {
     "ename": "NameError",
     "evalue": "name 'X_m' is not defined",
     "output_type": "error",
     "traceback": [
      "\u001b[0;31m------------------------------------------------------------------------\u001b[0m",
      "\u001b[0;31mNameError\u001b[0m                              Traceback (most recent call last)",
      "\u001b[0;32m<ipython-input-37-ec8dac2ebf17>\u001b[0m in \u001b[0;36m<module>\u001b[0;34m\u001b[0m\n\u001b[0;32m----> 1\u001b[0;31m \u001b[0mplt\u001b[0m\u001b[0;34m.\u001b[0m\u001b[0mimshow\u001b[0m\u001b[0;34m(\u001b[0m\u001b[0mX_m\u001b[0m\u001b[0;34m,\u001b[0m \u001b[0mcmap\u001b[0m\u001b[0;34m=\u001b[0m\u001b[0mnewcmp\u001b[0m\u001b[0;34m,\u001b[0m \u001b[0maspect\u001b[0m\u001b[0;34m=\u001b[0m\u001b[0;34m'auto'\u001b[0m\u001b[0;34m,\u001b[0m \u001b[0mvmin\u001b[0m\u001b[0;34m=\u001b[0m\u001b[0mvmin\u001b[0m\u001b[0;34m,\u001b[0m \u001b[0mvmax\u001b[0m\u001b[0;34m=\u001b[0m\u001b[0mvmax\u001b[0m\u001b[0;34m,\u001b[0m \u001b[0morigin\u001b[0m\u001b[0;34m=\u001b[0m\u001b[0;34m'lower'\u001b[0m\u001b[0;34m)\u001b[0m\u001b[0;34m\u001b[0m\u001b[0;34m\u001b[0m\u001b[0m\n\u001b[0m",
      "\u001b[0;31mNameError\u001b[0m: name 'X_m' is not defined"
     ]
    }
   ],
   "source": [
    "plt.imshow(X_m, cmap=newcmp, aspect='auto', vmin=vmin, vmax=vmax, origin='lower')"
   ]
  },
  {
   "cell_type": "markdown",
   "metadata": {
    "heading_collapsed": true
   },
   "source": [
    "# Panel2 Fig. 4"
   ]
  },
  {
   "cell_type": "code",
   "execution_count": 601,
   "metadata": {
    "hidden": true
   },
   "outputs": [],
   "source": [
    "fig_width_pt = 246  # Get this from LaTeX using \\showthe\\columnwidth\n",
    "                      # For PRL columnwidth is 246pt.\n",
    "golden_mean = (np.sqrt(5)+1.0)/2.0         # Aesthetic ratio\n",
    "\n",
    "fig_height_pt = fig_width_pt/2.3\n",
    "inches_per_pt = 1.0/72.27               # Convert pt to inch\n",
    "fig_width = fig_width_pt*inches_per_pt  # width in inches\n",
    "fig_height = fig_height_pt*inches_per_pt      # height in inches\n",
    "fig_size =  [fig_width,fig_height]\n",
    "params = {'backend': 'ps',\n",
    "          'axes.labelsize': 12,\n",
    "          'font.size': 12,\n",
    "          'xtick.labelsize': 10,\n",
    "          'xtick.direction': 'out',\n",
    "          'ytick.labelsize': 10,\n",
    "          'ytick.direction': 'out',\n",
    "          'ytick.major.pad': 1,\n",
    "          'xtick.major.pad': 1,\n",
    "          'text.usetex': True,\n",
    "          'figure.figsize': fig_size,\n",
    "          'legend.frameon': False,\n",
    "          'legend.fancybox': False}\n",
    "plt.rcParams.update(params)"
   ]
  },
  {
   "cell_type": "code",
   "execution_count": 604,
   "metadata": {
    "hidden": true
   },
   "outputs": [],
   "source": [
    "from scipy.optimize import fixed_point"
   ]
  },
  {
   "cell_type": "code",
   "execution_count": 607,
   "metadata": {
    "hidden": true
   },
   "outputs": [
    {
     "data": {
      "image/png": "[encoded data removed]",
      "text/plain": [
       "<Figure size 245.081x106.557 with 2 Axes>"
      ]
     },
     "metadata": {
      "needs_background": "light"
     },
     "output_type": "display_data"
    }
   ],
   "source": [
    "xlab=0.45\n",
    "ylab=1.06\n",
    "######### tau_d l_y #########\n",
    "\n",
    "plt.subplot(121)\n",
    "plt.text(s=r'$\\mathrm{(a)}$', x=xlab, y=ylab, transform=plt.gca().transAxes)\n",
    "\n",
    "ms=3\n",
    "\n",
    "cs=1\n",
    "plt.plot([], [])\n",
    "\n",
    "plt.plot(np.array(list(td_1)),\n",
    "             np.array(list(td_1))*np.array([np.mean(td_1[tau]) for tau in td_1]),\n",
    "             'o',\n",
    "         markersize=ms,\n",
    "            label=r'$D=0.10$')\n",
    "\n",
    "plt.errorbar(np.array(list(td_11)),\n",
    "             np.array(list(td_11))*np.array([np.mean(td_11[tau]) for tau in td_11]),\n",
    "             yerr=3*np.array(list(td_11))*np.array([np.std(td_11[tau]) for tau in td_11])/np.sqrt([len(td_11[tau]) for tau in td_11]),\n",
    "             capsize=cs,\n",
    "             fmt='o',\n",
    "              markersize=ms,\n",
    "            label=r'$D=0.11$')\n",
    "\n",
    "plt.errorbar(np.array(list(td_12)),\n",
    "             np.array(list(td_12))*np.array([np.mean(td_12[tau]) for tau in td_12]),\n",
    "             yerr=3*np.array(list(td_12))*np.array([np.std(td_12[tau]) for tau in td_12])/np.sqrt([len(td_12[tau]) for tau in td_12]),\n",
    "             capsize=cs,\n",
    "             fmt='o',\n",
    "         markersize=ms,\n",
    "            label=r'$D=0.12$')\n",
    "\n",
    "\n",
    "\n",
    "\n",
    "plt.semilogy()\n",
    "plt.legend(loc=(0.2,0.1), fontsize=8, handletextpad=0.2)\n",
    "\n",
    "plt.ylim(1e2, 5e9)\n",
    "plt.xlim(0,11.5)\n",
    "plt.xticks([1,5,10])\n",
    "plt.xlabel(r'$L_y$', labelpad=-26, x=0.92, rotation=0, zorder=100);\n",
    "plt.ylabel(r'$L_y\\tau_d$', labelpad=-30, y=0.81, rotation=0, zorder=100);\n",
    "\n",
    "\n",
    "######### tau_d L #########\n",
    "plt.subplot(122)\n",
    "plt.text(s=r'$\\mathrm{(b)}$', x=xlab, y=ylab, transform=plt.gca().transAxes)\n",
    "\n",
    "plt.errorbar(list(td),\n",
    "             [np.mean(td[tau]) for tau in td],\n",
    "             yerr=0*np.array([np.std(td[tau]) for tau in td])/np.sqrt([len(td[tau]) for tau in td]),\n",
    "             capsize=0,\n",
    "             markersize=ms,\n",
    "             fmt='o')\n",
    "\n",
    "ax_L=np.linspace(20,1200)\n",
    "plt.loglog(ax_L, np.exp(b)*ax_L**(a), 'k--')\n",
    "ax=plt.gca()\n",
    "ax.loglog()\n",
    "plt.yticks([1e3, 1e5, 1e7])\n",
    "plt.xlim([20,1000])\n",
    "plt.ylim(0.3e3, 2e7)\n",
    "\n",
    "plt.xlabel(r'$L$', labelpad=-24, x=0.95, rotation=0, zorder=100);\n",
    "plt.ylabel(r'$\\tau_d$', labelpad=-26, y=0.85, rotation=0, zorder=100);\n",
    "\n",
    "plt.text(x=110, y=0.4e5, s=r'$\\propto L^{-2}$', rotation=-25)\n",
    "\n",
    "plt.subplots_adjust(hspace=0.3, wspace=0.25, left=0.08, right=0.97, top=0.86, bottom=0.12)\n",
    "\n",
    "plt.savefig('panel2_fig4_v1.pdf', dpi=400);"
   ]
  },
  {
   "cell_type": "markdown",
   "metadata": {},
   "source": [
    "# Panel2a Fig. 4"
   ]
  },
  {
   "cell_type": "code",
   "execution_count": 13,
   "metadata": {},
   "outputs": [],
   "source": [
    "fig_width_pt = 123  # Get this from LaTeX using \\showthe\\columnwidth\n",
    "                      # For PRL columnwidth is 246pt.\n",
    "golden_mean = (np.sqrt(5)+1.0)/2.0         # Aesthetic ratio\n",
    "\n",
    "fig_height_pt = fig_width_pt/1.1\n",
    "inches_per_pt = 1.0/72.27               # Convert pt to inch\n",
    "fig_width = fig_width_pt*inches_per_pt  # width in inches\n",
    "fig_height = fig_height_pt*inches_per_pt      # height in inches\n",
    "fig_size =  [fig_width,fig_height]\n",
    "params = {'backend': 'ps',\n",
    "          'axes.labelsize': 12,\n",
    "          'font.size': 12,\n",
    "          'xtick.labelsize': 10,\n",
    "          'xtick.direction': 'out',\n",
    "          'ytick.labelsize': 10,\n",
    "          'ytick.direction': 'out',\n",
    "          'ytick.major.pad': 1,\n",
    "          'xtick.major.pad': 1,\n",
    "          'text.usetex': True,\n",
    "          'figure.figsize': fig_size,\n",
    "          'legend.frameon': False,\n",
    "          'legend.fancybox': False}\n",
    "plt.rcParams.update(params)"
   ]
  },
  {
   "cell_type": "code",
   "execution_count": 14,
   "metadata": {},
   "outputs": [],
   "source": [
    "from scipy.optimize import fixed_point"
   ]
  },
  {
   "cell_type": "code",
   "execution_count": 124,
   "metadata": {},
   "outputs": [
    {
     "data": {
      "image/png": "[encoded data removed]",
      "text/plain": [
       "<Figure size 122.54x111.4 with 1 Axes>"
      ]
     },
     "metadata": {
      "needs_background": "light"
     },
     "output_type": "display_data"
    }
   ],
   "source": [
    "xlab=0.45\n",
    "ylab=1.06\n",
    "######### tau_d l_y #########\n",
    "\n",
    "plt.subplot(111)\n",
    "#plt.text(s=r'$\\mathrm{(a)}$', x=xlab, y=ylab, transform=plt.gca().transAxes)\n",
    "\n",
    "ms=3\n",
    "\n",
    "cs=1\n",
    "plt.plot([], [])\n",
    "\n",
    "plt.plot(np.array(list(td_1)),\n",
    "             np.array(list(td_1))*np.array([np.mean(td_1[tau]) for tau in td_1]),\n",
    "             'o',\n",
    "         markersize=ms,\n",
    "            label=r'$D=0.10$')\n",
    "\n",
    "plt.errorbar(np.array(list(td_11)),\n",
    "             np.array(list(td_11))*np.array([np.mean(td_11[tau]) for tau in td_11]),\n",
    "             yerr=3*np.array(list(td_11))*np.array([np.std(td_11[tau]) for tau in td_11])/np.sqrt([len(td_11[tau]) for tau in td_11]),\n",
    "             capsize=cs,\n",
    "             fmt='o',\n",
    "              markersize=ms,\n",
    "            label=r'$D=0.11$')\n",
    "\n",
    "plt.errorbar(np.array(list(td_12)),\n",
    "             np.array(list(td_12))*np.array([np.mean(td_12[tau]) for tau in td_12]),\n",
    "             yerr=3*np.array(list(td_12))*np.array([np.std(td_12[tau]) for tau in td_12])/np.sqrt([len(td_12[tau]) for tau in td_12]),\n",
    "             capsize=cs,\n",
    "             fmt='o',\n",
    "         markersize=ms,\n",
    "            label=r'$D=0.12$')\n",
    "\n",
    "\n",
    "\n",
    "\n",
    "plt.semilogy()\n",
    "plt.legend(loc=(0.2,0.1), fontsize=8, handletextpad=0.2)\n",
    "\n",
    "plt.ylim(1e2, 5e9)\n",
    "plt.xlim(0,11.5)\n",
    "plt.xticks([1,5,10])\n",
    "plt.xlabel(r'$L_y$', labelpad=-26, x=0.92, rotation=0, zorder=100);\n",
    "plt.ylabel(r'$L_y\\tau_{\\rm d}$', labelpad=-30, y=0.84, rotation=0, zorder=100);\n",
    "\n",
    "plt.tight_layout(pad=0.01)\n",
    "\n",
    "plt.savefig('tau_ly.pdf', dpi=400);"
   ]
  },
  {
   "cell_type": "code",
   "execution_count": 23,
   "metadata": {},
   "outputs": [],
   "source": [
    "data=np.zeros((11,4))"
   ]
  },
  {
   "cell_type": "code",
   "execution_count": 20,
   "metadata": {},
   "outputs": [],
   "source": [
    "data[:,0]=np.array(list(td_12))[:11]"
   ]
  },
  {
   "cell_type": "code",
   "execution_count": 21,
   "metadata": {},
   "outputs": [],
   "source": [
    "data[:,1]=(np.array(list(td_1))*np.array([np.mean(td_1[tau]) for tau in td_1]))[:11]"
   ]
  },
  {
   "cell_type": "code",
   "execution_count": 22,
   "metadata": {},
   "outputs": [],
   "source": [
    "data[:,2]=(np.array(list(td_11))*np.array([np.mean(td_11[tau]) for tau in td_11]))[:11]"
   ]
  },
  {
   "cell_type": "code",
   "execution_count": 23,
   "metadata": {},
   "outputs": [],
   "source": [
    "data[:,3]=(np.array(list(td_12))*np.array([np.mean(td_12[tau]) for tau in td_12]))[:11]"
   ]
  },
  {
   "cell_type": "code",
   "execution_count": 25,
   "metadata": {},
   "outputs": [
    {
     "data": {
      "text/plain": [
       "[<matplotlib.lines.Line2D at 0x7f2b1f750510>]"
      ]
     },
     "execution_count": 25,
     "metadata": {},
     "output_type": "execute_result"
    },
    {
     "data": {
      "image/png": "[encoded data removed]",
      "text/plain": [
       "<Figure size 122.54x111.4 with 1 Axes>"
      ]
     },
     "metadata": {
      "needs_background": "light"
     },
     "output_type": "display_data"
    }
   ],
   "source": [
    "plt.semilogy(data[:,0], data[:,3], 'o')"
   ]
  },
  {
   "cell_type": "code",
   "execution_count": 30,
   "metadata": {},
   "outputs": [],
   "source": [
    "np.savetxt('data_fig4_panel2a.dat', data_tau_D, header='L_y D0.10 D0.11 D0.12')"
   ]
  },
  {
   "cell_type": "code",
   "execution_count": 3,
   "metadata": {},
   "outputs": [],
   "source": [
    "data_tau_D=np.loadtxt(\"data_fig4_panel2a.dat\")"
   ]
  },
  {
   "cell_type": "code",
   "execution_count": 31,
   "metadata": {},
   "outputs": [
    {
     "data": {
      "text/plain": [
       "array([[1.00000000e+00, 1.36501507e+03, 1.47985080e+03, 1.49225542e+03],\n",
       "       [2.00000000e+00, 1.21270838e+06, 2.60223576e+06, 4.31750265e+06],\n",
       "       [3.00000000e+00, 6.14456068e+06, 2.79918866e+07, 9.80469663e+07],\n",
       "       [4.00000000e+00, 7.59562321e+06, 3.19614399e+07, 1.04381086e+08],\n",
       "       [5.00000000e+00, 7.55216802e+06, 3.15703883e+07, 1.02197463e+08],\n",
       "       [6.00000000e+00, 7.28853739e+06, 3.21929702e+07, 1.02590307e+08],\n",
       "       [7.00000000e+00, 6.77752505e+06, 3.14436889e+07, 1.02217853e+08],\n",
       "       [8.00000000e+00, 7.57991809e+06, 2.84116992e+07, 1.06969503e+08],\n",
       "       [9.00000000e+00, 7.36885512e+06, 3.19934318e+07, 1.18477826e+08],\n",
       "       [1.00000000e+01, 7.24873516e+06, 3.43707349e+07, 1.31285865e+08],\n",
       "       [1.10000000e+01, 7.80379898e+06, 3.33447478e+07, 1.25257928e+08]])"
      ]
     },
     "execution_count": 31,
     "metadata": {},
     "output_type": "execute_result"
    }
   ],
   "source": [
    "data_tau_D"
   ]
  },
  {
   "cell_type": "code",
   "execution_count": 7,
   "metadata": {},
   "outputs": [
    {
     "data": {
      "text/plain": [
       "array([7.80379898e+06, 3.33447478e+07, 1.25257928e+08])"
      ]
     },
     "execution_count": 7,
     "metadata": {},
     "output_type": "execute_result"
    }
   ],
   "source": [
    "data_tau_D[-1, 1:]"
   ]
  },
  {
   "cell_type": "code",
   "execution_count": 25,
   "metadata": {},
   "outputs": [
    {
     "data": {
      "text/plain": [
       "Text(0, 0.5, '$\\\\tau_{\\\\rm d}$')"
      ]
     },
     "execution_count": 25,
     "metadata": {},
     "output_type": "execute_result"
    },
    {
     "data": {
      "image/png": "[encoded data removed]",
      "text/plain": [
       "<Figure size 432x288 with 1 Axes>"
      ]
     },
     "metadata": {
      "needs_background": "light"
     },
     "output_type": "display_data"
    }
   ],
   "source": [
    "plt.semilogy([0.1, 0.11, 0.12], data_tau_D[-1, 1:], 'o')\n",
    "a,b = np.polyfit([0.1, 0.11, 0.12], np.log(data_tau_D[-1, 1:]), 1)\n",
    "\n",
    "vec_D=np.linspace(0.098, 0.122)\n",
    "plt.plot(vec_D, np.exp(a*vec_D+b), 'k--', zorder=0)\n",
    "\n",
    "plt.xlabel(r\"$D$\", fontsize=15)\n",
    "plt.ylabel(r\"$\\tau_{\\rm d}$\", fontsize=15, rotation=0)"
   ]
  },
  {
   "cell_type": "code",
   "execution_count": 26,
   "metadata": {},
   "outputs": [],
   "source": [
    "data=np.zeros((3,2))\n",
    "data[:,0]=[0.1, 0.11, 0.12]\n",
    "data[:,1]=data_tau_D[-1, 1:]"
   ]
  },
  {
   "cell_type": "code",
   "execution_count": 29,
   "metadata": {},
   "outputs": [],
   "source": [
    "np.savetxt('data_taud_D.dat', data, header='D tau_d')"
   ]
  },
  {
   "cell_type": "markdown",
   "metadata": {},
   "source": [
    "# Panel2b Fig. 4"
   ]
  },
  {
   "cell_type": "code",
   "execution_count": 24,
   "metadata": {},
   "outputs": [],
   "source": [
    "fig_width_pt = 123  # Get this from LaTeX using \\showthe\\columnwidth\n",
    "                      # For PRL columnwidth is 246pt.\n",
    "golden_mean = (np.sqrt(5)+1.0)/2.0         # Aesthetic ratio\n",
    "\n",
    "fig_height_pt = fig_width_pt/1.1\n",
    "inches_per_pt = 1.0/72.27               # Convert pt to inch\n",
    "fig_width = fig_width_pt*inches_per_pt  # width in inches\n",
    "fig_height = fig_height_pt*inches_per_pt      # height in inches\n",
    "fig_size =  [fig_width,fig_height]\n",
    "params = {'backend': 'ps',\n",
    "          'axes.labelsize': 12,\n",
    "          'font.size': 12,\n",
    "          'xtick.labelsize': 10,\n",
    "          'xtick.direction': 'out',\n",
    "          'ytick.labelsize': 10,\n",
    "          'ytick.direction': 'out',\n",
    "          'ytick.major.pad': 1,\n",
    "          'xtick.major.pad': 1,\n",
    "          'text.usetex': True,\n",
    "          'figure.figsize': fig_size,\n",
    "          'legend.frameon': False,\n",
    "          'legend.fancybox': False}\n",
    "plt.rcParams.update(params)"
   ]
  },
  {
   "cell_type": "code",
   "execution_count": 119,
   "metadata": {},
   "outputs": [
    {
     "data": {
      "image/png": "[encoded data removed]",
      "text/plain": [
       "<Figure size 122.54x111.4 with 1 Axes>"
      ]
     },
     "metadata": {
      "needs_background": "light"
     },
     "output_type": "display_data"
    }
   ],
   "source": [
    "xlab=0.45\n",
    "ylab=1.06\n",
    "\n",
    "######### tau_d L #########\n",
    "plt.subplot(111)\n",
    "#plt.text(s=r'$\\mathrm{(b)}$', x=xlab, y=ylab, transform=plt.gca().transAxes)\n",
    "\n",
    "plt.errorbar(list(td),\n",
    "             [np.mean(td[tau]) for tau in td],\n",
    "             yerr=0*np.array([np.std(td[tau]) for tau in td])/np.sqrt([len(td[tau]) for tau in td]),\n",
    "             capsize=0,\n",
    "             markersize=ms,\n",
    "             fmt='o')\n",
    "\n",
    "ax_L=np.linspace(20,1200)\n",
    "plt.loglog(ax_L, np.exp(b)*ax_L**(a), 'k--', alpha=0.6)\n",
    "ax=plt.gca()\n",
    "ax.loglog()\n",
    "plt.yticks([1e3, 1e5, 1e7])\n",
    "plt.xlim([20,1000])\n",
    "plt.ylim(0.3e3, 2e7)\n",
    "\n",
    "plt.xlabel(r'$L$', labelpad=-24, x=0.95, rotation=0, zorder=100);\n",
    "plt.ylabel(r'$\\tau_{\\rm d}$', labelpad=-26, y=0.85, rotation=0, zorder=100);\n",
    "\n",
    "plt.text(x=110, y=0.4e5, s=r'$\\propto L^{-2}$', rotation=-25)\n",
    "\n",
    "plt.subplots_adjust(hspace=0.3, wspace=0.25, left=0.15, right=0.94, top=0.86, bottom=0.12)\n",
    "\n",
    "plt.savefig('tau_d_L2.pdf', dpi=400);"
   ]
  },
  {
   "cell_type": "code",
   "execution_count": 32,
   "metadata": {},
   "outputs": [],
   "source": [
    "data=np.zeros((len(list(td)),2))"
   ]
  },
  {
   "cell_type": "code",
   "execution_count": 33,
   "metadata": {},
   "outputs": [],
   "source": [
    "data[:,0]=list(td)"
   ]
  },
  {
   "cell_type": "code",
   "execution_count": 34,
   "metadata": {},
   "outputs": [],
   "source": [
    "data[:,1]=[np.mean(td[tau]) for tau in td]"
   ]
  },
  {
   "cell_type": "code",
   "execution_count": 44,
   "metadata": {},
   "outputs": [
    {
     "ename": "IndexError",
     "evalue": "too many indices for array",
     "output_type": "error",
     "traceback": [
      "\u001b[0;31m---------------------------------------------------------------------------\u001b[0m",
      "\u001b[0;31mIndexError\u001b[0m                                Traceback (most recent call last)",
      "\u001b[0;32m<ipython-input-44-9eae6a1c7c9e>\u001b[0m in \u001b[0;36m<module>\u001b[0;34m\u001b[0m\n\u001b[0;32m----> 1\u001b[0;31m \u001b[0mplt\u001b[0m\u001b[0;34m.\u001b[0m\u001b[0mloglog\u001b[0m\u001b[0;34m(\u001b[0m\u001b[0mdata\u001b[0m\u001b[0;34m[\u001b[0m\u001b[0;34m:\u001b[0m\u001b[0;34m,\u001b[0m\u001b[0;36m0\u001b[0m\u001b[0;34m]\u001b[0m\u001b[0;34m,\u001b[0m \u001b[0mdata\u001b[0m\u001b[0;34m[\u001b[0m\u001b[0;34m:\u001b[0m\u001b[0;34m,\u001b[0m\u001b[0;36m1\u001b[0m\u001b[0;34m]\u001b[0m\u001b[0;34m,\u001b[0m \u001b[0;34m'o'\u001b[0m\u001b[0;34m)\u001b[0m\u001b[0;34m\u001b[0m\u001b[0;34m\u001b[0m\u001b[0m\n\u001b[0m",
      "\u001b[0;31mIndexError\u001b[0m: too many indices for array"
     ]
    }
   ],
   "source": [
    "plt.loglog(data[:,0], data[:,1], 'o')"
   ]
  },
  {
   "cell_type": "code",
   "execution_count": 36,
   "metadata": {},
   "outputs": [],
   "source": [
    "np.savetxt('data_fig4_panel2b.dat', data, header='L tau_d')"
   ]
  },
  {
   "cell_type": "markdown",
   "metadata": {
    "heading_collapsed": true
   },
   "source": [
    "# Other attempts"
   ]
  },
  {
   "cell_type": "code",
   "execution_count": 359,
   "metadata": {
    "hidden": true
   },
   "outputs": [],
   "source": [
    "from matplotlib.gridspec import GridSpec"
   ]
  },
  {
   "cell_type": "code",
   "execution_count": 389,
   "metadata": {
    "hidden": true
   },
   "outputs": [
    {
     "name": "stderr",
     "output_type": "stream",
     "text": [
      "/users/invites/benvegnen/anaconda3/lib/python3.7/site-packages/ipykernel_launcher.py:64: UserWarning: This figure was using constrained_layout==True, but that is incompatible with subplots_adjust and or tight_layout: setting constrained_layout==False. \n"
     ]
    },
    {
     "data": {
      "image/png": "[encoded data removed]",
      "text/plain": [
       "<Figure size 245.081x61.2702 with 6 Axes>"
      ]
     },
     "metadata": {
      "needs_background": "light"
     },
     "output_type": "display_data"
    }
   ],
   "source": [
    "fig = plt.figure(constrained_layout=True)\n",
    "gs = GridSpec(3, 4, figure=fig)\n",
    "x0=1270\n",
    "dx=200\n",
    "vmin=-10\n",
    "vmax=50\n",
    "sh=11\n",
    "\n",
    "\n",
    "ax0 = fig.add_subplot(gs[0,0])\n",
    "\n",
    "kt=1474\n",
    "\n",
    "t0=np.unique(df_m.t)[kt]\n",
    "ax0.text(x=xtime, y=ytime, s=r'$t=%d$'%t0, fontsize=8, color=\"w\")\n",
    "\n",
    "v0=10\n",
    "X_m=-np.roll(df_m[df_m.t==t0].drop(columns=['t']), axis=0, shift=sh)[:,::-1]\n",
    "img=ax0.imshow(X_m, cmap=newcmp, aspect='auto', vmin=vmin, vmax=vmax, origin='lower')\n",
    "ax0.set_xlim(x0-dx,x0+dx)\n",
    "\n",
    "\n",
    "ax1 = fig.add_subplot(gs[0,1])\n",
    "\n",
    "kt=1478\n",
    "\n",
    "t0=np.unique(df_m.t)[kt]\n",
    "ax2.text(x=xtime, y=ytime, s=r'$t=%d$'%t0, fontsize=8, color=\"w\")\n",
    "\n",
    "v0=10\n",
    "X_m=-np.roll(df_m[df_m.t==t0].drop(columns=['t']), axis=0, shift=sh)[:,::-1]\n",
    "img=ax1.imshow(X_m, cmap=newcmp, aspect='auto', vmin=vmin, vmax=vmax, origin='lower')\n",
    "ax1.set_xlim(x0-dx,x0+dx)\n",
    "\n",
    "\n",
    "ax2 = fig.add_subplot(gs[0,2])\n",
    "\n",
    "kt=1482\n",
    "t0=np.unique(df_m.t)[kt]\n",
    "ax2.text(x=xtime, y=ytime, s=r'$t=%d$'%t0, fontsize=8, color=\"w\")\n",
    "\n",
    "v0=10\n",
    "X_m=-np.roll(df_m[df_m.t==t0].drop(columns=['t']), axis=0, shift=sh)[:,::-1]\n",
    "img=ax2.imshow(X_m, cmap=newcmp, aspect='auto', vmin=vmin, vmax=vmax, origin='lower')\n",
    "ax2.set_xlim(x0-dx,x0+dx)\n",
    "\n",
    "ax3 = fig.add_subplot(gs[0,3])\n",
    "\n",
    "kt=1492\n",
    "t0=np.unique(df_m.t)[kt]\n",
    "ax3.text(x=xtime, y=ytime, s=r'$t=%d$'%t0, fontsize=8, color=\"w\")\n",
    "\n",
    "v0=10\n",
    "X_m=-np.roll(df_m[df_m.t==t0].drop(columns=['t']), axis=0, shift=sh)[:,::-1]\n",
    "img=ax3.imshow(X_m, cmap=newcmp, aspect='auto', vmin=vmin, vmax=vmax, origin='lower')\n",
    "ax3.set_xlim(x0-dx,x0+dx)\n",
    "\n",
    "ax4 = fig.add_subplot(gs[1:,0:2 ])\n",
    "ax5 = fig.add_subplot(gs[1:,2: ])\n",
    "\n",
    "\n",
    "plt.subplots_adjust(hspace=0.4, wspace=0.4, left=0.07, right=0.97, top=0.99, bottom=0.09)\n"
   ]
  },
  {
   "cell_type": "code",
   "execution_count": null,
   "metadata": {
    "hidden": true
   },
   "outputs": [],
   "source": []
  }
 ],
 "metadata": {
  "kernelspec": {
   "display_name": "Python 3",
   "language": "python",
   "name": "python3"
  },
  "language_info": {
   "codemirror_mode": {
    "name": "ipython",
    "version": 3
   },
   "file_extension": ".py",
   "mimetype": "text/x-python",
   "name": "python",
   "nbconvert_exporter": "python",
   "pygments_lexer": "ipython3",
   "version": "3.7.6"
  }
 },
 "nbformat": 4,
 "nbformat_minor": 4
}
