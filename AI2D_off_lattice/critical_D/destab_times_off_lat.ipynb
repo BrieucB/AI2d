{
 "cells": [
  {
   "cell_type": "code",
   "execution_count": 162,
   "metadata": {},
   "outputs": [],
   "source": [
    "import numpy as np\n",
    "import matplotlib.pyplot as plt\n",
    "import pandas as pd"
   ]
  },
  {
   "cell_type": "code",
   "execution_count": 163,
   "metadata": {},
   "outputs": [],
   "source": [
    "list_D=[0.005, 0.01, 0.02, 0.04, 0.06, 0.08, 0.10, 0.12, 0.14, 0.16, 0.18, 0.20, 0.22, 0.24, 0.26, 0.28, 0.3, 0.32, 0.34, 0.36, 0.38, 0.4]"
   ]
  },
  {
   "cell_type": "code",
   "execution_count": 164,
   "metadata": {},
   "outputs": [],
   "source": [
    "path='~/Thesis/AI2D/AI2D_off_lattice/critical_D/runs_v3/'"
   ]
  },
  {
   "cell_type": "code",
   "execution_count": 165,
   "metadata": {},
   "outputs": [],
   "source": [
    "filename='f_td.dat'"
   ]
  },
  {
   "cell_type": "code",
   "execution_count": 202,
   "metadata": {},
   "outputs": [
    {
     "name": "stdout",
     "output_type": "stream",
     "text": [
      "0.24\n",
      "0.26\n"
     ]
    }
   ],
   "source": [
    "destab_times={}\n",
    "destab_prof={}\n",
    "for D in list_D:\n",
    "    try:\n",
    "        destab_times[D]=pd.read_csv(path+'D%s/'%str(D)+filename, names=['td'], index_col=False)\n",
    "        #destab_prof[D]=pd.read_csv(path+'D%s/'%str(D)+'f_profiles.dat', sep=' ', names=np.arange(354), index_col=False)\n",
    "        \n",
    "        #destab_prof[D].apply(lambda col:pd.to_numeric(col, errors='raise'))\n",
    "    except FileNotFoundError:\n",
    "        print(D)"
   ]
  },
  {
   "cell_type": "code",
   "execution_count": 216,
   "metadata": {},
   "outputs": [
    {
     "name": "stdout",
     "output_type": "stream",
     "text": [
      "0.24\n",
      "0.26\n"
     ]
    }
   ],
   "source": [
    "destab_times_2={}\n",
    "for D in list_D:\n",
    "    try:\n",
    "        destab_times_2[D]=pd.read_csv(path+'D%s/'%str(D)+filename, names=['td'], index_col=False)\n",
    "        #destab_prof[D]=pd.read_csv(path+'D%s/'%str(D)+'f_profiles.dat', sep=' ', names=np.arange(354), index_col=False)\n",
    "        \n",
    "        #destab_prof[D].apply(lambda col:pd.to_numeric(col, errors='raise'))\n",
    "    except FileNotFoundError:\n",
    "        print(D)"
   ]
  },
  {
   "cell_type": "code",
   "execution_count": 217,
   "metadata": {
    "scrolled": true
   },
   "outputs": [
    {
     "data": {
      "text/plain": [
       "[<matplotlib.lines.Line2D at 0x7fa10b986510>]"
      ]
     },
     "execution_count": 217,
     "metadata": {},
     "output_type": "execute_result"
    },
    {
     "data": {
      "image/png": "[encoded data removed]",
      "text/plain": [
       "<Figure size 432x288 with 1 Axes>"
      ]
     },
     "metadata": {
      "needs_background": "light"
     },
     "output_type": "display_data"
    }
   ],
   "source": [
    "plt.semilogy(list(destab_times_2), [np.nanmean(destab_times_2[D].td.values) if len(destab_times_2[D].td.values)!=0 else np.nan for D in destab_times_2 ], 'o')"
   ]
  },
  {
   "cell_type": "code",
   "execution_count": 213,
   "metadata": {},
   "outputs": [
    {
     "name": "stdout",
     "output_type": "stream",
     "text": [
      "0.005 383.3668\n",
      "0.01 471.94529411764705\n",
      "0.02 609.0194\n",
      "0.04 963.3978431372551\n",
      "0.06 1460.5458823529414\n",
      "0.08 2476.5588000000002\n",
      "0.1 4081.3168\n",
      "0.12\n",
      "0.14\n",
      "0.16\n",
      "0.18\n",
      "0.2\n",
      "0.22\n",
      "0.28\n",
      "0.3\n",
      "0.32\n",
      "0.34\n",
      "0.36\n",
      "0.38\n",
      "0.4\n"
     ]
    }
   ],
   "source": [
    "for D in destab_times:\n",
    "    try:\n",
    "        print(D,np.nanmean(destab_times_2[D].td.values))\n",
    "    except:\n",
    "        print(D)"
   ]
  },
  {
   "cell_type": "code",
   "execution_count": null,
   "metadata": {},
   "outputs": [],
   "source": []
  }
 ],
 "metadata": {
  "kernelspec": {
   "display_name": "Python 3",
   "language": "python",
   "name": "python3"
  },
  "language_info": {
   "codemirror_mode": {
    "name": "ipython",
    "version": 3
   },
   "file_extension": ".py",
   "mimetype": "text/x-python",
   "name": "python",
   "nbconvert_exporter": "python",
   "pygments_lexer": "ipython3",
   "version": "3.7.6"
  }
 },
 "nbformat": 4,
 "nbformat_minor": 4
}
