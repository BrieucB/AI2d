{
 "cells": [
  {
   "cell_type": "code",
   "execution_count": 1,
   "metadata": {},
   "outputs": [],
   "source": [
    "import matplotlib.pyplot as plt\n",
    "import numpy as np\n",
    "import pandas as pd\n",
    "from scipy.ndimage import uniform_filter\n",
    "from mpl_toolkits.axes_grid1.inset_locator import inset_axes\n",
    "from scipy.optimize import fixed_point"
   ]
  },
  {
   "cell_type": "code",
   "execution_count": 2,
   "metadata": {},
   "outputs": [],
   "source": [
    "import matplotlib as mpl\n",
    "mpl.rcParams['axes.prop_cycle'] = plt.cycler(\"color\", plt.cm.Dark2.colors)"
   ]
  },
  {
   "cell_type": "code",
   "execution_count": 3,
   "metadata": {},
   "outputs": [],
   "source": [
    "list_t=np.round(np.arange(0, 2250, 50))"
   ]
  },
  {
   "cell_type": "code",
   "execution_count": 4,
   "metadata": {
    "scrolled": false
   },
   "outputs": [],
   "source": [
    "mat_PDE={}\n",
    "for t in list_t:\n",
    "    mat_PDE[t]=pd.read_csv('/home/invites/benvegnen/AI2D/data_PDE_2d_alex_2/%09d.snap'%t, sep='\\t', skiprows=[1])"
   ]
  },
  {
   "cell_type": "code",
   "execution_count": 5,
   "metadata": {},
   "outputs": [],
   "source": [
    "lx=8000#2100\n",
    "f_m_micro=pd.read_csv('/users/invites/benvegnen/Thesis/AI2D/AI2D_on_lattice/destab_liqp_blob_films/data_prof_article_rho10/i1/f_profiles_m.dat', sep=' ', names=np.arange(lx), index_col=False)\n",
    "f_rho_micro=pd.read_csv('/users/invites/benvegnen/Thesis/AI2D/AI2D_on_lattice/destab_liqp_blob_films/data_prof_article_rho10/i1/f_profiles_rho.dat', sep=' ', names=np.arange(lx), index_col=False)\n"
   ]
  },
  {
   "cell_type": "code",
   "execution_count": 6,
   "metadata": {},
   "outputs": [],
   "source": [
    "m_micro={}\n",
    "rho_micro={}\n",
    "for k in range(45):\n",
    "    m_micro[50*k]=-f_m_micro.values[600*k:600*(k+1),:][:,::-1]\n",
    "    rho_micro[50*k]=f_rho_micro.values[600*k:600*(k+1),:][:,::-1]"
   ]
  },
  {
   "cell_type": "code",
   "execution_count": 7,
   "metadata": {},
   "outputs": [],
   "source": [
    "m_PDE={}\n",
    "rho_PDE={}\n",
    "\n",
    "for t in list_t:\n",
    "    m_PDE[t]=mat_PDE[t].m.values.reshape((12000,-1)).T\n",
    "    rho_PDE[t]=mat_PDE[t].rho.values.reshape((12000,-1)).T"
   ]
  },
  {
   "cell_type": "code",
   "execution_count": 88,
   "metadata": {},
   "outputs": [
    {
     "data": {
      "text/html": [
       "<div>\n",
       "<style scoped>\n",
       "    .dataframe tbody tr th:only-of-type {\n",
       "        vertical-align: middle;\n",
       "    }\n",
       "\n",
       "    .dataframe tbody tr th {\n",
       "        vertical-align: top;\n",
       "    }\n",
       "\n",
       "    .dataframe thead th {\n",
       "        text-align: right;\n",
       "    }\n",
       "</style>\n",
       "<table border=\"1\" class=\"dataframe\">\n",
       "  <thead>\n",
       "    <tr style=\"text-align: right;\">\n",
       "      <th></th>\n",
       "      <th>#x</th>\n",
       "      <th>rho</th>\n",
       "      <th>m</th>\n",
       "    </tr>\n",
       "  </thead>\n",
       "  <tbody>\n",
       "    <tr>\n",
       "      <th>0.00</th>\n",
       "      <td>0.000000</td>\n",
       "      <td>1.0</td>\n",
       "      <td>-0.957503</td>\n",
       "    </tr>\n",
       "    <tr>\n",
       "      <th>0.00</th>\n",
       "      <td>0.666667</td>\n",
       "      <td>1.0</td>\n",
       "      <td>-0.957504</td>\n",
       "    </tr>\n",
       "    <tr>\n",
       "      <th>0.00</th>\n",
       "      <td>1.333330</td>\n",
       "      <td>1.0</td>\n",
       "      <td>-0.957504</td>\n",
       "    </tr>\n",
       "    <tr>\n",
       "      <th>0.00</th>\n",
       "      <td>2.000000</td>\n",
       "      <td>1.0</td>\n",
       "      <td>-0.957503</td>\n",
       "    </tr>\n",
       "    <tr>\n",
       "      <th>0.00</th>\n",
       "      <td>2.666670</td>\n",
       "      <td>1.0</td>\n",
       "      <td>-0.957504</td>\n",
       "    </tr>\n",
       "    <tr>\n",
       "      <th>...</th>\n",
       "      <td>...</td>\n",
       "      <td>...</td>\n",
       "      <td>...</td>\n",
       "    </tr>\n",
       "    <tr>\n",
       "      <th>7999.33</th>\n",
       "      <td>596.667000</td>\n",
       "      <td>1.0</td>\n",
       "      <td>-0.957504</td>\n",
       "    </tr>\n",
       "    <tr>\n",
       "      <th>7999.33</th>\n",
       "      <td>597.333000</td>\n",
       "      <td>1.0</td>\n",
       "      <td>-0.957504</td>\n",
       "    </tr>\n",
       "    <tr>\n",
       "      <th>7999.33</th>\n",
       "      <td>598.000000</td>\n",
       "      <td>1.0</td>\n",
       "      <td>-0.957504</td>\n",
       "    </tr>\n",
       "    <tr>\n",
       "      <th>7999.33</th>\n",
       "      <td>598.667000</td>\n",
       "      <td>1.0</td>\n",
       "      <td>-0.957504</td>\n",
       "    </tr>\n",
       "    <tr>\n",
       "      <th>7999.33</th>\n",
       "      <td>599.333000</td>\n",
       "      <td>1.0</td>\n",
       "      <td>-0.957504</td>\n",
       "    </tr>\n",
       "  </tbody>\n",
       "</table>\n",
       "<p>10800000 rows × 3 columns</p>\n",
       "</div>"
      ],
      "text/plain": [
       "                 #x  rho         m\n",
       "0.00       0.000000  1.0 -0.957503\n",
       "0.00       0.666667  1.0 -0.957504\n",
       "0.00       1.333330  1.0 -0.957504\n",
       "0.00       2.000000  1.0 -0.957503\n",
       "0.00       2.666670  1.0 -0.957504\n",
       "...             ...  ...       ...\n",
       "7999.33  596.667000  1.0 -0.957504\n",
       "7999.33  597.333000  1.0 -0.957504\n",
       "7999.33  598.000000  1.0 -0.957504\n",
       "7999.33  598.667000  1.0 -0.957504\n",
       "7999.33  599.333000  1.0 -0.957504\n",
       "\n",
       "[10800000 rows x 3 columns]"
      ]
     },
     "execution_count": 88,
     "metadata": {},
     "output_type": "execute_result"
    }
   ],
   "source": [
    "mat_PDE[0]"
   ]
  },
  {
   "cell_type": "markdown",
   "metadata": {},
   "source": [
    "# $w(t)$ PDE vs micro"
   ]
  },
  {
   "cell_type": "code",
   "execution_count": 13,
   "metadata": {},
   "outputs": [],
   "source": [
    "fig_width_pt = 123  # Get this from LaTeX using \\showthe\\columnwidth\n",
    "                      # For PRL columnwidth is 246pt.\n",
    "golden_mean = (np.sqrt(5)+1.0)/2.0         # Aesthetic ratio\n",
    "\n",
    "fig_height_pt = fig_width_pt/golden_mean\n",
    "inches_per_pt = 1.0/72.27               # Convert pt to inch\n",
    "fig_width = fig_width_pt*inches_per_pt  # width in inches\n",
    "fig_height = fig_height_pt*inches_per_pt      # height in inches\n",
    "fig_size =  [fig_width,fig_height]\n",
    "params = {'backend': 'ps',\n",
    "          'axes.labelsize': 12,\n",
    "          'font.size': 12,\n",
    "          'xtick.labelsize': 10,\n",
    "          'xtick.direction': 'out',\n",
    "          'ytick.labelsize': 10,\n",
    "          'ytick.direction': 'out',\n",
    "          'ytick.major.pad': 1,\n",
    "          'xtick.major.pad': 1,\n",
    "          'text.usetex': True,\n",
    "          'figure.figsize': fig_size,\n",
    "          'legend.frameon': False,\n",
    "          'legend.fancybox': False}\n",
    "plt.rcParams.update(params)"
   ]
  },
  {
   "cell_type": "code",
   "execution_count": 8,
   "metadata": {},
   "outputs": [],
   "source": [
    "w_pde=[]\n",
    "w_micro=[]\n",
    "\n",
    "for t in list_t:\n",
    "    mat1=m_PDE[t]\n",
    "    w_pde.append((2/3)*np.max(np.sum(mat1>0, axis=0))) #resolution is 2/3\n",
    "    \n",
    "    mat1=m_micro[t]\n",
    "    w_micro.append(np.max(np.sum(mat1>0, axis=0)))"
   ]
  },
  {
   "cell_type": "code",
   "execution_count": 9,
   "metadata": {},
   "outputs": [
    {
     "data": {
      "image/png": "[encoded data removed]",
      "text/plain": [
       "<Figure size 432x288 with 1 Axes>"
      ]
     },
     "metadata": {
      "needs_background": "light"
     },
     "output_type": "display_data"
    }
   ],
   "source": [
    "plt.plot(list_t, w_pde, '-', label=r'$\\mathrm{PDEs}$')\n",
    "plt.plot(list_t, w_micro, '-', label=r'$\\mathrm{Micro}$', markersize=3)\n",
    "\n",
    "plt.legend(fontsize=8, handlelength=1)\n",
    "plt.xlabel(r'$t$', labelpad=-25, x=0.96, rotation=0, zorder=100);\n",
    "plt.ylabel(r'$w$', labelpad=-28, y=0.82, rotation=0, zorder=100);\n",
    "\n",
    "plt.xlim(0,2200)\n",
    "plt.tight_layout(pad=0.01)\n",
    "plt.savefig('w_PDE_vs_micro.pdf');"
   ]
  },
  {
   "cell_type": "code",
   "execution_count": 11,
   "metadata": {},
   "outputs": [
    {
     "ename": "NameError",
     "evalue": "name 'fixed_point' is not defined",
     "output_type": "error",
     "traceback": [
      "\u001b[0;31m------------------------------------------------------------------------\u001b[0m",
      "\u001b[0;31mNameError\u001b[0m                              Traceback (most recent call last)",
      "\u001b[0;32m<ipython-input-11-7528a33be5ee>\u001b[0m in \u001b[0;36m<module>\u001b[0;34m\u001b[0m\n\u001b[0;32m----> 1\u001b[0;31m \u001b[0mfixed_point\u001b[0m\u001b[0;34m(\u001b[0m\u001b[0;32mlambda\u001b[0m \u001b[0mx\u001b[0m \u001b[0;34m:\u001b[0m \u001b[0mnp\u001b[0m\u001b[0;34m.\u001b[0m\u001b[0mtanh\u001b[0m\u001b[0;34m(\u001b[0m\u001b[0;36m2\u001b[0m\u001b[0;34m*\u001b[0m\u001b[0mx\u001b[0m\u001b[0;34m)\u001b[0m\u001b[0;34m,\u001b[0m \u001b[0;36m0.5\u001b[0m\u001b[0;34m)\u001b[0m\u001b[0;34m\u001b[0m\u001b[0;34m\u001b[0m\u001b[0m\n\u001b[0m",
      "\u001b[0;31mNameError\u001b[0m: name 'fixed_point' is not defined"
     ]
    }
   ],
   "source": [
    "fixed_point(lambda x : np.tanh(2*x), 0.5)"
   ]
  },
  {
   "cell_type": "code",
   "execution_count": 421,
   "metadata": {
    "scrolled": false
   },
   "outputs": [
    {
     "data": {
      "image/png": "[encoded data removed]",
      "text/plain": [
       "<Figure size 360x216 with 1 Axes>"
      ]
     },
     "metadata": {
      "needs_background": "light"
     },
     "output_type": "display_data"
    }
   ],
   "source": [
    "plt.figure(figsize=(5,3))\n",
    "plt.plot(list_t, np.array(w_pde), 'o-', label=r'$\\mathrm{PDEs}$')\n",
    "plt.plot(list_t, w_micro, 'o-', label=r'$\\mathrm{Micro}$', markersize=3)\n",
    "\n",
    "plt.legend(fontsize=8, handlelength=1)\n",
    "plt.xlabel(r'$t$', labelpad=-25, x=0.96, rotation=0, zorder=100);\n",
    "plt.ylabel(r'$w$', labelpad=-28, y=0.82, rotation=0, zorder=100);\n",
    "\n",
    "\n",
    "\n",
    "plt.xlim(0,2200)\n",
    "plt.tight_layout(pad=0.01)\n"
   ]
  },
  {
   "cell_type": "code",
   "execution_count": 482,
   "metadata": {},
   "outputs": [
    {
     "data": {
      "text/plain": [
       "46"
      ]
     },
     "execution_count": 482,
     "metadata": {},
     "output_type": "execute_result"
    }
   ],
   "source": [
    "len(w_pde)"
   ]
  },
  {
   "cell_type": "code",
   "execution_count": 486,
   "metadata": {},
   "outputs": [
    {
     "data": {
      "text/plain": [
       "array([  8.87339031, 234.36467236])"
      ]
     },
     "execution_count": 486,
     "metadata": {},
     "output_type": "execute_result"
    }
   ],
   "source": [
    "np.polyfit(np.arange(26), w_pde[20:], deg=1)"
   ]
  },
  {
   "cell_type": "code",
   "execution_count": 489,
   "metadata": {},
   "outputs": [
    {
     "data": {
      "text/plain": [
       "array([ 10.02, 238.88])"
      ]
     },
     "execution_count": 489,
     "metadata": {},
     "output_type": "execute_result"
    }
   ],
   "source": [
    "np.polyfit(np.arange(25), w_micro[20:], deg=1)"
   ]
  },
  {
   "cell_type": "code",
   "execution_count": 422,
   "metadata": {},
   "outputs": [
    {
     "data": {
      "text/plain": [
       "[446.0, 455.3333333333333]"
      ]
     },
     "execution_count": 422,
     "metadata": {},
     "output_type": "execute_result"
    }
   ],
   "source": [
    "w_pde[-2:]"
   ]
  },
  {
   "cell_type": "code",
   "execution_count": 423,
   "metadata": {},
   "outputs": [
    {
     "data": {
      "text/plain": [
       "[385, 396, 406, 418, 430, 441, 453, 460, 470, 478]"
      ]
     },
     "execution_count": 423,
     "metadata": {},
     "output_type": "execute_result"
    }
   ],
   "source": [
    "w_micro[-10:]"
   ]
  },
  {
   "cell_type": "code",
   "execution_count": 424,
   "metadata": {},
   "outputs": [
    {
     "data": {
      "text/plain": [
       "(array([41]),)"
      ]
     },
     "execution_count": 424,
     "metadata": {},
     "output_type": "execute_result"
    }
   ],
   "source": [
    "np.where(np.int64(w_micro)==453)"
   ]
  },
  {
   "cell_type": "code",
   "execution_count": 99,
   "metadata": {},
   "outputs": [
    {
     "data": {
      "text/html": [
       "<div>\n",
       "<style scoped>\n",
       "    .dataframe tbody tr th:only-of-type {\n",
       "        vertical-align: middle;\n",
       "    }\n",
       "\n",
       "    .dataframe tbody tr th {\n",
       "        vertical-align: top;\n",
       "    }\n",
       "\n",
       "    .dataframe thead th {\n",
       "        text-align: right;\n",
       "    }\n",
       "</style>\n",
       "<table border=\"1\" class=\"dataframe\">\n",
       "  <thead>\n",
       "    <tr style=\"text-align: right;\">\n",
       "      <th></th>\n",
       "      <th>#x</th>\n",
       "      <th>rho</th>\n",
       "      <th>m</th>\n",
       "    </tr>\n",
       "  </thead>\n",
       "  <tbody>\n",
       "    <tr>\n",
       "      <th>0.00</th>\n",
       "      <td>0.000000</td>\n",
       "      <td>1.0</td>\n",
       "      <td>-0.957503</td>\n",
       "    </tr>\n",
       "    <tr>\n",
       "      <th>0.00</th>\n",
       "      <td>0.666667</td>\n",
       "      <td>1.0</td>\n",
       "      <td>-0.957504</td>\n",
       "    </tr>\n",
       "    <tr>\n",
       "      <th>0.00</th>\n",
       "      <td>1.333330</td>\n",
       "      <td>1.0</td>\n",
       "      <td>-0.957504</td>\n",
       "    </tr>\n",
       "    <tr>\n",
       "      <th>0.00</th>\n",
       "      <td>2.000000</td>\n",
       "      <td>1.0</td>\n",
       "      <td>-0.957503</td>\n",
       "    </tr>\n",
       "    <tr>\n",
       "      <th>0.00</th>\n",
       "      <td>2.666670</td>\n",
       "      <td>1.0</td>\n",
       "      <td>-0.957504</td>\n",
       "    </tr>\n",
       "    <tr>\n",
       "      <th>...</th>\n",
       "      <td>...</td>\n",
       "      <td>...</td>\n",
       "      <td>...</td>\n",
       "    </tr>\n",
       "    <tr>\n",
       "      <th>7999.33</th>\n",
       "      <td>596.667000</td>\n",
       "      <td>1.0</td>\n",
       "      <td>-0.957504</td>\n",
       "    </tr>\n",
       "    <tr>\n",
       "      <th>7999.33</th>\n",
       "      <td>597.333000</td>\n",
       "      <td>1.0</td>\n",
       "      <td>-0.957504</td>\n",
       "    </tr>\n",
       "    <tr>\n",
       "      <th>7999.33</th>\n",
       "      <td>598.000000</td>\n",
       "      <td>1.0</td>\n",
       "      <td>-0.957504</td>\n",
       "    </tr>\n",
       "    <tr>\n",
       "      <th>7999.33</th>\n",
       "      <td>598.667000</td>\n",
       "      <td>1.0</td>\n",
       "      <td>-0.957504</td>\n",
       "    </tr>\n",
       "    <tr>\n",
       "      <th>7999.33</th>\n",
       "      <td>599.333000</td>\n",
       "      <td>1.0</td>\n",
       "      <td>-0.957504</td>\n",
       "    </tr>\n",
       "  </tbody>\n",
       "</table>\n",
       "<p>10800000 rows × 3 columns</p>\n",
       "</div>"
      ],
      "text/plain": [
       "                 #x  rho         m\n",
       "0.00       0.000000  1.0 -0.957503\n",
       "0.00       0.666667  1.0 -0.957504\n",
       "0.00       1.333330  1.0 -0.957504\n",
       "0.00       2.000000  1.0 -0.957503\n",
       "0.00       2.666670  1.0 -0.957504\n",
       "...             ...  ...       ...\n",
       "7999.33  596.667000  1.0 -0.957504\n",
       "7999.33  597.333000  1.0 -0.957504\n",
       "7999.33  598.000000  1.0 -0.957504\n",
       "7999.33  598.667000  1.0 -0.957504\n",
       "7999.33  599.333000  1.0 -0.957504\n",
       "\n",
       "[10800000 rows x 3 columns]"
      ]
     },
     "execution_count": 99,
     "metadata": {},
     "output_type": "execute_result"
    }
   ],
   "source": [
    "mat_PDE[0]"
   ]
  },
  {
   "cell_type": "code",
   "execution_count": 490,
   "metadata": {},
   "outputs": [
    {
     "data": {
      "text/plain": [
       "<matplotlib.image.AxesImage at 0x7fa8072d5310>"
      ]
     },
     "execution_count": 490,
     "metadata": {},
     "output_type": "execute_result"
    },
    {
     "data": {
      "image/png": "[encoded data removed]",
      "text/plain": [
       "<Figure size 1152x144 with 1 Axes>"
      ]
     },
     "metadata": {
      "needs_background": "light"
     },
     "output_type": "display_data"
    }
   ],
   "source": [
    "plt.matshow(mat_PDE[1000].m.values.reshape((12000,-1)).T)"
   ]
  },
  {
   "cell_type": "code",
   "execution_count": 539,
   "metadata": {},
   "outputs": [
    {
     "data": {
      "text/plain": [
       "<matplotlib.image.AxesImage at 0x7fa83c13df50>"
      ]
     },
     "execution_count": 539,
     "metadata": {},
     "output_type": "execute_result"
    },
    {
     "data": {
      "image/png": "[encoded data removed]",
      "text/plain": [
       "<Figure size 1152x144 with 1 Axes>"
      ]
     },
     "metadata": {
      "needs_background": "light"
     },
     "output_type": "display_data"
    }
   ],
   "source": [
    "k=23\n",
    "plt.matshow(-f_m_micro.values[600*k:600*(k+1),:][:,::-1])"
   ]
  },
  {
   "cell_type": "markdown",
   "metadata": {},
   "source": [
    "# Back & front speed"
   ]
  },
  {
   "cell_type": "code",
   "execution_count": 121,
   "metadata": {},
   "outputs": [],
   "source": [
    "posback_pde=[]\n",
    "posfront_pde=[]\n",
    "poscomet_pde=[]\n",
    "\n",
    "\n",
    "posback_micro=[]\n",
    "posfront_micro=[]\n",
    "poscomet_micro=[]\n",
    "\n",
    "\n",
    "for t in list_t[1:]:\n",
    "#     prof=m_micro[t]\n",
    "#     avg_prof=uniform_filter(prof, size=10, mode='constant')\n",
    "#     prof_mid=avg_prof[300,:]\n",
    "#     m_d=np.max(prof_mid)\n",
    "#     m_0=np.min(prof_mid)\n",
    "#     posback_micro.append(np.where((prof_mid<m_d/2)&(np.roll(prof_mid,-1)>=m_d/2))[0][0])\n",
    "#     #posfront_micro.append(np.where((prof_mid>m_d/2)&(np.roll(prof_mid,-1)<=m_d/2))[0][0])\n",
    "#     posfront_micro.append(np.where((prof_mid>10)&(np.roll(prof_mid,-1)<=10))[0][0])\n",
    " \n",
    "    prof=rho_PDE[t]\n",
    "    prof_mid=prof[450,:]\n",
    "    m_d=np.max(prof_mid)\n",
    "    m_0=np.min(prof_mid)\n",
    "    #posback_pde.append((2/3)*np.where((prof_mid<m_d/2)&(np.roll(prof_mid,-1)>=m_d/2))[0][0])\n",
    "    #posfront_pde.append((2/3)*np.where((prof_mid>m_d/2)&(np.roll(prof_mid,-1)<=m_d/2))[0][0])\n",
    "    #poscomet_pde.append((2/3)*np.where((prof_mid<0.95*(-0.9575030000000001))&(np.roll(prof_mid,-1)>=0.95*(-0.9575030000000001)))[0][0])\n",
    "    poscomet_pde.append((2/3)*np.where((prof_mid>1/2)&(np.roll(prof_mid,-1)<=1/2))[0][0])\n",
    "   "
   ]
  },
  {
   "cell_type": "code",
   "execution_count": 128,
   "metadata": {},
   "outputs": [
    {
     "data": {
      "text/plain": [
       "array([3966.        , 3948.        , 3928.        , 3905.33333333,\n",
       "       3880.        , 3853.33333333, 3824.66666667, 3796.        ,\n",
       "       3766.        , 3735.33333333, 3704.        , 3672.        ,\n",
       "       3640.        , 3607.33333333, 3574.66666667, 3540.66666667,\n",
       "       3507.33333333, 3473.33333333, 3439.33333333, 3404.66666667,\n",
       "       3370.        , 3335.33333333, 3300.        , 3265.33333333,\n",
       "       3230.        , 3194.        , 3158.66666667, 3122.66666667,\n",
       "       3086.66666667, 3050.66666667, 3014.        , 2978.        ,\n",
       "       2941.33333333, 2904.66666667, 2868.        , 2831.33333333,\n",
       "       2794.        , 2757.33333333, 2720.        , 2683.33333333,\n",
       "       2646.        , 2608.66666667, 2570.66666667, 2533.33333333])"
      ]
     },
     "execution_count": 128,
     "metadata": {},
     "output_type": "execute_result"
    }
   ],
   "source": [
    "poscomet_pde=np.array(poscomet_pde)\n",
    "poscomet_pde"
   ]
  },
  {
   "cell_type": "code",
   "execution_count": 123,
   "metadata": {},
   "outputs": [
    {
     "data": {
      "text/plain": [
       "[<matplotlib.lines.Line2D at 0x7f7d5f2a7410>]"
      ]
     },
     "execution_count": 123,
     "metadata": {},
     "output_type": "execute_result"
    },
    {
     "data": {
      "image/png": "[encoded data removed]",
      "text/plain": [
       "<Figure size 122.54x87.5289 with 1 Axes>"
      ]
     },
     "metadata": {
      "needs_background": "light"
     },
     "output_type": "display_data"
    }
   ],
   "source": [
    "plt.plot(-poscomet_pde+poscomet_pde[0], 'o-')"
   ]
  },
  {
   "cell_type": "code",
   "execution_count": 132,
   "metadata": {},
   "outputs": [],
   "source": [
    "data=np.zeros((list_t[1:].shape[0],2))"
   ]
  },
  {
   "cell_type": "code",
   "execution_count": 134,
   "metadata": {
    "scrolled": true
   },
   "outputs": [
    {
     "data": {
      "text/plain": [
       "array([[  50.,    0.],\n",
       "       [ 100.,    0.],\n",
       "       [ 150.,    0.],\n",
       "       [ 200.,    0.],\n",
       "       [ 250.,    0.],\n",
       "       [ 300.,    0.],\n",
       "       [ 350.,    0.],\n",
       "       [ 400.,    0.],\n",
       "       [ 450.,    0.],\n",
       "       [ 500.,    0.],\n",
       "       [ 550.,    0.],\n",
       "       [ 600.,    0.],\n",
       "       [ 650.,    0.],\n",
       "       [ 700.,    0.],\n",
       "       [ 750.,    0.],\n",
       "       [ 800.,    0.],\n",
       "       [ 850.,    0.],\n",
       "       [ 900.,    0.],\n",
       "       [ 950.,    0.],\n",
       "       [1000.,    0.],\n",
       "       [1050.,    0.],\n",
       "       [1100.,    0.],\n",
       "       [1150.,    0.],\n",
       "       [1200.,    0.],\n",
       "       [1250.,    0.],\n",
       "       [1300.,    0.],\n",
       "       [1350.,    0.],\n",
       "       [1400.,    0.],\n",
       "       [1450.,    0.],\n",
       "       [1500.,    0.],\n",
       "       [1550.,    0.],\n",
       "       [1600.,    0.],\n",
       "       [1650.,    0.],\n",
       "       [1700.,    0.],\n",
       "       [1750.,    0.],\n",
       "       [1800.,    0.],\n",
       "       [1850.,    0.],\n",
       "       [1900.,    0.],\n",
       "       [1950.,    0.],\n",
       "       [2000.,    0.],\n",
       "       [2050.,    0.],\n",
       "       [2100.,    0.],\n",
       "       [2150.,    0.],\n",
       "       [2200.,    0.]])"
      ]
     },
     "execution_count": 134,
     "metadata": {},
     "output_type": "execute_result"
    }
   ],
   "source": [
    "data[:,0]=list_t[1:]\n",
    "data"
   ]
  },
  {
   "cell_type": "code",
   "execution_count": 135,
   "metadata": {
    "scrolled": true
   },
   "outputs": [
    {
     "data": {
      "text/plain": [
       "array([[   50.        ,     0.        ],\n",
       "       [  100.        ,   -18.        ],\n",
       "       [  150.        ,   -38.        ],\n",
       "       [  200.        ,   -60.66666667],\n",
       "       [  250.        ,   -86.        ],\n",
       "       [  300.        ,  -112.66666667],\n",
       "       [  350.        ,  -141.33333333],\n",
       "       [  400.        ,  -170.        ],\n",
       "       [  450.        ,  -200.        ],\n",
       "       [  500.        ,  -230.66666667],\n",
       "       [  550.        ,  -262.        ],\n",
       "       [  600.        ,  -294.        ],\n",
       "       [  650.        ,  -326.        ],\n",
       "       [  700.        ,  -358.66666667],\n",
       "       [  750.        ,  -391.33333333],\n",
       "       [  800.        ,  -425.33333333],\n",
       "       [  850.        ,  -458.66666667],\n",
       "       [  900.        ,  -492.66666667],\n",
       "       [  950.        ,  -526.66666667],\n",
       "       [ 1000.        ,  -561.33333333],\n",
       "       [ 1050.        ,  -596.        ],\n",
       "       [ 1100.        ,  -630.66666667],\n",
       "       [ 1150.        ,  -666.        ],\n",
       "       [ 1200.        ,  -700.66666667],\n",
       "       [ 1250.        ,  -736.        ],\n",
       "       [ 1300.        ,  -772.        ],\n",
       "       [ 1350.        ,  -807.33333333],\n",
       "       [ 1400.        ,  -843.33333333],\n",
       "       [ 1450.        ,  -879.33333333],\n",
       "       [ 1500.        ,  -915.33333333],\n",
       "       [ 1550.        ,  -952.        ],\n",
       "       [ 1600.        ,  -988.        ],\n",
       "       [ 1650.        , -1024.66666667],\n",
       "       [ 1700.        , -1061.33333333],\n",
       "       [ 1750.        , -1098.        ],\n",
       "       [ 1800.        , -1134.66666667],\n",
       "       [ 1850.        , -1172.        ],\n",
       "       [ 1900.        , -1208.66666667],\n",
       "       [ 1950.        , -1246.        ],\n",
       "       [ 2000.        , -1282.66666667],\n",
       "       [ 2050.        , -1320.        ],\n",
       "       [ 2100.        , -1357.33333333],\n",
       "       [ 2150.        , -1395.33333333],\n",
       "       [ 2200.        , -1432.66666667]])"
      ]
     },
     "execution_count": 135,
     "metadata": {},
     "output_type": "execute_result"
    }
   ],
   "source": [
    "data[:,1]=poscomet_pde-poscomet_pde[0]\n",
    "data"
   ]
  },
  {
   "cell_type": "code",
   "execution_count": 113,
   "metadata": {},
   "outputs": [
    {
     "data": {
      "text/plain": [
       "array([[   50.        ,     0.        ],\n",
       "       [  100.        ,   -50.66666667],\n",
       "       [  150.        ,  -100.        ],\n",
       "       [  200.        ,  -148.66666667],\n",
       "       [  250.        ,  -196.66666667],\n",
       "       [  300.        ,  -244.66666667],\n",
       "       [  350.        ,  -292.66666667],\n",
       "       [  400.        ,  -340.66666667],\n",
       "       [  450.        ,  -388.        ],\n",
       "       [  500.        ,  -436.        ],\n",
       "       [  550.        ,  -483.33333333],\n",
       "       [  600.        ,  -530.66666667],\n",
       "       [  650.        ,  -578.66666667],\n",
       "       [  700.        ,  -626.        ],\n",
       "       [  750.        ,  -673.33333333],\n",
       "       [  800.        ,  -721.33333333],\n",
       "       [  850.        ,  -768.66666667],\n",
       "       [  900.        ,  -816.        ],\n",
       "       [  950.        ,  -863.33333333],\n",
       "       [ 1000.        ,  -911.33333333],\n",
       "       [ 1050.        ,  -958.66666667],\n",
       "       [ 1100.        , -1006.        ],\n",
       "       [ 1150.        , -1053.33333333],\n",
       "       [ 1200.        , -1100.66666667],\n",
       "       [ 1250.        , -1148.        ],\n",
       "       [ 1300.        , -1196.        ],\n",
       "       [ 1350.        , -1243.33333333],\n",
       "       [ 1400.        , -1290.66666667],\n",
       "       [ 1450.        , -1338.        ],\n",
       "       [ 1500.        , -1385.33333333],\n",
       "       [ 1550.        , -1432.66666667],\n",
       "       [ 1600.        , -1480.66666667],\n",
       "       [ 1650.        , -1528.        ],\n",
       "       [ 1700.        , -1575.33333333],\n",
       "       [ 1750.        , -1622.66666667],\n",
       "       [ 1800.        , -1670.        ],\n",
       "       [ 1850.        , -1717.33333333],\n",
       "       [ 1900.        , -1765.33333333],\n",
       "       [ 1950.        , -1812.66666667],\n",
       "       [ 2000.        , -1860.        ],\n",
       "       [ 2050.        , -1907.33333333],\n",
       "       [ 2100.        , -1954.66666667],\n",
       "       [ 2150.        , -2002.66666667],\n",
       "       [ 2200.        , -2050.        ]])"
      ]
     },
     "execution_count": 113,
     "metadata": {},
     "output_type": "execute_result"
    }
   ],
   "source": [
    "data[:,1]=poscomet_pde-poscomet_pde[0]\n",
    "data"
   ]
  },
  {
   "cell_type": "code",
   "execution_count": 136,
   "metadata": {},
   "outputs": [],
   "source": [
    "np.savetxt('data_fig2d_pde_x_m_rho0.dat', data, header='t x_-')"
   ]
  },
  {
   "cell_type": "code",
   "execution_count": 131,
   "metadata": {},
   "outputs": [
    {
     "data": {
      "text/plain": [
       "<matplotlib.collections.LineCollection at 0x7f7d614035d0>"
      ]
     },
     "execution_count": 131,
     "metadata": {},
     "output_type": "execute_result"
    },
    {
     "data": {
      "image/png": "[encoded data removed]",
      "text/plain": [
       "<Figure size 720x576 with 1 Axes>"
      ]
     },
     "metadata": {
      "needs_background": "light"
     },
     "output_type": "display_data"
    }
   ],
   "source": [
    "plt.figure(figsize=(10,8))\n",
    "t=list_t[10]\n",
    "prof=rho_PDE[t]\n",
    "prof_mid=prof[450,:]\n",
    "plt.plot((2/3)*np.arange(prof_mid.shape[0]), prof_mid)\n",
    "\n",
    "plt.vlines(poscomet_pde[10], -1,5)"
   ]
  },
  {
   "cell_type": "code",
   "execution_count": null,
   "metadata": {},
   "outputs": [],
   "source": []
  },
  {
   "cell_type": "code",
   "execution_count": 104,
   "metadata": {},
   "outputs": [
    {
     "data": {
      "text/plain": [
       "-0.9575030000000001"
      ]
     },
     "execution_count": 104,
     "metadata": {},
     "output_type": "execute_result"
    }
   ],
   "source": [
    "prof_mid[0]"
   ]
  },
  {
   "cell_type": "code",
   "execution_count": 96,
   "metadata": {
    "scrolled": true
   },
   "outputs": [
    {
     "data": {
      "text/plain": [
       "[<matplotlib.lines.Line2D at 0x7f7d5e3d5750>]"
      ]
     },
     "execution_count": 96,
     "metadata": {},
     "output_type": "execute_result"
    },
    {
     "data": {
      "image/png": "[encoded data removed]",
      "text/plain": [
       "<Figure size 360x216 with 1 Axes>"
      ]
     },
     "metadata": {
      "needs_background": "light"
     },
     "output_type": "display_data"
    }
   ],
   "source": [
    "plt.figure(figsize=(5,3))\n",
    "\n",
    "plt.plot(list_t[1:], np.array(posback_micro-posback_micro[0]))\n",
    "plt.plot(list_t[1:], np.array(posfront_micro-posfront_micro[0]))\n",
    "\n",
    "plt.plot(list_t[1:], posback_pde-posback_pde[0], '--')\n",
    "plt.plot(list_t[1:], np.array(posfront_pde-posfront_pde[0]), '--')\n",
    "\n",
    "plt.plot(list_t[1:], np.array(w_pde)[1:], '--', label=r'$\\mathrm{PDEs}$')\n",
    "plt.plot(list_t[1:], w_micro[1:], '-', label=r'$\\mathrm{Micro}$', markersize=3)\n"
   ]
  },
  {
   "cell_type": "code",
   "execution_count": 12,
   "metadata": {},
   "outputs": [],
   "source": [
    "u_micro=np.array(posfront_micro-posfront_micro[0])-np.array(posback_micro-posback_micro[0])\n",
    "u_pde=np.array(posfront_pde-posfront_pde[0])-np.array(posback_pde-posback_pde[0])"
   ]
  },
  {
   "cell_type": "code",
   "execution_count": 13,
   "metadata": {},
   "outputs": [
    {
     "data": {
      "text/plain": [
       "<matplotlib.legend.Legend at 0x7f80d9cf5d90>"
      ]
     },
     "execution_count": 13,
     "metadata": {},
     "output_type": "execute_result"
    },
    {
     "data": {
      "image/png": "[encoded data removed]",
      "text/plain": [
       "<Figure size 360x216 with 1 Axes>"
      ]
     },
     "metadata": {
      "needs_background": "light"
     },
     "output_type": "display_data"
    }
   ],
   "source": [
    "plt.figure(figsize=(5,3))\n",
    "\n",
    "plt.plot(list_t[1:], u_micro, label='Micro')\n",
    "plt.plot(list_t[1:], u_pde, label='PDE')\n",
    "plt.legend()"
   ]
  },
  {
   "cell_type": "code",
   "execution_count": 571,
   "metadata": {},
   "outputs": [
    {
     "data": {
      "text/plain": [
       "44"
      ]
     },
     "execution_count": 571,
     "metadata": {},
     "output_type": "execute_result"
    }
   ],
   "source": [
    "len(u_micro)"
   ]
  },
  {
   "cell_type": "code",
   "execution_count": 572,
   "metadata": {},
   "outputs": [
    {
     "data": {
      "text/plain": [
       "2200"
      ]
     },
     "execution_count": 572,
     "metadata": {},
     "output_type": "execute_result"
    }
   ],
   "source": [
    "44*50"
   ]
  },
  {
   "cell_type": "code",
   "execution_count": 570,
   "metadata": {},
   "outputs": [
    {
     "data": {
      "text/plain": [
       "(array([37]),)"
      ]
     },
     "execution_count": 570,
     "metadata": {},
     "output_type": "execute_result"
    }
   ],
   "source": [
    "np.where(u_pde==992)"
   ]
  },
  {
   "cell_type": "markdown",
   "metadata": {},
   "source": [
    "# Cut $m=0$ PDE vs micro"
   ]
  },
  {
   "cell_type": "code",
   "execution_count": 22,
   "metadata": {},
   "outputs": [],
   "source": [
    "fig_width_pt = 123  # Get this from LaTeX using \\showthe\\columnwidth\n",
    "                      # For PRL columnwidth is 246pt.\n",
    "golden_mean = (np.sqrt(5)+1.0)/2.0         # Aesthetic ratio\n",
    "\n",
    "fig_height_pt = fig_width_pt/golden_mean\n",
    "inches_per_pt = 1.0/72.27               # Convert pt to inch\n",
    "fig_width = fig_width_pt*inches_per_pt  # width in inches\n",
    "fig_height = fig_height_pt*inches_per_pt      # height in inches\n",
    "fig_size =  [fig_width,fig_height]\n",
    "params = {'backend': 'ps',\n",
    "          'axes.labelsize': 12,\n",
    "          'font.size': 12,\n",
    "          'xtick.labelsize': 10,\n",
    "          'xtick.direction': 'out',\n",
    "          'ytick.labelsize': 10,\n",
    "          'ytick.direction': 'out',\n",
    "          'ytick.major.pad': 1,\n",
    "          'xtick.major.pad': 1,\n",
    "          'text.usetex': True,\n",
    "          'figure.figsize': fig_size,\n",
    "          'legend.frameon': False,\n",
    "          'legend.fancybox': False}\n",
    "plt.rcParams.update(params)"
   ]
  },
  {
   "cell_type": "code",
   "execution_count": 14,
   "metadata": {},
   "outputs": [],
   "source": [
    "t_pde=2200\n",
    "t_micro=41*50\n",
    "\n",
    "mat_micro_rho=rho_micro[t_micro]\n",
    "mat_micro_m=m_micro[t_micro]\n",
    "mat_pde_rho=rho_PDE[t_pde]\n",
    "mat_pde_m=m_PDE[t_pde]"
   ]
  },
  {
   "cell_type": "code",
   "execution_count": 15,
   "metadata": {},
   "outputs": [
    {
     "data": {
      "text/plain": [
       "[<matplotlib.lines.Line2D at 0x7f7d6122c290>]"
      ]
     },
     "execution_count": 15,
     "metadata": {},
     "output_type": "execute_result"
    },
    {
     "data": {
      "image/png": "[encoded data removed]",
      "text/plain": [
       "<Figure size 288x288 with 1 Axes>"
      ]
     },
     "metadata": {
      "needs_background": "light"
     },
     "output_type": "display_data"
    }
   ],
   "source": [
    "plt.figure(figsize=(4,4))\n",
    "plt.plot(np.arange(mat_micro_m[300,:].shape[0]), mat_micro_m[300,:]/10)\n",
    "\n",
    "plt.plot((2/3)*np.arange(12000), mat_pde_m[450,:])\n",
    "#plt.plot((2/3)*np.arange(12000), mat_pde_rho[450,:])\n",
    "\n",
    "#<plt.xlim(4000, 6000)\n"
   ]
  },
  {
   "cell_type": "code",
   "execution_count": 16,
   "metadata": {},
   "outputs": [
    {
     "data": {
      "image/png": "[encoded data removed]",
      "text/plain": [
       "<Figure size 504x432 with 1 Axes>"
      ]
     },
     "metadata": {
      "needs_background": "light"
     },
     "output_type": "display_data"
    }
   ],
   "source": [
    "plt.figure(figsize=(7,6))\n",
    "\n",
    "xmin=1000\n",
    "xmax=8000\n",
    "xlist = np.arange(xmin, xmax)\n",
    "ylist = np.arange(0, 600)\n",
    "X, Y = np.meshgrid(xlist, ylist)\n",
    "\n",
    "avg_prof=uniform_filter(mat_micro_m, size=5, mode='constant')\n",
    "\n",
    "Z = avg_prof[:,xmin:xmax]\n",
    "\n",
    "cp = plt.contour(X, Y, Z, levels=[-1])\n",
    "plt.clabel(cp, fontsize=1, inline=False, fmt='%d')\n",
    "labels = [r'$\\mathrm{Micro}$']\n",
    "for i in range(len(labels)):\n",
    "    cp.collections[i].set_label(labels[i])\n",
    "\n",
    "Xshift=300\n",
    "\n",
    "xmin=1000\n",
    "xmax=12000\n",
    "xlist = np.arange(xmin, xmax)*(2./3)\n",
    "ylist = np.arange(0, 900)*(2./3)\n",
    "X, Y = np.meshgrid(xlist, ylist)\n",
    "Z = mat_pde_m[:,xmin:xmax]\n",
    "cp = plt.contour(X-Xshift, Y, Z, levels=[-1e-1], colors='orange', linewidths=1)\n",
    "\n",
    "plt.clabel(cp, fontsize=1, inline=False, fmt='%d')\n",
    "labels = [r'$\\mathrm{PDEs}$']\n",
    "for i in range(len(labels)):\n",
    "    cp.collections[i].set_label(labels[i])\n",
    "\n",
    "# #DENS\n",
    "xmin=1000\n",
    "xmax=8000\n",
    "xlist = np.arange(xmin, xmax)\n",
    "ylist = np.arange(0, 600)\n",
    "X, Y = np.meshgrid(xlist, ylist)\n",
    "\n",
    "avg_prof=uniform_filter(mat_micro_rho, size=5, mode='constant')\n",
    "\n",
    "Z = avg_prof[:,xmin:xmax]\n",
    "cp = plt.contour(X, Y, Z, levels=[12])\n",
    "\n",
    "xmin=1000\n",
    "xmax=12000\n",
    "xlist = np.arange(xmin, xmax)*(2./3)\n",
    "ylist = np.arange(0, 900)*(2./3)\n",
    "X, Y = np.meshgrid(xlist, ylist)\n",
    "Z = mat_pde_rho[:,xmin:xmax]\n",
    "cp = plt.contour(X-Xshift, Y, Z, levels=[1.2], colors='orange', linewidths=1)\n",
    "\n",
    "\n",
    "plt.legend(fontsize=8, handlelength=1, loc=(0.,0.))\n",
    "plt.xlabel(r'$x$', labelpad=-24, x=0.96, rotation=0, zorder=100);\n",
    "plt.ylabel(r'$y$', labelpad=-25, y=0.82, rotation=0, zorder=100);\n",
    "\n",
    "plt.yticks((0,500))\n",
    "\n",
    "#plt.xlim(600,1800)\n",
    "plt.tight_layout(pad=0.01)\n",
    "#plt.savefig('iso_m_PDE_vs_micro_asympt.pdf');"
   ]
  },
  {
   "cell_type": "markdown",
   "metadata": {},
   "source": [
    "## Early profile"
   ]
  },
  {
   "cell_type": "code",
   "execution_count": 17,
   "metadata": {},
   "outputs": [
    {
     "ename": "TypeError",
     "evalue": "Shape of x does not match that of z: found (500, 1100) instead of (600, 1100).",
     "output_type": "error",
     "traceback": [
      "\u001b[0;31m------------------------------------------------------------------------\u001b[0m",
      "\u001b[0;31mTypeError\u001b[0m                              Traceback (most recent call last)",
      "\u001b[0;32m<ipython-input-17-6a5d70acf021>\u001b[0m in \u001b[0;36m<module>\u001b[0;34m\u001b[0m\n\u001b[1;32m      9\u001b[0m \u001b[0mZ\u001b[0m \u001b[0;34m=\u001b[0m \u001b[0mavg_prof\u001b[0m\u001b[0;34m[\u001b[0m\u001b[0;34m:\u001b[0m\u001b[0;34m,\u001b[0m\u001b[0mxmin\u001b[0m\u001b[0;34m:\u001b[0m\u001b[0mxmax\u001b[0m\u001b[0;34m]\u001b[0m\u001b[0;34m\u001b[0m\u001b[0;34m\u001b[0m\u001b[0m\n\u001b[1;32m     10\u001b[0m \u001b[0;34m\u001b[0m\u001b[0m\n\u001b[0;32m---> 11\u001b[0;31m \u001b[0mcp\u001b[0m \u001b[0;34m=\u001b[0m \u001b[0mplt\u001b[0m\u001b[0;34m.\u001b[0m\u001b[0mcontour\u001b[0m\u001b[0;34m(\u001b[0m\u001b[0mX\u001b[0m\u001b[0;34m,\u001b[0m \u001b[0mY\u001b[0m\u001b[0;34m,\u001b[0m \u001b[0mZ\u001b[0m\u001b[0;34m,\u001b[0m \u001b[0mlevels\u001b[0m\u001b[0;34m=\u001b[0m\u001b[0;34m[\u001b[0m\u001b[0;34m-\u001b[0m\u001b[0;36m1\u001b[0m\u001b[0;34m]\u001b[0m\u001b[0;34m)\u001b[0m\u001b[0;34m\u001b[0m\u001b[0;34m\u001b[0m\u001b[0m\n\u001b[0m\u001b[1;32m     12\u001b[0m \u001b[0mplt\u001b[0m\u001b[0;34m.\u001b[0m\u001b[0mclabel\u001b[0m\u001b[0;34m(\u001b[0m\u001b[0mcp\u001b[0m\u001b[0;34m,\u001b[0m \u001b[0mfontsize\u001b[0m\u001b[0;34m=\u001b[0m\u001b[0;36m1\u001b[0m\u001b[0;34m,\u001b[0m \u001b[0minline\u001b[0m\u001b[0;34m=\u001b[0m\u001b[0;32mFalse\u001b[0m\u001b[0;34m,\u001b[0m \u001b[0mfmt\u001b[0m\u001b[0;34m=\u001b[0m\u001b[0;34m'%d'\u001b[0m\u001b[0;34m)\u001b[0m\u001b[0;34m\u001b[0m\u001b[0;34m\u001b[0m\u001b[0m\n\u001b[1;32m     13\u001b[0m \u001b[0mlabels\u001b[0m \u001b[0;34m=\u001b[0m \u001b[0;34m[\u001b[0m\u001b[0;34mr'$\\mathrm{Micro}$'\u001b[0m\u001b[0;34m]\u001b[0m\u001b[0;34m\u001b[0m\u001b[0;34m\u001b[0m\u001b[0m\n",
      "\u001b[0;32m~/anaconda3/lib/python3.7/site-packages/matplotlib/pyplot.py\u001b[0m in \u001b[0;36mcontour\u001b[0;34m(data, *args, **kwargs)\u001b[0m\n\u001b[1;32m   2519\u001b[0m     __ret = gca().contour(\n\u001b[1;32m   2520\u001b[0m         \u001b[0;34m*\u001b[0m\u001b[0margs\u001b[0m\u001b[0;34m,\u001b[0m \u001b[0;34m**\u001b[0m\u001b[0;34m(\u001b[0m\u001b[0;34m{\u001b[0m\u001b[0;34m\"data\"\u001b[0m\u001b[0;34m:\u001b[0m \u001b[0mdata\u001b[0m\u001b[0;34m}\u001b[0m \u001b[0;32mif\u001b[0m \u001b[0mdata\u001b[0m \u001b[0;32mis\u001b[0m \u001b[0;32mnot\u001b[0m \u001b[0;32mNone\u001b[0m \u001b[0;32melse\u001b[0m \u001b[0;34m{\u001b[0m\u001b[0;34m}\u001b[0m\u001b[0;34m)\u001b[0m\u001b[0;34m,\u001b[0m\u001b[0;34m\u001b[0m\u001b[0;34m\u001b[0m\u001b[0m\n\u001b[0;32m-> 2521\u001b[0;31m         **kwargs)\n\u001b[0m\u001b[1;32m   2522\u001b[0m     \u001b[0;32mif\u001b[0m \u001b[0m__ret\u001b[0m\u001b[0;34m.\u001b[0m\u001b[0m_A\u001b[0m \u001b[0;32mis\u001b[0m \u001b[0;32mnot\u001b[0m \u001b[0;32mNone\u001b[0m\u001b[0;34m:\u001b[0m \u001b[0msci\u001b[0m\u001b[0;34m(\u001b[0m\u001b[0m__ret\u001b[0m\u001b[0;34m)\u001b[0m  \u001b[0;31m# noqa\u001b[0m\u001b[0;34m\u001b[0m\u001b[0;34m\u001b[0m\u001b[0m\n\u001b[1;32m   2523\u001b[0m     \u001b[0;32mreturn\u001b[0m \u001b[0m__ret\u001b[0m\u001b[0;34m\u001b[0m\u001b[0;34m\u001b[0m\u001b[0m\n",
      "\u001b[0;32m~/anaconda3/lib/python3.7/site-packages/matplotlib/__init__.py\u001b[0m in \u001b[0;36minner\u001b[0;34m(ax, data, *args, **kwargs)\u001b[0m\n\u001b[1;32m   1597\u001b[0m     \u001b[0;32mdef\u001b[0m \u001b[0minner\u001b[0m\u001b[0;34m(\u001b[0m\u001b[0max\u001b[0m\u001b[0;34m,\u001b[0m \u001b[0;34m*\u001b[0m\u001b[0margs\u001b[0m\u001b[0;34m,\u001b[0m \u001b[0mdata\u001b[0m\u001b[0;34m=\u001b[0m\u001b[0;32mNone\u001b[0m\u001b[0;34m,\u001b[0m \u001b[0;34m**\u001b[0m\u001b[0mkwargs\u001b[0m\u001b[0;34m)\u001b[0m\u001b[0;34m:\u001b[0m\u001b[0;34m\u001b[0m\u001b[0;34m\u001b[0m\u001b[0m\n\u001b[1;32m   1598\u001b[0m         \u001b[0;32mif\u001b[0m \u001b[0mdata\u001b[0m \u001b[0;32mis\u001b[0m \u001b[0;32mNone\u001b[0m\u001b[0;34m:\u001b[0m\u001b[0;34m\u001b[0m\u001b[0;34m\u001b[0m\u001b[0m\n\u001b[0;32m-> 1599\u001b[0;31m             \u001b[0;32mreturn\u001b[0m \u001b[0mfunc\u001b[0m\u001b[0;34m(\u001b[0m\u001b[0max\u001b[0m\u001b[0;34m,\u001b[0m \u001b[0;34m*\u001b[0m\u001b[0mmap\u001b[0m\u001b[0;34m(\u001b[0m\u001b[0msanitize_sequence\u001b[0m\u001b[0;34m,\u001b[0m \u001b[0margs\u001b[0m\u001b[0;34m)\u001b[0m\u001b[0;34m,\u001b[0m \u001b[0;34m**\u001b[0m\u001b[0mkwargs\u001b[0m\u001b[0;34m)\u001b[0m\u001b[0;34m\u001b[0m\u001b[0;34m\u001b[0m\u001b[0m\n\u001b[0m\u001b[1;32m   1600\u001b[0m \u001b[0;34m\u001b[0m\u001b[0m\n\u001b[1;32m   1601\u001b[0m         \u001b[0mbound\u001b[0m \u001b[0;34m=\u001b[0m \u001b[0mnew_sig\u001b[0m\u001b[0;34m.\u001b[0m\u001b[0mbind\u001b[0m\u001b[0;34m(\u001b[0m\u001b[0max\u001b[0m\u001b[0;34m,\u001b[0m \u001b[0;34m*\u001b[0m\u001b[0margs\u001b[0m\u001b[0;34m,\u001b[0m \u001b[0;34m**\u001b[0m\u001b[0mkwargs\u001b[0m\u001b[0;34m)\u001b[0m\u001b[0;34m\u001b[0m\u001b[0;34m\u001b[0m\u001b[0m\n",
      "\u001b[0;32m~/anaconda3/lib/python3.7/site-packages/matplotlib/axes/_axes.py\u001b[0m in \u001b[0;36mcontour\u001b[0;34m(self, *args, **kwargs)\u001b[0m\n\u001b[1;32m   6420\u001b[0m     \u001b[0;32mdef\u001b[0m \u001b[0mcontour\u001b[0m\u001b[0;34m(\u001b[0m\u001b[0mself\u001b[0m\u001b[0;34m,\u001b[0m \u001b[0;34m*\u001b[0m\u001b[0margs\u001b[0m\u001b[0;34m,\u001b[0m \u001b[0;34m**\u001b[0m\u001b[0mkwargs\u001b[0m\u001b[0;34m)\u001b[0m\u001b[0;34m:\u001b[0m\u001b[0;34m\u001b[0m\u001b[0;34m\u001b[0m\u001b[0m\n\u001b[1;32m   6421\u001b[0m         \u001b[0mkwargs\u001b[0m\u001b[0;34m[\u001b[0m\u001b[0;34m'filled'\u001b[0m\u001b[0;34m]\u001b[0m \u001b[0;34m=\u001b[0m \u001b[0;32mFalse\u001b[0m\u001b[0;34m\u001b[0m\u001b[0;34m\u001b[0m\u001b[0m\n\u001b[0;32m-> 6422\u001b[0;31m         \u001b[0mcontours\u001b[0m \u001b[0;34m=\u001b[0m \u001b[0mmcontour\u001b[0m\u001b[0;34m.\u001b[0m\u001b[0mQuadContourSet\u001b[0m\u001b[0;34m(\u001b[0m\u001b[0mself\u001b[0m\u001b[0;34m,\u001b[0m \u001b[0;34m*\u001b[0m\u001b[0margs\u001b[0m\u001b[0;34m,\u001b[0m \u001b[0;34m**\u001b[0m\u001b[0mkwargs\u001b[0m\u001b[0;34m)\u001b[0m\u001b[0;34m\u001b[0m\u001b[0;34m\u001b[0m\u001b[0m\n\u001b[0m\u001b[1;32m   6423\u001b[0m         \u001b[0mself\u001b[0m\u001b[0;34m.\u001b[0m\u001b[0mautoscale_view\u001b[0m\u001b[0;34m(\u001b[0m\u001b[0;34m)\u001b[0m\u001b[0;34m\u001b[0m\u001b[0;34m\u001b[0m\u001b[0m\n\u001b[1;32m   6424\u001b[0m         \u001b[0;32mreturn\u001b[0m \u001b[0mcontours\u001b[0m\u001b[0;34m\u001b[0m\u001b[0;34m\u001b[0m\u001b[0m\n",
      "\u001b[0;32m~/anaconda3/lib/python3.7/site-packages/matplotlib/contour.py\u001b[0m in \u001b[0;36m__init__\u001b[0;34m(self, ax, levels, filled, linewidths, linestyles, alpha, origin, extent, cmap, colors, norm, vmin, vmax, extend, antialiased, *args, **kwargs)\u001b[0m\n\u001b[1;32m    853\u001b[0m         \u001b[0mself\u001b[0m\u001b[0;34m.\u001b[0m\u001b[0m_transform\u001b[0m \u001b[0;34m=\u001b[0m \u001b[0mkwargs\u001b[0m\u001b[0;34m.\u001b[0m\u001b[0mpop\u001b[0m\u001b[0;34m(\u001b[0m\u001b[0;34m'transform'\u001b[0m\u001b[0;34m,\u001b[0m \u001b[0;32mNone\u001b[0m\u001b[0;34m)\u001b[0m\u001b[0;34m\u001b[0m\u001b[0;34m\u001b[0m\u001b[0m\n\u001b[1;32m    854\u001b[0m \u001b[0;34m\u001b[0m\u001b[0m\n\u001b[0;32m--> 855\u001b[0;31m         \u001b[0mkwargs\u001b[0m \u001b[0;34m=\u001b[0m \u001b[0mself\u001b[0m\u001b[0;34m.\u001b[0m\u001b[0m_process_args\u001b[0m\u001b[0;34m(\u001b[0m\u001b[0;34m*\u001b[0m\u001b[0margs\u001b[0m\u001b[0;34m,\u001b[0m \u001b[0;34m**\u001b[0m\u001b[0mkwargs\u001b[0m\u001b[0;34m)\u001b[0m\u001b[0;34m\u001b[0m\u001b[0;34m\u001b[0m\u001b[0m\n\u001b[0m\u001b[1;32m    856\u001b[0m         \u001b[0mself\u001b[0m\u001b[0;34m.\u001b[0m\u001b[0m_process_levels\u001b[0m\u001b[0;34m(\u001b[0m\u001b[0;34m)\u001b[0m\u001b[0;34m\u001b[0m\u001b[0;34m\u001b[0m\u001b[0m\n\u001b[1;32m    857\u001b[0m \u001b[0;34m\u001b[0m\u001b[0m\n",
      "\u001b[0;32m~/anaconda3/lib/python3.7/site-packages/matplotlib/contour.py\u001b[0m in \u001b[0;36m_process_args\u001b[0;34m(self, *args, **kwargs)\u001b[0m\n\u001b[1;32m   1454\u001b[0m                 \u001b[0mself\u001b[0m\u001b[0;34m.\u001b[0m\u001b[0m_corner_mask\u001b[0m \u001b[0;34m=\u001b[0m \u001b[0mmpl\u001b[0m\u001b[0;34m.\u001b[0m\u001b[0mrcParams\u001b[0m\u001b[0;34m[\u001b[0m\u001b[0;34m'contour.corner_mask'\u001b[0m\u001b[0;34m]\u001b[0m\u001b[0;34m\u001b[0m\u001b[0;34m\u001b[0m\u001b[0m\n\u001b[1;32m   1455\u001b[0m \u001b[0;34m\u001b[0m\u001b[0m\n\u001b[0;32m-> 1456\u001b[0;31m             \u001b[0mx\u001b[0m\u001b[0;34m,\u001b[0m \u001b[0my\u001b[0m\u001b[0;34m,\u001b[0m \u001b[0mz\u001b[0m \u001b[0;34m=\u001b[0m \u001b[0mself\u001b[0m\u001b[0;34m.\u001b[0m\u001b[0m_contour_args\u001b[0m\u001b[0;34m(\u001b[0m\u001b[0margs\u001b[0m\u001b[0;34m,\u001b[0m \u001b[0mkwargs\u001b[0m\u001b[0;34m)\u001b[0m\u001b[0;34m\u001b[0m\u001b[0;34m\u001b[0m\u001b[0m\n\u001b[0m\u001b[1;32m   1457\u001b[0m \u001b[0;34m\u001b[0m\u001b[0m\n\u001b[1;32m   1458\u001b[0m             \u001b[0m_mask\u001b[0m \u001b[0;34m=\u001b[0m \u001b[0mma\u001b[0m\u001b[0;34m.\u001b[0m\u001b[0mgetmask\u001b[0m\u001b[0;34m(\u001b[0m\u001b[0mz\u001b[0m\u001b[0;34m)\u001b[0m\u001b[0;34m\u001b[0m\u001b[0;34m\u001b[0m\u001b[0m\n",
      "\u001b[0;32m~/anaconda3/lib/python3.7/site-packages/matplotlib/contour.py\u001b[0m in \u001b[0;36m_contour_args\u001b[0;34m(self, args, kwargs)\u001b[0m\n\u001b[1;32m   1512\u001b[0m             \u001b[0margs\u001b[0m \u001b[0;34m=\u001b[0m \u001b[0margs\u001b[0m\u001b[0;34m[\u001b[0m\u001b[0;36m1\u001b[0m\u001b[0;34m:\u001b[0m\u001b[0;34m]\u001b[0m\u001b[0;34m\u001b[0m\u001b[0;34m\u001b[0m\u001b[0m\n\u001b[1;32m   1513\u001b[0m         \u001b[0;32melif\u001b[0m \u001b[0mNargs\u001b[0m \u001b[0;34m<=\u001b[0m \u001b[0;36m4\u001b[0m\u001b[0;34m:\u001b[0m\u001b[0;34m\u001b[0m\u001b[0;34m\u001b[0m\u001b[0m\n\u001b[0;32m-> 1514\u001b[0;31m             \u001b[0mx\u001b[0m\u001b[0;34m,\u001b[0m \u001b[0my\u001b[0m\u001b[0;34m,\u001b[0m \u001b[0mz\u001b[0m \u001b[0;34m=\u001b[0m \u001b[0mself\u001b[0m\u001b[0;34m.\u001b[0m\u001b[0m_check_xyz\u001b[0m\u001b[0;34m(\u001b[0m\u001b[0margs\u001b[0m\u001b[0;34m[\u001b[0m\u001b[0;34m:\u001b[0m\u001b[0;36m3\u001b[0m\u001b[0;34m]\u001b[0m\u001b[0;34m,\u001b[0m \u001b[0mkwargs\u001b[0m\u001b[0;34m)\u001b[0m\u001b[0;34m\u001b[0m\u001b[0;34m\u001b[0m\u001b[0m\n\u001b[0m\u001b[1;32m   1515\u001b[0m             \u001b[0margs\u001b[0m \u001b[0;34m=\u001b[0m \u001b[0margs\u001b[0m\u001b[0;34m[\u001b[0m\u001b[0;36m3\u001b[0m\u001b[0;34m:\u001b[0m\u001b[0;34m]\u001b[0m\u001b[0;34m\u001b[0m\u001b[0;34m\u001b[0m\u001b[0m\n\u001b[1;32m   1516\u001b[0m         \u001b[0;32melse\u001b[0m\u001b[0;34m:\u001b[0m\u001b[0;34m\u001b[0m\u001b[0;34m\u001b[0m\u001b[0m\n",
      "\u001b[0;32m~/anaconda3/lib/python3.7/site-packages/matplotlib/contour.py\u001b[0m in \u001b[0;36m_check_xyz\u001b[0;34m(self, args, kwargs)\u001b[0m\n\u001b[1;32m   1573\u001b[0m             \u001b[0;32mif\u001b[0m \u001b[0mx\u001b[0m\u001b[0;34m.\u001b[0m\u001b[0mshape\u001b[0m \u001b[0;34m!=\u001b[0m \u001b[0mz\u001b[0m\u001b[0;34m.\u001b[0m\u001b[0mshape\u001b[0m\u001b[0;34m:\u001b[0m\u001b[0;34m\u001b[0m\u001b[0;34m\u001b[0m\u001b[0m\n\u001b[1;32m   1574\u001b[0m                 raise TypeError(\"Shape of x does not match that of z: found \"\n\u001b[0;32m-> 1575\u001b[0;31m                                 \"{0} instead of {1}.\".format(x.shape, z.shape))\n\u001b[0m\u001b[1;32m   1576\u001b[0m \u001b[0;34m\u001b[0m\u001b[0m\n\u001b[1;32m   1577\u001b[0m             \u001b[0;32mif\u001b[0m \u001b[0my\u001b[0m\u001b[0;34m.\u001b[0m\u001b[0mshape\u001b[0m \u001b[0;34m!=\u001b[0m \u001b[0mz\u001b[0m\u001b[0;34m.\u001b[0m\u001b[0mshape\u001b[0m\u001b[0;34m:\u001b[0m\u001b[0;34m\u001b[0m\u001b[0;34m\u001b[0m\u001b[0m\n",
      "\u001b[0;31mTypeError\u001b[0m: Shape of x does not match that of z: found (500, 1100) instead of (600, 1100)."
     ]
    },
    {
     "data": {
      "image/png": "[encoded data removed]",
      "text/plain": [
       "<Figure size 432x288 with 1 Axes>"
      ]
     },
     "metadata": {
      "needs_background": "light"
     },
     "output_type": "display_data"
    }
   ],
   "source": [
    "xmin=1000\n",
    "xmax=2100\n",
    "xlist = np.arange(xmin, xmax)\n",
    "ylist = np.arange(0, 500)\n",
    "X, Y = np.meshgrid(xlist, ylist)\n",
    "\n",
    "avg_prof=uniform_filter(mat_micro_m, size=5, mode='constant')\n",
    "\n",
    "Z = avg_prof[:,xmin:xmax]\n",
    "\n",
    "cp = plt.contour(X, Y, Z, levels=[-1])\n",
    "plt.clabel(cp, fontsize=1, inline=False, fmt='%d')\n",
    "labels = [r'$\\mathrm{Micro}$']\n",
    "for i in range(len(labels)):\n",
    "    cp.collections[i].set_label(labels[i])\n",
    "\n",
    "\n",
    "xmin=6000\n",
    "xmax=8000\n",
    "xlist = np.arange(xmin, xmax)*(2./3)\n",
    "ylist = np.arange(0, 900)*(2./3)\n",
    "X, Y = np.meshgrid(xlist, ylist)\n",
    "Z = mat_pde_m[:,xmin:xmax]\n",
    "cp = plt.contour(X-3259, Y-50, Z, levels=[-1e-1], colors='orange', linewidths=0.6)\n",
    "\n",
    "plt.clabel(cp, fontsize=1, inline=False, fmt='%d')\n",
    "labels = [r'$\\mathrm{PDEs}$']\n",
    "for i in range(len(labels)):\n",
    "    cp.collections[i].set_label(labels[i])\n",
    "\n",
    "# #DENS\n",
    "\n",
    "xmin=0\n",
    "xmax=2100\n",
    "xlist = np.arange(xmin, xmax)\n",
    "ylist = np.arange(0, 500)\n",
    "X, Y = np.meshgrid(xlist, ylist)\n",
    "\n",
    "avg_prof=uniform_filter(mat_micro_rho, size=5, mode='constant')\n",
    "\n",
    "Z = avg_prof[:,xmin:xmax]\n",
    "cp = plt.contour(X, Y, Z, levels=[12])\n",
    "\n",
    "xmin=0\n",
    "xmax=8000\n",
    "xlist = np.arange(xmin, xmax)*(2./3)\n",
    "ylist = np.arange(0, 900)*(2./3)\n",
    "X, Y = np.meshgrid(xlist, ylist)\n",
    "Z = mat_pde_rho[:,xmin:xmax]\n",
    "cp = plt.contour(X-3260, Y-50, Z, levels=[1.2], colors='orange', linewidths=0.6)\n",
    "\n",
    "\n",
    "plt.legend(fontsize=8, handlelength=1, loc=(0.,0.))\n",
    "plt.xlabel(r'$x$', labelpad=-24, x=0.96, rotation=0, zorder=100);\n",
    "plt.ylabel(r'$y$', labelpad=-25, y=0.82, rotation=0, zorder=100);\n",
    "\n",
    "plt.yticks((0,500))\n",
    "\n",
    "plt.xlim(600,1800)\n",
    "plt.tight_layout(pad=0.01)\n",
    "plt.savefig('iso_m_PDE_vs_micro.pdf');"
   ]
  },
  {
   "cell_type": "markdown",
   "metadata": {},
   "source": [
    "# Snapshot PDE"
   ]
  },
  {
   "cell_type": "code",
   "execution_count": 22,
   "metadata": {},
   "outputs": [],
   "source": [
    "fig_width_pt = 246  # Get this from LaTeX using \\showthe\\columnwidth\n",
    "                      # For PRL columnwidth is 246pt.\n",
    "golden_mean = (np.sqrt(5)+1.0)/2.0         # Aesthetic ratio\n",
    "\n",
    "fig_height_pt = fig_width_pt/3\n",
    "inches_per_pt = 1.0/72.27               # Convert pt to inch\n",
    "fig_width = fig_width_pt*inches_per_pt  # width in inches\n",
    "fig_height = fig_height_pt*inches_per_pt      # height in inches\n",
    "fig_size =  [fig_width,fig_height]\n",
    "params = {'backend': 'ps',\n",
    "          'axes.labelsize': 10,\n",
    "          'font.size': 10,\n",
    "          'xtick.labelsize': 7,\n",
    "          'xtick.direction': 'out',\n",
    "          'ytick.labelsize': 7,\n",
    "          'ytick.direction': 'out',\n",
    "          'ytick.major.pad': 1,\n",
    "          'xtick.major.pad': 1,\n",
    "          'text.usetex': True,\n",
    "          'figure.figsize': fig_size,\n",
    "          'legend.frameon': False,\n",
    "          'legend.fancybox': False}\n",
    "plt.rcParams.update(params)"
   ]
  },
  {
   "cell_type": "code",
   "execution_count": 23,
   "metadata": {},
   "outputs": [],
   "source": [
    "mat_pde_m=mat_PDE[1000].m.values.reshape((12000,-1)).T"
   ]
  },
  {
   "cell_type": "code",
   "execution_count": 24,
   "metadata": {},
   "outputs": [],
   "source": [
    "from matplotlib import cm\n",
    "from matplotlib.colors import ListedColormap, LinearSegmentedColormap\n",
    "\n",
    "\n",
    "top = cm.get_cmap('PuBu_r', 100*128)\n",
    "bottom = cm.get_cmap('YlOrBr', 100*128)\n",
    "middle = (1,1,1,1)\n",
    "newcolors = np.vstack((top(np.linspace(0, 1, 100*38)),\n",
    "                       bottom(np.linspace(0, 1, 100*128))))\n",
    "newcmp = ListedColormap(newcolors, name='OrangeBlue')"
   ]
  },
  {
   "cell_type": "code",
   "execution_count": 25,
   "metadata": {},
   "outputs": [
    {
     "name": "stderr",
     "output_type": "stream",
     "text": [
      "/users/invites/benvegnen/anaconda3/lib/python3.7/site-packages/ipykernel_launcher.py:20: UserWarning: This figure includes Axes that are not compatible with tight_layout, so results might be incorrect.\n"
     ]
    },
    {
     "data": {
      "image/png": "[encoded data removed]",
      "text/plain": [
       "<Figure size 245.081x81.6936 with 2 Axes>"
      ]
     },
     "metadata": {},
     "output_type": "display_data"
    }
   ],
   "source": [
    "pcm=plt.imshow(mat_pde_m, cmap=newcmp, aspect='auto', vmin=-1.5, vmax=5, origin='lower')\n",
    "\n",
    "inset_ax = inset_axes(plt.gca(),\n",
    "                          height=\"61%\", # set height\n",
    "                          width=\"2.54%\", # and width\n",
    "                          loc=6,\n",
    "                          #bbox_to_anchor=(75,130, 100, 100)\n",
    "                     )\n",
    "\n",
    "cbar=plt.colorbar(pcm, fraction=0.1, ticks=[-1, 0, +4], cax = inset_ax, \n",
    "                  orientation='vertical',\n",
    "                    drawedges=False)\n",
    "\n",
    "cbar.outline.set_visible(False)\n",
    "cbar.ax.tick_params(size=1, color='w')\n",
    "cbar_yticks = plt.getp(cbar.ax.axes, 'yticklabels')\n",
    "plt.setp(cbar_yticks, color='w')\n",
    "\n",
    "cbar.ax.set_ylabel(r'$m$', rotation=0, labelpad=-15, y=1.2, color=\"w\")\n",
    "plt.tight_layout(pad=0.01)\n",
    "\n",
    "#plt.savefig('snapshot_PDE.pdf', dpi=1000);\n"
   ]
  },
  {
   "cell_type": "code",
   "execution_count": null,
   "metadata": {},
   "outputs": [],
   "source": []
  },
  {
   "cell_type": "markdown",
   "metadata": {},
   "source": [
    "# Panel Fig. 2"
   ]
  },
  {
   "cell_type": "code",
   "execution_count": 26,
   "metadata": {},
   "outputs": [],
   "source": [
    "fig_width_pt = 246  # Get this from LaTeX using \\showthe\\columnwidth\n",
    "                      # For PRL columnwidth is 246pt.\n",
    "golden_mean = (np.sqrt(5)+1.0)/2.0         # Aesthetic ratio\n",
    "\n",
    "fig_height_pt = fig_width_pt/1.4\n",
    "inches_per_pt = 1.0/72.27               # Convert pt to inch\n",
    "fig_width = fig_width_pt*inches_per_pt  # width in inches\n",
    "fig_height = fig_height_pt*inches_per_pt      # height in inches\n",
    "fig_size =  [fig_width,fig_height]\n",
    "params = {'backend': 'ps',\n",
    "          'axes.labelsize': 10,\n",
    "          'font.size': 10,\n",
    "          'xtick.labelsize': 7,\n",
    "          'xtick.direction': 'out',\n",
    "          'ytick.labelsize': 7,\n",
    "          'ytick.direction': 'out',\n",
    "          'ytick.major.pad': 1,\n",
    "          'xtick.major.pad': 1,\n",
    "          'text.usetex': True,\n",
    "          'figure.figsize': fig_size,\n",
    "          'legend.frameon': False,\n",
    "          'legend.fancybox': False}\n",
    "plt.rcParams.update(params)"
   ]
  },
  {
   "cell_type": "code",
   "execution_count": 27,
   "metadata": {},
   "outputs": [],
   "source": [
    "from matplotlib import cm\n",
    "from matplotlib.colors import ListedColormap, LinearSegmentedColormap\n",
    "\n",
    "\n",
    "top = cm.get_cmap('PuBu_r', 100*128)\n",
    "bottom = cm.get_cmap('YlOrBr', 100*128)\n",
    "middle = (1,1,1,1)\n",
    "newcolors = np.vstack((top(np.linspace(0, 1, 100*16)),\n",
    "                       bottom(np.linspace(0, 1, 100*128))))\n",
    "newcmp = ListedColormap(newcolors, name='OrangeBlue')"
   ]
  },
  {
   "cell_type": "code",
   "execution_count": 39,
   "metadata": {},
   "outputs": [
    {
     "data": {
      "image/png": "[encoded data removed]",
      "text/plain": [
       "<Figure size 245.081x175.058 with 4 Axes>"
      ]
     },
     "metadata": {},
     "output_type": "display_data"
    }
   ],
   "source": [
    "xlab=0.45\n",
    "ylab=1.06\n",
    "\n",
    "########### PDE Profile #########\n",
    "ax=plt.subplot(211)\n",
    "plt.text(s=r'$\\mathrm{(a)}$', x=xlab, y=ylab, transform=plt.gca().transAxes)\n",
    "\n",
    "t=1850\n",
    "mat_pde_m=mat_PDE[t].m.values.reshape((12000,-1)).T\n",
    "extent=[-mat_pde_m.shape[1]/2., mat_pde_m.shape[1]/2., -mat_pde_m.shape[0]/2., mat_pde_m.shape[0]/2. ]\n",
    "\n",
    "pcm=plt.imshow(mat_pde_m, cmap=newcmp, aspect='auto', vmin=-1., vmax=7, extent=extent)\n",
    "\n",
    "xtime=4300\n",
    "ytime=320\n",
    "plt.text(x=xtime, y=ytime, s=r'$t=%d$'%t, fontsize=7, color=\"w\")\n",
    "\n",
    "vx0=4500\n",
    "plt.xticks([-vx0, 0, vx0], [r'$%d$'%np.int64(-2/3*vx0), r'$%d$'%0, r'$%d$'%np.int64(2/3*vx0)])\n",
    "\n",
    "vy0=300\n",
    "plt.yticks([-vy0, 0, vy0], [r'$%d$'%np.int64(-2/3*vy0), r'$%d$'%0, r'$%d$'%np.int64(2/3*vy0)])\n",
    "\n",
    "inset_ax = inset_axes(ax,\n",
    "                          height=\"61%\", # set height\n",
    "                          width=\"2.54%\", # and width\n",
    "                          loc=6,\n",
    "                          bbox_to_anchor=(20,100,200,60)\n",
    "                     )\n",
    "\n",
    "cbar=plt.colorbar(pcm, fraction=0.2, ticks=[-1, 0, +5], cax = inset_ax, \n",
    "                  orientation='vertical',\n",
    "                    drawedges=False)\n",
    "\n",
    "cbar.outline.set_visible(False)\n",
    "cbar.ax.tick_params(size=1, color='w')\n",
    "cbar_yticks = plt.getp(cbar.ax.axes, 'yticklabels')\n",
    "plt.setp(cbar_yticks, color='w')\n",
    "\n",
    "cbar.ax.set_ylabel(r'${m}/{\\rho_0}$', rotation=0, labelpad=-14, y=1.2, color=\"w\", fontsize=7)\n",
    "\n",
    "########### w(t) #########\n",
    "plt.subplot(223)\n",
    "plt.text(s=r'$\\mathrm{(b)}$', x=xlab, y=ylab, transform=plt.gca().transAxes)\n",
    "\n",
    "plt.plot(50*np.arange(45), w_micro, '-', label=r'$\\mathrm{Micro}$', markersize=3)\n",
    "\n",
    "plt.plot(list_t, w_pde, '-', label=r'$\\mathrm{PDEs}$')\n",
    "\n",
    "plt.legend(fontsize=8, handlelength=1, loc=(0.45,0.05))\n",
    "plt.xlabel(r'$t$', labelpad=-20, x=0.96, rotation=0, zorder=100);\n",
    "plt.ylabel(r'$w$', labelpad=-23, y=0.83, rotation=0, zorder=100);\n",
    "\n",
    "plt.xlim(0,2200)\n",
    "\n",
    "########### CONTOURS #########\n",
    "t_pde=2200\n",
    "t_micro=41*50\n",
    "\n",
    "mat_micro_rho=rho_micro[t_micro]\n",
    "mat_micro_m=m_micro[t_micro]\n",
    "mat_pde_rho=rho_PDE[t_pde]\n",
    "mat_pde_m=m_PDE[t_pde]\n",
    "Xshift=-300\n",
    "\n",
    "\n",
    "color_micro=plt.get_cmap('Dark2')(0.25)\n",
    "color_PDE=plt.get_cmap('Dark2')(0.39)\n",
    "plt.subplot(224)\n",
    "plt.text(s=r'$\\mathrm{(c)}$', x=xlab, y=ylab, transform=plt.gca().transAxes)\n",
    "\n",
    "xmin=1000\n",
    "xmax=8000\n",
    "xlist = np.arange(xmin, xmax)\n",
    "ylist = np.arange(0, 600)\n",
    "X, Y = np.meshgrid(xlist, ylist)\n",
    "\n",
    "avg_prof=uniform_filter(mat_micro_m, size=5, mode='constant')\n",
    "\n",
    "Z = avg_prof[:,xmin:xmax]\n",
    "\n",
    "cp = plt.contour(X, Y, Z, levels=[-1], colors=[color_micro])\n",
    "plt.clabel(cp, fontsize=1, inline=False, fmt='%d')\n",
    "labels = [r'$\\mathrm{Micro}$']\n",
    "for i in range(len(labels)):\n",
    "    cp.collections[i].set_label(labels[i])\n",
    "\n",
    "\n",
    "xmin=1000\n",
    "xmax=12000\n",
    "xlist = np.arange(xmin, xmax)*(2./3)\n",
    "ylist = np.arange(0, 900)*(2./3)\n",
    "X, Y = np.meshgrid(xlist, ylist)\n",
    "Z = mat_pde_m[:,xmin:xmax]\n",
    "cp = plt.contour(X+Xshift, Y, Z, levels=[-1e-1], colors=[color_PDE], linewidths=0.8)\n",
    "\n",
    "plt.clabel(cp, fontsize=1, inline=False, fmt='%d')\n",
    "labels = [r'$\\mathrm{PDEs}$']\n",
    "for i in range(len(labels)):\n",
    "    cp.collections[i].set_label(labels[i])\n",
    "\n",
    "# #DENS\n",
    "xmin=1000\n",
    "xmax=8000\n",
    "xlist = np.arange(xmin, xmax)\n",
    "ylist = np.arange(0, 600)\n",
    "X, Y = np.meshgrid(xlist, ylist)\n",
    "\n",
    "avg_prof=uniform_filter(mat_micro_rho, size=5, mode='constant')\n",
    "\n",
    "Z = avg_prof[:,xmin:xmax]\n",
    "cp = plt.contour(X, Y, Z, levels=[12], colors=[color_micro])\n",
    "\n",
    "xmin=1000\n",
    "xmax=12000\n",
    "xlist = np.arange(xmin, xmax)*(2./3)\n",
    "ylist = np.arange(0, 900)*(2./3)\n",
    "X, Y = np.meshgrid(xlist, ylist)\n",
    "Z = mat_pde_rho[:,xmin:xmax]\n",
    "cp = plt.contour(X+Xshift, Y, Z, levels=[1.2], colors=[color_PDE], linewidths=0.8)\n",
    "\n",
    "\n",
    "plt.legend(fontsize=8, handlelength=1, loc=(0.,0.))\n",
    "plt.xlabel(r'$x$', labelpad=-20, x=0.96, rotation=0, zorder=100);\n",
    "plt.ylabel(r'$y$', labelpad=-22, y=0.82, rotation=0, zorder=100);\n",
    "\n",
    "xmid=4500\n",
    "list_xticks=[2500, 4500, 6500]\n",
    "list_xshifted=np.array(list_xticks)-xmid\n",
    "plt.xticks(list_xticks, [r\"$%d$\"%a for a in list_xshifted])\n",
    "plt.xlim(1000, 8000)\n",
    "\n",
    "plt.subplots_adjust(hspace=0.4, wspace=0.2, left=0.07, right=0.99, top=0.92, bottom=0.08)\n",
    "\n",
    "plt.savefig('panel_fig2_v1.pdf', dpi=400);"
   ]
  },
  {
   "cell_type": "code",
   "execution_count": null,
   "metadata": {},
   "outputs": [],
   "source": []
  },
  {
   "cell_type": "markdown",
   "metadata": {},
   "source": [
    "## Fronts pos"
   ]
  },
  {
   "cell_type": "code",
   "execution_count": 40,
   "metadata": {},
   "outputs": [
    {
     "data": {
      "image/png": "[encoded data removed]",
      "text/plain": [
       "<Figure size 245.081x175.058 with 4 Axes>"
      ]
     },
     "metadata": {},
     "output_type": "display_data"
    }
   ],
   "source": [
    "xlab=0.45\n",
    "ylab=1.06\n",
    "\n",
    "########### PDE Profile #########\n",
    "ax=plt.subplot(211)\n",
    "plt.text(s=r'$\\mathrm{(a)}$', x=xlab, y=ylab, transform=plt.gca().transAxes)\n",
    "\n",
    "t=1850\n",
    "mat_pde_m=mat_PDE[t].m.values.reshape((12000,-1)).T\n",
    "extent=[-mat_pde_m.shape[1]/2., mat_pde_m.shape[1]/2., -mat_pde_m.shape[0]/2., mat_pde_m.shape[0]/2. ]\n",
    "\n",
    "pcm=plt.imshow(mat_pde_m, cmap=newcmp, aspect='auto', vmin=-1., vmax=7, extent=extent)\n",
    "\n",
    "xtime=4300\n",
    "ytime=320\n",
    "plt.text(x=xtime, y=ytime, s=r'$t=%d$'%t, fontsize=7, color=\"w\")\n",
    "\n",
    "vx0=4500\n",
    "plt.xticks([-vx0, 0, vx0], [r'$%d$'%np.int64(-2/3*vx0), r'$%d$'%0, r'$%d$'%np.int64(2/3*vx0)])\n",
    "\n",
    "vy0=300\n",
    "plt.yticks([-vy0, 0, vy0], [r'$%d$'%np.int64(-2/3*vy0), r'$%d$'%0, r'$%d$'%np.int64(2/3*vy0)])\n",
    "\n",
    "inset_ax = inset_axes(ax,\n",
    "                          height=\"61%\", # set height\n",
    "                          width=\"2.54%\", # and width\n",
    "                          loc=6,\n",
    "                          bbox_to_anchor=(25,100,200,60)\n",
    "                     )\n",
    "\n",
    "cbar=plt.colorbar(pcm, fraction=0.2, ticks=[-1, 0, +5], cax = inset_ax, \n",
    "                  orientation='vertical',\n",
    "                    drawedges=False)\n",
    "\n",
    "cbar.outline.set_visible(False)\n",
    "cbar.ax.tick_params(size=1, color='w')\n",
    "cbar_yticks = plt.getp(cbar.ax.axes, 'yticklabels')\n",
    "plt.setp(cbar_yticks, color='w')\n",
    "\n",
    "cbar.ax.set_ylabel(r'${m}/{\\rho_0}$', rotation=0, labelpad=-14, y=1.2, color=\"w\", fontsize=7)\n",
    "\n",
    "########### w(t) #########\n",
    "plt.subplot(223)\n",
    "lw=0.9\n",
    "plt.text(s=r'$\\mathrm{(b)}$', x=xlab, y=ylab, transform=plt.gca().transAxes)\n",
    "\n",
    "plt.plot(list_t[1:], np.array(posback_micro-posback_micro[0]), label=r'${\\rm Back}$', linewidth=lw)\n",
    "plt.plot(list_t[1:], np.array(posfront_micro-posfront_micro[0]), label=r'${\\rm Front}$', linewidth=lw)\n",
    "plt.plot(list_t[1:], w_micro[1:], '-', label=r'${\\rm Width}$', linewidth=lw)\n",
    "\n",
    "plt.plot(list_t[1:], posback_pde-posback_pde[0], '--', label=r'${\\rm Back}$', linewidth=lw)\n",
    "plt.plot([],[])\n",
    "plt.plot([],[])\n",
    "plt.plot(list_t[1:], np.array(posfront_pde-posfront_pde[0]), '--', label=r'${\\rm Front}$', linewidth=lw)\n",
    "plt.plot(list_t[1:], np.array(w_pde)[1:], '--', label=r'${\\rm Width}$', linewidth=lw)\n",
    "\n",
    "\n",
    "fs=6\n",
    "ycat=0.89\n",
    "plt.annotate(s=r'${\\rm Micro}$', xy=(0.02, ycat), fontsize=fs, xycoords='axes fraction')\n",
    "plt.annotate(s=r'${\\rm PDEs}$', xy=(0.33, ycat), fontsize=fs, xycoords='axes fraction')\n",
    "\n",
    "leg=plt.legend(fontsize=fs-1, handlelength=1.1, loc=(0.01,0.55), labelspacing=0.2, ncol=2, columnspacing=0.5)\n",
    "for line in leg.get_lines():\n",
    "    line.set_linewidth(0.8)\n",
    "plt.xlabel(r'$t$', labelpad=-19, x=0.96, rotation=0, zorder=100);\n",
    "#plt.ylabel(r'$w$', labelpad=-25, y=0.83, rotation=0, zorder=100);\n",
    "\n",
    "plt.xlim(0,2200)\n",
    "plt.ylim(-200,4300)\n",
    "\n",
    "\n",
    "########### CONTOURS #########\n",
    "t_pde=2200\n",
    "t_micro=41*50\n",
    "\n",
    "mat_micro_rho=rho_micro[t_micro]\n",
    "mat_micro_m=m_micro[t_micro]\n",
    "mat_pde_rho=rho_PDE[t_pde]\n",
    "mat_pde_m=m_PDE[t_pde]\n",
    "Xshift=-300\n",
    "\n",
    "\n",
    "color_micro=plt.get_cmap('Dark2')(0.51)\n",
    "color_PDE=plt.get_cmap('Dark2')(0.63)\n",
    "plt.subplot(224)\n",
    "plt.text(s=r'$\\mathrm{(c)}$', x=xlab, y=ylab, transform=plt.gca().transAxes)\n",
    "\n",
    "xmin=1000\n",
    "xmax=8000\n",
    "xlist = np.arange(xmin, xmax)\n",
    "ylist = np.arange(0, 600)\n",
    "X, Y = np.meshgrid(xlist, ylist)\n",
    "\n",
    "avg_prof=uniform_filter(mat_micro_m, size=5, mode='constant')\n",
    "\n",
    "Z = avg_prof[:,xmin:xmax]\n",
    "\n",
    "cp = plt.contour(X, Y, Z, levels=[-1], colors=[color_micro])\n",
    "plt.clabel(cp, fontsize=1, inline=False, fmt='%d')\n",
    "labels = [r'$\\mathrm{Micro}$']\n",
    "for i in range(len(labels)):\n",
    "    cp.collections[i].set_label(labels[i])\n",
    "\n",
    "\n",
    "xmin=1000\n",
    "xmax=12000\n",
    "xlist = np.arange(xmin, xmax)*(2./3)\n",
    "ylist = np.arange(0, 900)*(2./3)\n",
    "X, Y = np.meshgrid(xlist, ylist)\n",
    "Z = mat_pde_m[:,xmin:xmax]\n",
    "cp = plt.contour(X+Xshift, Y, Z, levels=[-1e-1], colors=[color_PDE], linewidths=0.8)\n",
    "\n",
    "plt.clabel(cp, fontsize=1, inline=False, fmt='%d')\n",
    "labels = [r'$\\mathrm{PDEs}$']\n",
    "for i in range(len(labels)):\n",
    "    cp.collections[i].set_label(labels[i])\n",
    "\n",
    "# #DENS\n",
    "xmin=1000\n",
    "xmax=8000\n",
    "xlist = np.arange(xmin, xmax)\n",
    "ylist = np.arange(0, 600)\n",
    "X, Y = np.meshgrid(xlist, ylist)\n",
    "\n",
    "avg_prof=uniform_filter(mat_micro_rho, size=5, mode='constant')\n",
    "\n",
    "Z = avg_prof[:,xmin:xmax]\n",
    "cp = plt.contour(X, Y, Z, levels=[12], colors=[color_micro])\n",
    "\n",
    "xmin=1000\n",
    "xmax=12000\n",
    "xlist = np.arange(xmin, xmax)*(2./3)\n",
    "ylist = np.arange(0, 900)*(2./3)\n",
    "X, Y = np.meshgrid(xlist, ylist)\n",
    "Z = mat_pde_rho[:,xmin:xmax]\n",
    "cp = plt.contour(X+Xshift, Y, Z, levels=[1.2], colors=[color_PDE], linewidths=0.8)\n",
    "\n",
    "\n",
    "plt.legend(fontsize=8, handlelength=1, loc=(0.,0.))\n",
    "plt.xlabel(r'$x$', labelpad=-20, x=0.96, rotation=0, zorder=100);\n",
    "plt.ylabel(r'$y$', labelpad=-27, y=0.83, rotation=0, zorder=100);\n",
    "\n",
    "xmid=4500\n",
    "list_xticks=[2500, 4500, 6500]\n",
    "list_xshifted=np.array(list_xticks)-xmid\n",
    "plt.xticks(list_xticks, [r\"$%d$\"%a for a in list_xshifted])\n",
    "\n",
    "ymid=300\n",
    "list_yticks=[100, 300, 500]\n",
    "list_yshifted=np.array(list_yticks)-ymid\n",
    "plt.yticks(list_yticks, [r\"$%d$\"%a for a in list_yshifted])\n",
    "\n",
    "plt.xlim(1000, 8000)\n",
    "\n",
    "plt.subplots_adjust(hspace=0.4, wspace=0.25, left=0.09, right=1, top=0.92, bottom=0.08)\n",
    "\n",
    "plt.savefig('panel_fig2_v1_alternative.pdf', dpi=400);"
   ]
  },
  {
   "cell_type": "markdown",
   "metadata": {},
   "source": [
    "# Panel a"
   ]
  },
  {
   "cell_type": "code",
   "execution_count": 29,
   "metadata": {},
   "outputs": [],
   "source": [
    "fig_width_pt = 246  # Get this from LaTeX using \\showthe\\columnwidth\n",
    "                      # For PRL columnwidth is 246pt.\n",
    "golden_mean = (np.sqrt(5)+1.0)/2.0         # Aesthetic ratio\n",
    "\n",
    "fig_height_pt = 0.5*fig_width_pt/1.4\n",
    "inches_per_pt = 1.0/72.27               # Convert pt to inch\n",
    "fig_width = fig_width_pt*inches_per_pt  # width in inches\n",
    "fig_height = fig_height_pt*inches_per_pt      # height in inches\n",
    "fig_size =  [fig_width,fig_height]\n",
    "params = {'backend': 'ps',\n",
    "          'axes.labelsize': 10,\n",
    "          'font.size': 10,\n",
    "          'xtick.labelsize': 7,\n",
    "          'xtick.direction': 'out',\n",
    "          'ytick.labelsize': 7,\n",
    "          'ytick.direction': 'out',\n",
    "          'ytick.major.pad': 1,\n",
    "          'xtick.major.pad': 1,\n",
    "          'text.usetex': True,\n",
    "          'figure.figsize': fig_size,\n",
    "          'legend.frameon': False,\n",
    "          'legend.fancybox': False}\n",
    "plt.rcParams.update(params)"
   ]
  },
  {
   "cell_type": "code",
   "execution_count": 30,
   "metadata": {},
   "outputs": [
    {
     "data": {
      "image/png": "[encoded data removed]",
      "text/plain": [
       "<Figure size 245.081x87.5289 with 2 Axes>"
      ]
     },
     "metadata": {},
     "output_type": "display_data"
    }
   ],
   "source": [
    "xlab=0.45\n",
    "ylab=1.06\n",
    "\n",
    "########### PDE Profile #########\n",
    "ax=plt.subplot(111)\n",
    "plt.text(s=r'$\\mathrm{(a)}$', x=xlab, y=ylab, transform=plt.gca().transAxes)\n",
    "\n",
    "t=1850\n",
    "mat_pde_m=mat_PDE[t].m.values.reshape((12000,-1)).T\n",
    "extent=[-mat_pde_m.shape[1]/2., mat_pde_m.shape[1]/2., -mat_pde_m.shape[0]/2., mat_pde_m.shape[0]/2. ]\n",
    "\n",
    "pcm=plt.imshow(mat_pde_m, cmap=newcmp, aspect='auto', vmin=-1., vmax=7, extent=extent)\n",
    "\n",
    "xtime=4300\n",
    "ytime=320\n",
    "plt.text(x=xtime, y=ytime, s=r'$t=%d$'%t, fontsize=7, color=\"w\")\n",
    "\n",
    "vx0=4500\n",
    "plt.xticks([-vx0, 0, vx0], [r'$%d$'%np.int64(-2/3*vx0), r'$%d$'%0, r'$%d$'%np.int64(2/3*vx0)])\n",
    "\n",
    "vy0=300\n",
    "plt.yticks([-vy0, 0, vy0], [r'$%d$'%np.int64(-2/3*vy0), r'$%d$'%0, r'$%d$'%np.int64(2/3*vy0)])\n",
    "\n",
    "inset_ax = inset_axes(ax,\n",
    "                          height=\"61%\", # set height\n",
    "                          width=\"2.54%\", # and width\n",
    "                          loc=6,\n",
    "                          bbox_to_anchor=(25,10,200,60)\n",
    "                     )\n",
    "\n",
    "cbar=plt.colorbar(pcm, fraction=0.2, ticks=[-1, 0, +5], cax = inset_ax, \n",
    "                  orientation='vertical',\n",
    "                    drawedges=False)\n",
    "\n",
    "cbar.outline.set_visible(False)\n",
    "cbar.ax.tick_params(size=1, color='w')\n",
    "cbar_yticks = plt.getp(cbar.ax.axes, 'yticklabels')\n",
    "plt.setp(cbar_yticks, color='w')\n",
    "\n",
    "cbar.ax.set_ylabel(r'${m}/{\\rho_0}$', rotation=0, labelpad=-14, y=1.2, color=\"w\", fontsize=7)\n",
    "\n",
    "\n",
    "plt.subplots_adjust(hspace=0.4, wspace=0.25, left=0.09, right=0.99, top=0.84, bottom=0.13)\n",
    "\n",
    "#plt.savefig('panela_fig2.pdf', dpi=400);"
   ]
  },
  {
   "cell_type": "code",
   "execution_count": 31,
   "metadata": {},
   "outputs": [
    {
     "data": {
      "text/plain": [
       "<matplotlib.image.AxesImage at 0x7f7d61d725d0>"
      ]
     },
     "execution_count": 31,
     "metadata": {},
     "output_type": "execute_result"
    },
    {
     "data": {
      "image/png": "[encoded data removed]",
      "text/plain": [
       "<Figure size 245.081x87.5289 with 1 Axes>"
      ]
     },
     "metadata": {
      "needs_background": "light"
     },
     "output_type": "display_data"
    }
   ],
   "source": [
    "plt.imshow(mat_pde_m, cmap=newcmp, aspect='auto', vmin=-1., vmax=7, extent=extent)\n"
   ]
  },
  {
   "cell_type": "code",
   "execution_count": 32,
   "metadata": {},
   "outputs": [],
   "source": [
    "np.savetxt('data_fig2_panela.dat', mat_pde_m)"
   ]
  },
  {
   "cell_type": "code",
   "execution_count": 89,
   "metadata": {},
   "outputs": [],
   "source": [
    "t=1850\n",
    "mat_pde_rho=mat_PDE[t].rho.values.reshape((12000,-1)).T\n"
   ]
  },
  {
   "cell_type": "code",
   "execution_count": 94,
   "metadata": {},
   "outputs": [
    {
     "data": {
      "text/plain": [
       "<matplotlib.colorbar.Colorbar at 0x7f7d5f71e410>"
      ]
     },
     "execution_count": 94,
     "metadata": {},
     "output_type": "execute_result"
    },
    {
     "data": {
      "image/png": "[encoded data removed]",
      "text/plain": [
       "<Figure size 122.54x87.5289 with 2 Axes>"
      ]
     },
     "metadata": {
      "needs_background": "light"
     },
     "output_type": "display_data"
    }
   ],
   "source": [
    "plt.imshow(mat_pde_rho, cmap='hot', aspect='auto', extent=extent)\n",
    "plt.colorbar()"
   ]
  },
  {
   "cell_type": "code",
   "execution_count": 95,
   "metadata": {},
   "outputs": [],
   "source": [
    "np.savetxt('data_rho_fig2_panela.dat', mat_pde_rho)"
   ]
  },
  {
   "cell_type": "markdown",
   "metadata": {},
   "source": [
    "# Panel b"
   ]
  },
  {
   "cell_type": "code",
   "execution_count": 33,
   "metadata": {},
   "outputs": [],
   "source": [
    "fig_width_pt = 123  # Get this from LaTeX using \\showthe\\columnwidth\n",
    "                      # For PRL columnwidth is 246pt.\n",
    "golden_mean = (np.sqrt(5)+1.0)/2.0         # Aesthetic ratio\n",
    "\n",
    "fig_height_pt = fig_width_pt/1.4\n",
    "inches_per_pt = 1.0/72.27               # Convert pt to inch\n",
    "fig_width = fig_width_pt*inches_per_pt  # width in inches\n",
    "fig_height = fig_height_pt*inches_per_pt      # height in inches\n",
    "fig_size =  [fig_width,fig_height]\n",
    "params = {'backend': 'ps',\n",
    "          'axes.labelsize': 10,\n",
    "          'font.size': 10,\n",
    "          'xtick.labelsize': 7,\n",
    "          'xtick.direction': 'out',\n",
    "          'ytick.labelsize': 7,\n",
    "          'ytick.direction': 'out',\n",
    "          'ytick.major.pad': 1,\n",
    "          'xtick.major.pad': 1,\n",
    "          'text.usetex': True,\n",
    "          'figure.figsize': fig_size,\n",
    "          'legend.frameon': False,\n",
    "          'legend.fancybox': False}\n",
    "plt.rcParams.update(params)"
   ]
  },
  {
   "cell_type": "code",
   "execution_count": 34,
   "metadata": {},
   "outputs": [
    {
     "data": {
      "image/png": "[encoded data removed]",
      "text/plain": [
       "<Figure size 122.54x87.5289 with 1 Axes>"
      ]
     },
     "metadata": {
      "needs_background": "light"
     },
     "output_type": "display_data"
    }
   ],
   "source": [
    "xlab=0.45\n",
    "ylab=1.06\n",
    "\n",
    "########### w(t) #########\n",
    "plt.subplot(111)\n",
    "lw=0.9\n",
    "plt.text(s=r'$\\mathrm{(b)}$', x=xlab, y=ylab, transform=plt.gca().transAxes)\n",
    "\n",
    "plt.plot(list_t[1:], np.array(posback_micro-posback_micro[0]), label=r'${\\rm Back}$', linewidth=lw)\n",
    "plt.plot(list_t[1:], np.array(posfront_micro-posfront_micro[0]), label=r'${\\rm Front}$', linewidth=lw)\n",
    "plt.plot(list_t[1:], w_micro[1:], '-', label=r'${\\rm Width}$', linewidth=lw)\n",
    "\n",
    "plt.plot(list_t[1:], posback_pde-posback_pde[0], '--', label=r'${\\rm Back}$', linewidth=lw)\n",
    "plt.plot([],[])\n",
    "plt.plot([],[])\n",
    "plt.plot(list_t[1:], np.array(posfront_pde-posfront_pde[0]), '--', label=r'${\\rm Front}$', linewidth=lw)\n",
    "plt.plot(list_t[1:], np.array(w_pde)[1:], '--', label=r'${\\rm Width}$', linewidth=lw)\n",
    "\n",
    "\n",
    "fs=6\n",
    "ycat=0.89\n",
    "plt.annotate(s=r'${\\rm Micro}$', xy=(0.02, ycat), fontsize=fs, xycoords='axes fraction')\n",
    "plt.annotate(s=r'${\\rm PDEs}$', xy=(0.33, ycat), fontsize=fs, xycoords='axes fraction')\n",
    "\n",
    "leg=plt.legend(fontsize=fs-1, handlelength=1.1, loc=(0.01,0.55), labelspacing=0.2, ncol=2, columnspacing=0.5)\n",
    "for line in leg.get_lines():\n",
    "    line.set_linewidth(0.8)\n",
    "plt.xlabel(r'$t$', labelpad=-19, x=0.96, rotation=0, zorder=100);\n",
    "#plt.ylabel(r'$w$', labelpad=-25, y=0.83, rotation=0, zorder=100);\n",
    "\n",
    "plt.xlim(0,2200)\n",
    "plt.ylim(-200,4300)\n",
    "\n",
    "\n",
    "plt.subplots_adjust(hspace=0.4, wspace=0.25, left=0.18, right=0.995, top=0.86, bottom=0.13)\n",
    "\n",
    "#plt.savefig('panelb_fig2_v1.pdf', dpi=400);"
   ]
  },
  {
   "cell_type": "code",
   "execution_count": 37,
   "metadata": {},
   "outputs": [],
   "source": [
    "data=np.zeros((list_t[1:].shape[0],7))"
   ]
  },
  {
   "cell_type": "code",
   "execution_count": 38,
   "metadata": {
    "collapsed": true
   },
   "outputs": [
    {
     "data": {
      "text/plain": [
       "array([[  50.,    0.,    0.,    0.,    0.,    0.,    0.],\n",
       "       [ 100.,    0.,    0.,    0.,    0.,    0.,    0.],\n",
       "       [ 150.,    0.,    0.,    0.,    0.,    0.,    0.],\n",
       "       [ 200.,    0.,    0.,    0.,    0.,    0.,    0.],\n",
       "       [ 250.,    0.,    0.,    0.,    0.,    0.,    0.],\n",
       "       [ 300.,    0.,    0.,    0.,    0.,    0.,    0.],\n",
       "       [ 350.,    0.,    0.,    0.,    0.,    0.,    0.],\n",
       "       [ 400.,    0.,    0.,    0.,    0.,    0.,    0.],\n",
       "       [ 450.,    0.,    0.,    0.,    0.,    0.,    0.],\n",
       "       [ 500.,    0.,    0.,    0.,    0.,    0.,    0.],\n",
       "       [ 550.,    0.,    0.,    0.,    0.,    0.,    0.],\n",
       "       [ 600.,    0.,    0.,    0.,    0.,    0.,    0.],\n",
       "       [ 650.,    0.,    0.,    0.,    0.,    0.,    0.],\n",
       "       [ 700.,    0.,    0.,    0.,    0.,    0.,    0.],\n",
       "       [ 750.,    0.,    0.,    0.,    0.,    0.,    0.],\n",
       "       [ 800.,    0.,    0.,    0.,    0.,    0.,    0.],\n",
       "       [ 850.,    0.,    0.,    0.,    0.,    0.,    0.],\n",
       "       [ 900.,    0.,    0.,    0.,    0.,    0.,    0.],\n",
       "       [ 950.,    0.,    0.,    0.,    0.,    0.,    0.],\n",
       "       [1000.,    0.,    0.,    0.,    0.,    0.,    0.],\n",
       "       [1050.,    0.,    0.,    0.,    0.,    0.,    0.],\n",
       "       [1100.,    0.,    0.,    0.,    0.,    0.,    0.],\n",
       "       [1150.,    0.,    0.,    0.,    0.,    0.,    0.],\n",
       "       [1200.,    0.,    0.,    0.,    0.,    0.,    0.],\n",
       "       [1250.,    0.,    0.,    0.,    0.,    0.,    0.],\n",
       "       [1300.,    0.,    0.,    0.,    0.,    0.,    0.],\n",
       "       [1350.,    0.,    0.,    0.,    0.,    0.,    0.],\n",
       "       [1400.,    0.,    0.,    0.,    0.,    0.,    0.],\n",
       "       [1450.,    0.,    0.,    0.,    0.,    0.,    0.],\n",
       "       [1500.,    0.,    0.,    0.,    0.,    0.,    0.],\n",
       "       [1550.,    0.,    0.,    0.,    0.,    0.,    0.],\n",
       "       [1600.,    0.,    0.,    0.,    0.,    0.,    0.],\n",
       "       [1650.,    0.,    0.,    0.,    0.,    0.,    0.],\n",
       "       [1700.,    0.,    0.,    0.,    0.,    0.,    0.],\n",
       "       [1750.,    0.,    0.,    0.,    0.,    0.,    0.],\n",
       "       [1800.,    0.,    0.,    0.,    0.,    0.,    0.],\n",
       "       [1850.,    0.,    0.,    0.,    0.,    0.,    0.],\n",
       "       [1900.,    0.,    0.,    0.,    0.,    0.,    0.],\n",
       "       [1950.,    0.,    0.,    0.,    0.,    0.,    0.],\n",
       "       [2000.,    0.,    0.,    0.,    0.,    0.,    0.],\n",
       "       [2050.,    0.,    0.,    0.,    0.,    0.,    0.],\n",
       "       [2100.,    0.,    0.,    0.,    0.,    0.,    0.],\n",
       "       [2150.,    0.,    0.,    0.,    0.,    0.,    0.],\n",
       "       [2200.,    0.,    0.,    0.,    0.,    0.,    0.]])"
      ]
     },
     "execution_count": 38,
     "metadata": {},
     "output_type": "execute_result"
    }
   ],
   "source": [
    "data[:,0]=list_t[1:]\n",
    "data"
   ]
  },
  {
   "cell_type": "code",
   "execution_count": 39,
   "metadata": {
    "collapsed": true
   },
   "outputs": [
    {
     "data": {
      "text/plain": [
       "array([[  50.,    0.,    0.,    0.,    0.,    0.,    0.],\n",
       "       [ 100.,   56.,    0.,    0.,    0.,    0.,    0.],\n",
       "       [ 150.,  110.,    0.,    0.,    0.,    0.,    0.],\n",
       "       [ 200.,  164.,    0.,    0.,    0.,    0.,    0.],\n",
       "       [ 250.,  217.,    0.,    0.,    0.,    0.,    0.],\n",
       "       [ 300.,  271.,    0.,    0.,    0.,    0.,    0.],\n",
       "       [ 350.,  323.,    0.,    0.,    0.,    0.,    0.],\n",
       "       [ 400.,  374.,    0.,    0.,    0.,    0.,    0.],\n",
       "       [ 450.,  426.,    0.,    0.,    0.,    0.,    0.],\n",
       "       [ 500.,  477.,    0.,    0.,    0.,    0.,    0.],\n",
       "       [ 550.,  530.,    0.,    0.,    0.,    0.,    0.],\n",
       "       [ 600.,  581.,    0.,    0.,    0.,    0.,    0.],\n",
       "       [ 650.,  636.,    0.,    0.,    0.,    0.,    0.],\n",
       "       [ 700.,  687.,    0.,    0.,    0.,    0.,    0.],\n",
       "       [ 750.,  742.,    0.,    0.,    0.,    0.,    0.],\n",
       "       [ 800.,  794.,    0.,    0.,    0.,    0.,    0.],\n",
       "       [ 850.,  844.,    0.,    0.,    0.,    0.,    0.],\n",
       "       [ 900.,  892.,    0.,    0.,    0.,    0.,    0.],\n",
       "       [ 950.,  952.,    0.,    0.,    0.,    0.,    0.],\n",
       "       [1000., 1000.,    0.,    0.,    0.,    0.,    0.],\n",
       "       [1050., 1050.,    0.,    0.,    0.,    0.,    0.],\n",
       "       [1100., 1105.,    0.,    0.,    0.,    0.,    0.],\n",
       "       [1150., 1153.,    0.,    0.,    0.,    0.,    0.],\n",
       "       [1200., 1207.,    0.,    0.,    0.,    0.,    0.],\n",
       "       [1250., 1259.,    0.,    0.,    0.,    0.,    0.],\n",
       "       [1300., 1308.,    0.,    0.,    0.,    0.,    0.],\n",
       "       [1350., 1356.,    0.,    0.,    0.,    0.,    0.],\n",
       "       [1400., 1410.,    0.,    0.,    0.,    0.,    0.],\n",
       "       [1450., 1463.,    0.,    0.,    0.,    0.,    0.],\n",
       "       [1500., 1511.,    0.,    0.,    0.,    0.,    0.],\n",
       "       [1550., 1566.,    0.,    0.,    0.,    0.,    0.],\n",
       "       [1600., 1614.,    0.,    0.,    0.,    0.,    0.],\n",
       "       [1650., 1669.,    0.,    0.,    0.,    0.,    0.],\n",
       "       [1700., 1720.,    0.,    0.,    0.,    0.,    0.],\n",
       "       [1750., 1770.,    0.,    0.,    0.,    0.,    0.],\n",
       "       [1800., 1825.,    0.,    0.,    0.,    0.,    0.],\n",
       "       [1850., 1877.,    0.,    0.,    0.,    0.,    0.],\n",
       "       [1900., 1922.,    0.,    0.,    0.,    0.,    0.],\n",
       "       [1950., 1974.,    0.,    0.,    0.,    0.,    0.],\n",
       "       [2000., 2028.,    0.,    0.,    0.,    0.,    0.],\n",
       "       [2050., 2077.,    0.,    0.,    0.,    0.,    0.],\n",
       "       [2100., 2129.,    0.,    0.,    0.,    0.,    0.],\n",
       "       [2150., 2177.,    0.,    0.,    0.,    0.,    0.],\n",
       "       [2200., 2231.,    0.,    0.,    0.,    0.,    0.]])"
      ]
     },
     "execution_count": 39,
     "metadata": {},
     "output_type": "execute_result"
    }
   ],
   "source": [
    "data[:,1]=np.array(posback_micro-posback_micro[0])\n",
    "data"
   ]
  },
  {
   "cell_type": "code",
   "execution_count": 40,
   "metadata": {
    "collapsed": true
   },
   "outputs": [
    {
     "data": {
      "text/plain": [
       "array([[  50.,    0.,    0.,    0.,    0.,    0.,    0.],\n",
       "       [ 100.,   56.,   70.,    0.,    0.,    0.,    0.],\n",
       "       [ 150.,  110.,  144.,    0.,    0.,    0.,    0.],\n",
       "       [ 200.,  164.,  217.,    0.,    0.,    0.,    0.],\n",
       "       [ 250.,  217.,  292.,    0.,    0.,    0.,    0.],\n",
       "       [ 300.,  271.,  367.,    0.,    0.,    0.,    0.],\n",
       "       [ 350.,  323.,  442.,    0.,    0.,    0.,    0.],\n",
       "       [ 400.,  374.,  517.,    0.,    0.,    0.,    0.],\n",
       "       [ 450.,  426.,  592.,    0.,    0.,    0.,    0.],\n",
       "       [ 500.,  477.,  667.,    0.,    0.,    0.,    0.],\n",
       "       [ 550.,  530.,  742.,    0.,    0.,    0.,    0.],\n",
       "       [ 600.,  581.,  817.,    0.,    0.,    0.,    0.],\n",
       "       [ 650.,  636.,  892.,    0.,    0.,    0.,    0.],\n",
       "       [ 700.,  687.,  967.,    0.,    0.,    0.,    0.],\n",
       "       [ 750.,  742., 1042.,    0.,    0.,    0.,    0.],\n",
       "       [ 800.,  794., 1118.,    0.,    0.,    0.,    0.],\n",
       "       [ 850.,  844., 1192.,    0.,    0.,    0.,    0.],\n",
       "       [ 900.,  892., 1268.,    0.,    0.,    0.,    0.],\n",
       "       [ 950.,  952., 1343.,    0.,    0.,    0.,    0.],\n",
       "       [1000., 1000., 1418.,    0.,    0.,    0.,    0.],\n",
       "       [1050., 1050., 1493.,    0.,    0.,    0.,    0.],\n",
       "       [1100., 1105., 1568.,    0.,    0.,    0.,    0.],\n",
       "       [1150., 1153., 1643.,    0.,    0.,    0.,    0.],\n",
       "       [1200., 1207., 1719.,    0.,    0.,    0.,    0.],\n",
       "       [1250., 1259., 1795.,    0.,    0.,    0.,    0.],\n",
       "       [1300., 1308., 1870.,    0.,    0.,    0.,    0.],\n",
       "       [1350., 1356., 1945.,    0.,    0.,    0.,    0.],\n",
       "       [1400., 1410., 2020.,    0.,    0.,    0.,    0.],\n",
       "       [1450., 1463., 2096.,    0.,    0.,    0.,    0.],\n",
       "       [1500., 1511., 2171.,    0.,    0.,    0.,    0.],\n",
       "       [1550., 1566., 2246.,    0.,    0.,    0.,    0.],\n",
       "       [1600., 1614., 2321.,    0.,    0.,    0.,    0.],\n",
       "       [1650., 1669., 2396.,    0.,    0.,    0.,    0.],\n",
       "       [1700., 1720., 2471.,    0.,    0.,    0.,    0.],\n",
       "       [1750., 1770., 2546.,    0.,    0.,    0.,    0.],\n",
       "       [1800., 1825., 2621.,    0.,    0.,    0.,    0.],\n",
       "       [1850., 1877., 2697.,    0.,    0.,    0.,    0.],\n",
       "       [1900., 1922., 2773.,    0.,    0.,    0.,    0.],\n",
       "       [1950., 1974., 2848.,    0.,    0.,    0.,    0.],\n",
       "       [2000., 2028., 2923.,    0.,    0.,    0.,    0.],\n",
       "       [2050., 2077., 2998.,    0.,    0.,    0.,    0.],\n",
       "       [2100., 2129., 3073.,    0.,    0.,    0.,    0.],\n",
       "       [2150., 2177., 3149.,    0.,    0.,    0.,    0.],\n",
       "       [2200., 2231., 3225.,    0.,    0.,    0.,    0.]])"
      ]
     },
     "execution_count": 40,
     "metadata": {},
     "output_type": "execute_result"
    }
   ],
   "source": [
    "data[:,2]=np.array(posfront_micro-posfront_micro[0])\n",
    "data"
   ]
  },
  {
   "cell_type": "code",
   "execution_count": 41,
   "metadata": {},
   "outputs": [],
   "source": [
    "data[:,3]=w_micro[1:]"
   ]
  },
  {
   "cell_type": "code",
   "execution_count": 42,
   "metadata": {},
   "outputs": [],
   "source": [
    "data[:,4]=posback_pde-posback_pde[0]"
   ]
  },
  {
   "cell_type": "code",
   "execution_count": 43,
   "metadata": {},
   "outputs": [],
   "source": [
    "data[:,5]=np.array(posfront_pde-posfront_pde[0])"
   ]
  },
  {
   "cell_type": "code",
   "execution_count": 44,
   "metadata": {},
   "outputs": [],
   "source": [
    "data[:,6]=np.array(w_pde)[1:]"
   ]
  },
  {
   "cell_type": "code",
   "execution_count": 46,
   "metadata": {},
   "outputs": [],
   "source": [
    "np.savetxt('data_fig2_panelb.dat', data, header='t posback_micro posfront_micro width_micro posback_pde posfront_pde width_pde')"
   ]
  },
  {
   "cell_type": "markdown",
   "metadata": {},
   "source": [
    "# Panel c"
   ]
  },
  {
   "cell_type": "code",
   "execution_count": 47,
   "metadata": {},
   "outputs": [],
   "source": [
    "fig_width_pt = 123  # Get this from LaTeX using \\showthe\\columnwidth\n",
    "                      # For PRL columnwidth is 246pt.\n",
    "golden_mean = (np.sqrt(5)+1.0)/2.0         # Aesthetic ratio\n",
    "\n",
    "fig_height_pt = fig_width_pt/1.4\n",
    "inches_per_pt = 1.0/72.27               # Convert pt to inch\n",
    "fig_width = fig_width_pt*inches_per_pt  # width in inches\n",
    "fig_height = fig_height_pt*inches_per_pt      # height in inches\n",
    "fig_size =  [fig_width,fig_height]\n",
    "params = {'backend': 'ps',\n",
    "          'axes.labelsize': 10,\n",
    "          'font.size': 10,\n",
    "          'xtick.labelsize': 7,\n",
    "          'xtick.direction': 'out',\n",
    "          'ytick.labelsize': 7,\n",
    "          'ytick.direction': 'out',\n",
    "          'ytick.major.pad': 1,\n",
    "          'xtick.major.pad': 1,\n",
    "          'text.usetex': True,\n",
    "          'figure.figsize': fig_size,\n",
    "          'legend.frameon': False,\n",
    "          'legend.fancybox': False}\n",
    "plt.rcParams.update(params)"
   ]
  },
  {
   "cell_type": "code",
   "execution_count": 48,
   "metadata": {},
   "outputs": [
    {
     "data": {
      "image/png": "[encoded data removed]",
      "text/plain": [
       "<Figure size 122.54x87.5289 with 1 Axes>"
      ]
     },
     "metadata": {
      "needs_background": "light"
     },
     "output_type": "display_data"
    }
   ],
   "source": [
    "xlab=0.45\n",
    "ylab=1.06\n",
    "plt.subplot(111)\n",
    "\n",
    "########### CONTOURS #########\n",
    "t_pde=2200\n",
    "t_micro=41*50\n",
    "\n",
    "mat_micro_rho=rho_micro[t_micro]\n",
    "mat_micro_m=m_micro[t_micro]\n",
    "mat_pde_rho=rho_PDE[t_pde]\n",
    "mat_pde_m=m_PDE[t_pde]\n",
    "Xshift=-300\n",
    "\n",
    "\n",
    "color_micro=plt.get_cmap('Dark2')(0.51)\n",
    "color_PDE=plt.get_cmap('Dark2')(0.63)\n",
    "plt.text(s=r'$\\mathrm{(c)}$', x=xlab, y=ylab, transform=plt.gca().transAxes)\n",
    "\n",
    "xmin=1000\n",
    "xmax=8000\n",
    "xlist = np.arange(xmin, xmax)\n",
    "ylist = np.arange(0, 600)\n",
    "X, Y = np.meshgrid(xlist, ylist)\n",
    "\n",
    "avg_prof=uniform_filter(mat_micro_m, size=5, mode='constant')\n",
    "\n",
    "Z = avg_prof[:,xmin:xmax]\n",
    "\n",
    "cp = plt.contour(X, Y, Z, levels=[-1], colors=[color_micro], linestyles='dotted')\n",
    "plt.clabel(cp, fontsize=1, inline=False, fmt='%d')\n",
    "labels = [r'$\\mathrm{Micro}$']\n",
    "for i in range(len(labels)):\n",
    "    cp.collections[i].set_label(labels[i])\n",
    "\n",
    "\n",
    "xmin=1000\n",
    "xmax=12000\n",
    "xlist = np.arange(xmin, xmax)*(2./3)\n",
    "ylist = np.arange(0, 900)*(2./3)\n",
    "X, Y = np.meshgrid(xlist, ylist)\n",
    "Z = mat_pde_m[:,xmin:xmax]\n",
    "cp = plt.contour(X+Xshift, Y, Z, levels=[-1e-1], colors=[color_PDE], linewidths=0.8, linestyles='solid')\n",
    "\n",
    "plt.clabel(cp, fontsize=1, inline=False, fmt='%d')\n",
    "labels = [r'$\\mathrm{PDEs}$']\n",
    "for i in range(len(labels)):\n",
    "    cp.collections[i].set_label(labels[i])\n",
    "\n",
    "# #DENS\n",
    "xmin=1000\n",
    "xmax=8000\n",
    "xlist = np.arange(xmin, xmax)\n",
    "ylist = np.arange(0, 600)\n",
    "X, Y = np.meshgrid(xlist, ylist)\n",
    "\n",
    "avg_prof=uniform_filter(mat_micro_rho, size=5, mode='constant')\n",
    "\n",
    "Z = avg_prof[:,xmin:xmax]\n",
    "cp = plt.contour(X, Y, Z, levels=[12], colors=[color_micro])\n",
    "\n",
    "xmin=1000\n",
    "xmax=12000\n",
    "xlist = np.arange(xmin, xmax)*(2./3)\n",
    "ylist = np.arange(0, 900)*(2./3)\n",
    "X, Y = np.meshgrid(xlist, ylist)\n",
    "Z = mat_pde_rho[:,xmin:xmax]\n",
    "cp = plt.contour(X+Xshift, Y, Z, levels=[1.2], colors=[color_PDE], linewidths=0.8)\n",
    "\n",
    "\n",
    "plt.legend(fontsize=8, handlelength=1, loc=(0.,0.))\n",
    "plt.xlabel(r'$x$', labelpad=-20, x=0.96, rotation=0, zorder=100);\n",
    "plt.ylabel(r'$y$', labelpad=-27, y=0.83, rotation=0, zorder=100);\n",
    "\n",
    "xmid=4500\n",
    "list_xticks=[2500, 4500, 6500]\n",
    "list_xshifted=np.array(list_xticks)-xmid\n",
    "plt.xticks(list_xticks, [r\"$%d$\"%a for a in list_xshifted])\n",
    "\n",
    "ymid=300\n",
    "list_yticks=[100, 300, 500]\n",
    "list_yshifted=np.array(list_yticks)-ymid\n",
    "plt.yticks(list_yticks, [r\"$%d$\"%a for a in list_yshifted])\n",
    "\n",
    "plt.xlim(1000, 8000)\n",
    "\n",
    "plt.subplots_adjust(hspace=0.4, wspace=0., left=0.17, right=0.995, top=0.85, bottom=0.13)\n",
    "\n",
    "#plt.savefig('panelc_fig2.pdf', dpi=400);"
   ]
  },
  {
   "cell_type": "code",
   "execution_count": 54,
   "metadata": {},
   "outputs": [
    {
     "data": {
      "image/png": "[encoded data removed]",
      "text/plain": [
       "<Figure size 122.54x87.5289 with 1 Axes>"
      ]
     },
     "metadata": {
      "needs_background": "light"
     },
     "output_type": "display_data"
    }
   ],
   "source": [
    "xmin=1000\n",
    "xmax=8000\n",
    "xlist = np.arange(xmin, xmax)\n",
    "ylist = np.arange(0, 600)\n",
    "X, Y = np.meshgrid(xlist, ylist)\n",
    "\n",
    "avg_prof=uniform_filter(mat_micro_m, size=5, mode='constant')\n",
    "\n",
    "Z = avg_prof[:,xmin:xmax]\n",
    "\n",
    "cp = plt.contour(X, Y, Z, levels=[-1], colors=[color_micro], linestyles='dotted')\n",
    "\n",
    "p = cp.collections[0].get_paths()[0]\n",
    "v = p.vertices\n",
    "x_iso_m_micro = v[:,0]\n",
    "y_iso_m_micro  = v[:,1]"
   ]
  },
  {
   "cell_type": "code",
   "execution_count": 55,
   "metadata": {},
   "outputs": [
    {
     "data": {
      "image/png": "[encoded data removed]",
      "text/plain": [
       "<Figure size 122.54x87.5289 with 1 Axes>"
      ]
     },
     "metadata": {
      "needs_background": "light"
     },
     "output_type": "display_data"
    }
   ],
   "source": [
    "\n",
    "xmin=1000\n",
    "xmax=12000\n",
    "xlist = np.arange(xmin, xmax)*(2./3)\n",
    "ylist = np.arange(0, 900)*(2./3)\n",
    "X, Y = np.meshgrid(xlist, ylist)\n",
    "Z = mat_pde_m[:,xmin:xmax]\n",
    "cp = plt.contour(X+Xshift, Y, Z, levels=[-1e-1], colors=[color_PDE], linewidths=0.8, linestyles='solid')\n",
    "p = cp.collections[0].get_paths()[0]\n",
    "v = p.vertices\n",
    "x_iso_m_pde = v[:,0]\n",
    "y_iso_m_pde  = v[:,1]"
   ]
  },
  {
   "cell_type": "code",
   "execution_count": 57,
   "metadata": {},
   "outputs": [
    {
     "data": {
      "image/png": "[encoded data removed]",
      "text/plain": [
       "<Figure size 122.54x87.5289 with 1 Axes>"
      ]
     },
     "metadata": {
      "needs_background": "light"
     },
     "output_type": "display_data"
    }
   ],
   "source": [
    "xmin=1000\n",
    "xmax=8000\n",
    "xlist = np.arange(xmin, xmax)\n",
    "ylist = np.arange(0, 600)\n",
    "X, Y = np.meshgrid(xlist, ylist)\n",
    "\n",
    "avg_prof=uniform_filter(mat_micro_rho, size=5, mode='constant')\n",
    "\n",
    "Z = avg_prof[:,xmin:xmax]\n",
    "cp = plt.contour(X, Y, Z, levels=[12], colors=[color_micro])\n",
    "\n",
    "p = cp.collections[0].get_paths()[0]\n",
    "v = p.vertices\n",
    "x_iso_rho_micro = v[:,0]\n",
    "y_iso_rho_micro  = v[:,1]"
   ]
  },
  {
   "cell_type": "code",
   "execution_count": 58,
   "metadata": {},
   "outputs": [
    {
     "data": {
      "image/png": "[encoded data removed]",
      "text/plain": [
       "<Figure size 122.54x87.5289 with 1 Axes>"
      ]
     },
     "metadata": {
      "needs_background": "light"
     },
     "output_type": "display_data"
    }
   ],
   "source": [
    "\n",
    "xmin=1000\n",
    "xmax=12000\n",
    "xlist = np.arange(xmin, xmax)*(2./3)\n",
    "ylist = np.arange(0, 900)*(2./3)\n",
    "X, Y = np.meshgrid(xlist, ylist)\n",
    "Z = mat_pde_rho[:,xmin:xmax]\n",
    "cp = plt.contour(X+Xshift, Y, Z, levels=[1.2], colors=[color_PDE], linewidths=0.8)\n",
    "\n",
    "p = cp.collections[0].get_paths()[0]\n",
    "v = p.vertices\n",
    "x_iso_rho_pde= v[:,0]\n",
    "y_iso_rho_pde  = v[:,1]"
   ]
  },
  {
   "cell_type": "code",
   "execution_count": null,
   "metadata": {},
   "outputs": [],
   "source": []
  },
  {
   "cell_type": "code",
   "execution_count": 59,
   "metadata": {},
   "outputs": [
    {
     "data": {
      "text/plain": [
       "[<matplotlib.lines.Line2D at 0x7f7d60804250>]"
      ]
     },
     "execution_count": 59,
     "metadata": {},
     "output_type": "execute_result"
    },
    {
     "data": {
      "image/png": "[encoded data removed]",
      "text/plain": [
       "<Figure size 122.54x87.5289 with 1 Axes>"
      ]
     },
     "metadata": {
      "needs_background": "light"
     },
     "output_type": "display_data"
    }
   ],
   "source": [
    "plt.plot(x_iso_m_pde, y_iso_m_pde)\n",
    "plt.plot(x_iso_m_micro, y_iso_m_micro)\n",
    "\n",
    "plt.plot(x_iso_rho_pde, y_iso_rho_pde)\n",
    "plt.plot(x_iso_rho_micro, y_iso_rho_micro)"
   ]
  },
  {
   "cell_type": "code",
   "execution_count": 83,
   "metadata": {},
   "outputs": [],
   "source": [
    "data_iso_m_pde=np.zeros((x_iso_m_pde.shape[0],2))\n",
    "data_iso_m_pde[:,0]=x_iso_m_pde\n",
    "data_iso_m_pde[:,1]=y_iso_m_pde\n",
    "np.savetxt('data_iso_m_pde_fig2_panelc.dat', data_iso_m_pde, header='x y')"
   ]
  },
  {
   "cell_type": "code",
   "execution_count": 84,
   "metadata": {},
   "outputs": [],
   "source": [
    "data_iso_rho_pde=np.zeros((x_iso_rho_pde.shape[0],2))\n",
    "data_iso_rho_pde[:,0]=x_iso_rho_pde\n",
    "data_iso_rho_pde[:,1]=y_iso_rho_pde\n",
    "np.savetxt('data_iso_rho_pde_fig2_panelc.dat', data_iso_rho_pde, header='x y')"
   ]
  },
  {
   "cell_type": "code",
   "execution_count": 85,
   "metadata": {},
   "outputs": [],
   "source": [
    "data_iso_m_micro=np.zeros((x_iso_m_micro.shape[0],2))\n",
    "data_iso_m_micro[:,0]=x_iso_m_micro\n",
    "data_iso_m_micro[:,1]=y_iso_m_micro\n",
    "np.savetxt('data_iso_m_micro_fig2_panelc.dat', data_iso_m_micro, header='x y')"
   ]
  },
  {
   "cell_type": "code",
   "execution_count": 86,
   "metadata": {},
   "outputs": [],
   "source": [
    "data_iso_rho_micro=np.zeros((x_iso_rho_micro.shape[0],2))\n",
    "data_iso_rho_micro[:,0]=x_iso_rho_micro\n",
    "data_iso_rho_micro[:,1]=y_iso_rho_micro\n",
    "np.savetxt('data_iso_rho_micro_fig2_panelc.dat', data_iso_rho_micro, header='x y')"
   ]
  },
  {
   "cell_type": "code",
   "execution_count": null,
   "metadata": {},
   "outputs": [],
   "source": []
  }
 ],
 "metadata": {
  "kernelspec": {
   "display_name": "Python 3",
   "language": "python",
   "name": "python3"
  },
  "language_info": {
   "codemirror_mode": {
    "name": "ipython",
    "version": 3
   },
   "file_extension": ".py",
   "mimetype": "text/x-python",
   "name": "python",
   "nbconvert_exporter": "python",
   "pygments_lexer": "ipython3",
   "version": "3.7.6"
  }
 },
 "nbformat": 4,
 "nbformat_minor": 4
}
