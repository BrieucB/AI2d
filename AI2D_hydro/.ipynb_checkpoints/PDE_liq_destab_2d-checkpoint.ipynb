{
 "cells": [
  {
   "cell_type": "code",
   "execution_count": 8,
   "metadata": {},
   "outputs": [],
   "source": [
    "import numpy as np\n",
    "import matplotlib.pyplot as plt\n",
    "import pandas as pd"
   ]
  },
  {
   "cell_type": "code",
   "execution_count": 9,
   "metadata": {},
   "outputs": [],
   "source": [
    "from scipy.signal import convolve2d"
   ]
  },
  {
   "cell_type": "code",
   "execution_count": 10,
   "metadata": {},
   "outputs": [],
   "source": [
    "from scipy.optimize import fixed_point, root_scalar"
   ]
  },
  {
   "cell_type": "code",
   "execution_count": 11,
   "metadata": {},
   "outputs": [],
   "source": [
    "import matplotlib.colors as colors\n",
    "import matplotlib.cbook as cbook\n",
    "from matplotlib import cm"
   ]
  },
  {
   "cell_type": "markdown",
   "metadata": {},
   "source": [
    "# Finite differences updates"
   ]
  },
  {
   "cell_type": "code",
   "execution_count": 12,
   "metadata": {},
   "outputs": [],
   "source": [
    "L=np.array([[0,1,0], [1, -4,1], [0,1,0]])"
   ]
  },
  {
   "cell_type": "code",
   "execution_count": 13,
   "metadata": {},
   "outputs": [],
   "source": [
    "L=np.array([[1/4,1/2,1/4], [1/2, -3,1/2], [1/4,1/2,1/4]])"
   ]
  },
  {
   "cell_type": "code",
   "execution_count": 14,
   "metadata": {},
   "outputs": [],
   "source": [
    "def update_rho(rho, m, v, D, dt, dx):\n",
    "    #rho[rho<1e-3]=0\n",
    "    return(rho \n",
    "           - v*(dt/dx)*(np.roll(m, axis=1,shift=-1)-np.roll(m, axis=1,shift=1))/2\n",
    "           + D*(dt/(dx*dx))*convolve2d(rho, L, mode='same', boundary='wrap'))"
   ]
  },
  {
   "cell_type": "code",
   "execution_count": 15,
   "metadata": {},
   "outputs": [],
   "source": [
    "def update_m(rho, m, v, D, beta, dt, dx):\n",
    "    #rho[rho<1e-3]=0    \n",
    "    return(m \n",
    "           - v*(dt/dx)*(np.roll(rho, axis=1,shift=-1)-np.roll(rho, axis=1,shift=1))/2\n",
    "           + D*(dt/(dx*dx))*convolve2d(m, L, mode='same', boundary='wrap')\n",
    "           + 2*dt*(beta-1-1/rho)*m \n",
    "           #+ 2*dt*(beta-1-np.divide(1, rho, where=rho!=0, out=np.zeros_like(rho)))*m \n",
    "           - dt*beta*beta*(1-beta/3)*m*m*m/(rho*rho)\n",
    "          )"
   ]
  },
  {
   "cell_type": "code",
   "execution_count": 16,
   "metadata": {},
   "outputs": [],
   "source": [
    "def update_X(X, v, D, beta, dt, dx, ly):\n",
    "    rho, m = X[:ly, :], X[ly:, :]   \n",
    "    \n",
    "    drho = rho - v*(dt/dx)*(np.roll(m, axis=1,shift=-1)-np.roll(m, axis=1,shift=1))/2 + D*(dt/(dx*dx))*convolve2d(rho, L, mode='same', boundary='wrap')\n",
    "    \n",
    "    dm = m - v*(dt/dx)*(np.roll(rho, axis=1,shift=-1)-np.roll(rho, axis=1,shift=1))/2 + D*(dt/(dx*dx))*convolve2d(m, L, mode='same', boundary='wrap') + 2*dt*(beta-1-1/rho)*m- dt*beta*beta*(1-beta/3)*m*m*m/(rho*rho) \n",
    "       \n",
    "    return(np.concatenate([drho, dm]))"
   ]
  },
  {
   "cell_type": "markdown",
   "metadata": {},
   "source": [
    "# Phase diagram $(D, \\rho_0)$"
   ]
  },
  {
   "cell_type": "code",
   "execution_count": 17,
   "metadata": {},
   "outputs": [
    {
     "data": {
      "text/html": [
       "<div>\n",
       "<style scoped>\n",
       "    .dataframe tbody tr th:only-of-type {\n",
       "        vertical-align: middle;\n",
       "    }\n",
       "\n",
       "    .dataframe tbody tr th {\n",
       "        vertical-align: top;\n",
       "    }\n",
       "\n",
       "    .dataframe thead th {\n",
       "        text-align: right;\n",
       "    }\n",
       "</style>\n",
       "<table border=\"1\" class=\"dataframe\">\n",
       "  <thead>\n",
       "    <tr style=\"text-align: right;\">\n",
       "      <th></th>\n",
       "      <th>Unnamed: 0</th>\n",
       "      <th>D</th>\n",
       "      <th>rhol</th>\n",
       "      <th>ml</th>\n",
       "    </tr>\n",
       "  </thead>\n",
       "  <tbody>\n",
       "    <tr>\n",
       "      <th>0</th>\n",
       "      <td>0</td>\n",
       "      <td>0.500000</td>\n",
       "      <td>3.631232</td>\n",
       "      <td>3.785692</td>\n",
       "    </tr>\n",
       "    <tr>\n",
       "      <th>1</th>\n",
       "      <td>1</td>\n",
       "      <td>0.555556</td>\n",
       "      <td>3.268990</td>\n",
       "      <td>3.335536</td>\n",
       "    </tr>\n",
       "    <tr>\n",
       "      <th>2</th>\n",
       "      <td>2</td>\n",
       "      <td>0.611111</td>\n",
       "      <td>3.008137</td>\n",
       "      <td>3.010155</td>\n",
       "    </tr>\n",
       "    <tr>\n",
       "      <th>3</th>\n",
       "      <td>3</td>\n",
       "      <td>0.666667</td>\n",
       "      <td>2.811184</td>\n",
       "      <td>2.763569</td>\n",
       "    </tr>\n",
       "    <tr>\n",
       "      <th>4</th>\n",
       "      <td>4</td>\n",
       "      <td>0.722222</td>\n",
       "      <td>2.656983</td>\n",
       "      <td>2.569792</td>\n",
       "    </tr>\n",
       "    <tr>\n",
       "      <th>5</th>\n",
       "      <td>5</td>\n",
       "      <td>0.777778</td>\n",
       "      <td>2.532751</td>\n",
       "      <td>2.413109</td>\n",
       "    </tr>\n",
       "    <tr>\n",
       "      <th>6</th>\n",
       "      <td>6</td>\n",
       "      <td>0.833333</td>\n",
       "      <td>2.430336</td>\n",
       "      <td>2.283482</td>\n",
       "    </tr>\n",
       "    <tr>\n",
       "      <th>7</th>\n",
       "      <td>7</td>\n",
       "      <td>0.888889</td>\n",
       "      <td>2.344303</td>\n",
       "      <td>2.174207</td>\n",
       "    </tr>\n",
       "    <tr>\n",
       "      <th>8</th>\n",
       "      <td>8</td>\n",
       "      <td>0.944444</td>\n",
       "      <td>2.270889</td>\n",
       "      <td>2.080640</td>\n",
       "    </tr>\n",
       "    <tr>\n",
       "      <th>9</th>\n",
       "      <td>9</td>\n",
       "      <td>1.000000</td>\n",
       "      <td>2.207406</td>\n",
       "      <td>1.999462</td>\n",
       "    </tr>\n",
       "    <tr>\n",
       "      <th>10</th>\n",
       "      <td>10</td>\n",
       "      <td>1.000000</td>\n",
       "      <td>2.207429</td>\n",
       "      <td>1.999493</td>\n",
       "    </tr>\n",
       "    <tr>\n",
       "      <th>11</th>\n",
       "      <td>11</td>\n",
       "      <td>1.333333</td>\n",
       "      <td>1.952453</td>\n",
       "      <td>1.670159</td>\n",
       "    </tr>\n",
       "    <tr>\n",
       "      <th>12</th>\n",
       "      <td>12</td>\n",
       "      <td>1.666667</td>\n",
       "      <td>1.807023</td>\n",
       "      <td>1.479007</td>\n",
       "    </tr>\n",
       "    <tr>\n",
       "      <th>13</th>\n",
       "      <td>13</td>\n",
       "      <td>2.000000</td>\n",
       "      <td>1.710981</td>\n",
       "      <td>1.350819</td>\n",
       "    </tr>\n",
       "    <tr>\n",
       "      <th>14</th>\n",
       "      <td>14</td>\n",
       "      <td>2.333333</td>\n",
       "      <td>1.641823</td>\n",
       "      <td>1.257235</td>\n",
       "    </tr>\n",
       "    <tr>\n",
       "      <th>15</th>\n",
       "      <td>15</td>\n",
       "      <td>2.666667</td>\n",
       "      <td>1.589104</td>\n",
       "      <td>1.184999</td>\n",
       "    </tr>\n",
       "    <tr>\n",
       "      <th>16</th>\n",
       "      <td>16</td>\n",
       "      <td>3.000000</td>\n",
       "      <td>1.547264</td>\n",
       "      <td>1.127006</td>\n",
       "    </tr>\n",
       "    <tr>\n",
       "      <th>17</th>\n",
       "      <td>17</td>\n",
       "      <td>3.333333</td>\n",
       "      <td>1.513047</td>\n",
       "      <td>1.079072</td>\n",
       "    </tr>\n",
       "    <tr>\n",
       "      <th>18</th>\n",
       "      <td>18</td>\n",
       "      <td>3.666667</td>\n",
       "      <td>1.484409</td>\n",
       "      <td>1.038553</td>\n",
       "    </tr>\n",
       "    <tr>\n",
       "      <th>19</th>\n",
       "      <td>19</td>\n",
       "      <td>4.000000</td>\n",
       "      <td>1.459996</td>\n",
       "      <td>1.003687</td>\n",
       "    </tr>\n",
       "  </tbody>\n",
       "</table>\n",
       "</div>"
      ],
      "text/plain": [
       "    Unnamed: 0         D      rhol        ml\n",
       "0            0  0.500000  3.631232  3.785692\n",
       "1            1  0.555556  3.268990  3.335536\n",
       "2            2  0.611111  3.008137  3.010155\n",
       "3            3  0.666667  2.811184  2.763569\n",
       "4            4  0.722222  2.656983  2.569792\n",
       "5            5  0.777778  2.532751  2.413109\n",
       "6            6  0.833333  2.430336  2.283482\n",
       "7            7  0.888889  2.344303  2.174207\n",
       "8            8  0.944444  2.270889  2.080640\n",
       "9            9  1.000000  2.207406  1.999462\n",
       "10          10  1.000000  2.207429  1.999493\n",
       "11          11  1.333333  1.952453  1.670159\n",
       "12          12  1.666667  1.807023  1.479007\n",
       "13          13  2.000000  1.710981  1.350819\n",
       "14          14  2.333333  1.641823  1.257235\n",
       "15          15  2.666667  1.589104  1.184999\n",
       "16          16  3.000000  1.547264  1.127006\n",
       "17          17  3.333333  1.513047  1.079072\n",
       "18          18  3.666667  1.484409  1.038553\n",
       "19          19  4.000000  1.459996  1.003687"
      ]
     },
     "execution_count": 17,
     "metadata": {},
     "output_type": "execute_result"
    }
   ],
   "source": [
    "data_liq=pd.read_csv('D_rhol_ml.dat')\n",
    "data_liq"
   ]
  },
  {
   "cell_type": "code",
   "execution_count": 18,
   "metadata": {},
   "outputs": [],
   "source": [
    "list_D=data_liq.D.values\n",
    "rhol= data_liq.rhol\n",
    "ml=data_liq.ml"
   ]
  },
  {
   "cell_type": "code",
   "execution_count": 19,
   "metadata": {},
   "outputs": [],
   "source": [
    "def liq_th(beta, v, D):\n",
    "    r=1\n",
    "    phig=r/(beta-1)\n",
    "    alpha=beta*beta*(1-beta/3)\n",
    "    c=v*(1+(8*r*r*D)/(3*alpha*v*v*phig*phig))**(1/4)\n",
    "    mlth=4*r*v/(3*alpha*c)\n",
    "    rholth=phig - 4*r*v*v/(9*alpha*c*c) + v*mlth/c\n",
    "    return([rholth, mlth])"
   ]
  },
  {
   "cell_type": "code",
   "execution_count": 20,
   "metadata": {},
   "outputs": [],
   "source": [
    "rholth, mlth =  liq_th(beta=2, v=1, D=list_D)"
   ]
  },
  {
   "cell_type": "code",
   "execution_count": 139,
   "metadata": {},
   "outputs": [
    {
     "data": {
      "text/plain": [
       "[<matplotlib.lines.Line2D at 0x7fedd0cbca90>]"
      ]
     },
     "execution_count": 139,
     "metadata": {},
     "output_type": "execute_result"
    },
    {
     "data": {
      "image/png": "[encoded data removed]",
      "text/plain": [
       "<Figure size 432x288 with 1 Axes>"
      ]
     },
     "metadata": {
      "needs_background": "light"
     },
     "output_type": "display_data"
    }
   ],
   "source": [
    "\n",
    "plt.plot(list_D, rholth, 'o-')\n",
    "plt.plot(list_D, mlth, 'o-')"
   ]
  },
  {
   "cell_type": "code",
   "execution_count": 8,
   "metadata": {},
   "outputs": [
    {
     "data": {
      "text/plain": [
       "[<matplotlib.lines.Line2D at 0x7fedd5aabe10>]"
      ]
     },
     "execution_count": 8,
     "metadata": {},
     "output_type": "execute_result"
    },
    {
     "data": {
      "image/png": "[encoded data removed]",
      "text/plain": [
       "<Figure size 432x288 with 1 Axes>"
      ]
     },
     "metadata": {
      "needs_background": "light"
     },
     "output_type": "display_data"
    }
   ],
   "source": [
    "plt.plot(list_D, rhol, 'o-')\n",
    "plt.plot(list_D, ml, 'o-')"
   ]
  },
  {
   "cell_type": "code",
   "execution_count": 9,
   "metadata": {},
   "outputs": [
    {
     "data": {
      "text/plain": [
       "Text(0, 0.5, '$D$')"
      ]
     },
     "execution_count": 9,
     "metadata": {},
     "output_type": "execute_result"
    },
    {
     "data": {
      "image/png": "[encoded data removed]",
      "text/plain": [
       "<Figure size 432x288 with 1 Axes>"
      ]
     },
     "metadata": {
      "needs_background": "light"
     },
     "output_type": "display_data"
    }
   ],
   "source": [
    "plt.plot(rhol, list_D, '-')\n",
    "plt.xlabel(r'$\\rho_0$')\n",
    "plt.ylabel(r'$D$')\n",
    "#plt.plot(list_D, ml, 'o-')"
   ]
  },
  {
   "cell_type": "markdown",
   "metadata": {},
   "source": [
    "# Introduce Gaussian fluctuation in the liquid phase"
   ]
  },
  {
   "cell_type": "code",
   "execution_count": 10,
   "metadata": {},
   "outputs": [],
   "source": [
    "def gaussianFluctH(lx, ly, h0):\n",
    "    x, y = np.meshgrid(np.arange(lx), np.arange(ly))\n",
    "    dst = np.sqrt((x-lx/2)*(x-lx/2)+(y-ly/2)*(y-ly/2))\n",
    "\n",
    "    sig=3\n",
    "    gauss = h0*np.exp(-( (dst)**2 / ( 2.0 * sig**2 ) ) )\n",
    "    return(gauss)"
   ]
  },
  {
   "cell_type": "code",
   "execution_count": 146,
   "metadata": {},
   "outputs": [],
   "source": [
    "lx=600\n",
    "ly=200\n",
    "ds=1\n",
    "\n",
    "tmax=100\n",
    "dt=0.1\n",
    "vec_t=np.arange(0,tmax,dt)\n",
    "\n",
    "v=1\n",
    "beta=2"
   ]
  },
  {
   "cell_type": "code",
   "execution_count": 254,
   "metadata": {
    "scrolled": false
   },
   "outputs": [
    {
     "name": "stdout",
     "output_type": "stream",
     "text": [
      "D = 4.0\n"
     ]
    }
   ],
   "source": [
    "nD=19\n",
    "D=list_D[nD]\n",
    "print('D =', D)\n",
    "\n",
    "rho=rhol[nD]*np.ones((ly,lx))\n",
    "m=ml[nD]*np.ones((ly,lx))\n",
    "\n",
    "h0=5\n",
    "m-=3*m[0,0]*gaussianFluctH(lx, ly, h0)\n",
    "rho+=rho[0,0]*gaussianFluctH(lx, ly, h0)\n",
    "\n",
    "X=np.concatenate([rho, m])"
   ]
  },
  {
   "cell_type": "code",
   "execution_count": 255,
   "metadata": {},
   "outputs": [],
   "source": [
    "prof_rho=[]\n",
    "prof_m=[]\n",
    "prof_rho.append(rho.copy())\n",
    "prof_m.append(m.copy())\n",
    "\n",
    "for t in vec_t:\n",
    "    X0=X.copy()\n",
    "    \n",
    "    X=update_X(X0, v, D, beta, dt, ds, ly)\n",
    "    \n",
    "    rho, m = X[:ly, :], X[ly:, :]  \n",
    "    prof_rho.append(rho)\n",
    "    prof_m.append(m)"
   ]
  },
  {
   "cell_type": "code",
   "execution_count": 256,
   "metadata": {},
   "outputs": [
    {
     "data": {
      "image/png": "[encoded data removed]",
      "text/plain": [
       "<Figure size 864x288 with 2 Axes>"
      ]
     },
     "metadata": {
      "needs_background": "light"
     },
     "output_type": "display_data"
    },
    {
     "data": {
      "image/png": "[encoded data removed]",
      "text/plain": [
       "<Figure size 864x288 with 2 Axes>"
      ]
     },
     "metadata": {
      "needs_background": "light"
     },
     "output_type": "display_data"
    }
   ],
   "source": [
    "t=-1\n",
    "mp=prof_m[t].copy()\n",
    "rhop=prof_rho[t].copy()\n",
    "vmax=max(np.abs(np.max(mp)), np.max(rhop))\n",
    "\n",
    "plt.matshow(mp, cmap='PiYG', vmin=-vmax, vmax=vmax)\n",
    "plt.colorbar()\n",
    "\n",
    "plt.matshow(rhop, cmap='magma', vmin=0, vmax=vmax)\n",
    "plt.colorbar();\n"
   ]
  },
  {
   "cell_type": "code",
   "execution_count": 157,
   "metadata": {},
   "outputs": [
    {
     "data": {
      "text/plain": [
       "0.04658333333333333"
      ]
     },
     "execution_count": 157,
     "metadata": {},
     "output_type": "execute_result"
    }
   ],
   "source": [
    "np.sum(p<0)/(lx*ly)"
   ]
  },
  {
   "cell_type": "code",
   "execution_count": 261,
   "metadata": {},
   "outputs": [
    {
     "data": {
      "text/plain": [
       "1001"
      ]
     },
     "execution_count": 261,
     "metadata": {},
     "output_type": "execute_result"
    }
   ],
   "source": [
    "len(prof_m)"
   ]
  },
  {
   "cell_type": "code",
   "execution_count": 260,
   "metadata": {},
   "outputs": [
    {
     "data": {
      "image/png": "[encoded data removed]",
      "text/plain": [
       "<Figure size 288x288 with 2 Axes>"
      ]
     },
     "metadata": {
      "needs_background": "light"
     },
     "output_type": "display_data"
    }
   ],
   "source": [
    "import matplotlib.animation as animation\n",
    "\n",
    "fig, ax = plt.subplots(figsize=(4, 4))\n",
    "\n",
    "frame = 0\n",
    "\n",
    "im = plt.imshow(prof_m[frame])\n",
    "plt.colorbar()\n",
    "\n",
    "def update(*args):\n",
    "    global frame\n",
    "    #print(frame)\n",
    "\n",
    "    im.set_array(prof_m[frame])\n",
    "\n",
    "    frame += 10\n",
    "    frame %= len(prof_m)\n",
    "\n",
    "    return im,\n",
    "\n",
    "ani = animation.FuncAnimation(fig, update, len(prof_m))\n",
    "writer = animation.ImageMagickFileWriter(fps=20)\n",
    "ani.save('movie.gif', writer=writer) "
   ]
  },
  {
   "cell_type": "markdown",
   "metadata": {},
   "source": [
    "# Minimal Gaussian fluctuation to reverse the liquid phase"
   ]
  },
  {
   "cell_type": "code",
   "execution_count": 25,
   "metadata": {},
   "outputs": [],
   "source": [
    "def gaussianFluctH(lx, ly, h0):\n",
    "    x, y = np.meshgrid(np.arange(lx), np.arange(ly))\n",
    "    dst = np.sqrt((x-lx/2)*(x-lx/2)+(y-ly/2)*(y-ly/2))\n",
    "\n",
    "    sig=3\n",
    "    gauss = h0*np.exp(-( (dst)**2 / ( 2.0 * sig**2 ) ) )\n",
    "    return(gauss)"
   ]
  },
  {
   "cell_type": "code",
   "execution_count": 146,
   "metadata": {},
   "outputs": [],
   "source": [
    "lx=600\n",
    "ly=200\n",
    "ds=1\n",
    "\n",
    "tmax=100\n",
    "dt=0.1\n",
    "vec_t=np.arange(0,tmax,dt)\n",
    "\n",
    "v=1\n",
    "beta=2"
   ]
  },
  {
   "cell_type": "code",
   "execution_count": 210,
   "metadata": {
    "scrolled": false
   },
   "outputs": [
    {
     "name": "stdout",
     "output_type": "stream",
     "text": [
      "D = 0.5\n"
     ]
    }
   ],
   "source": [
    "nD=0\n",
    "D=list_D[nD]\n",
    "print('D =', D)\n",
    "\n",
    "rho=rhol[nD]*np.ones((ly,lx))\n",
    "m=ml[nD]*np.ones((ly,lx))\n",
    "\n",
    "h0=0.01\n",
    "m-=3*m[0,0]*gaussianFluctH(lx, ly, h0)\n",
    "rho+=rho[0,0]*gaussianFluctH(lx, ly, h0)\n",
    "\n",
    "X=np.concatenate([rho, m])"
   ]
  },
  {
   "cell_type": "code",
   "execution_count": 211,
   "metadata": {},
   "outputs": [],
   "source": [
    "prof_rho=[]\n",
    "prof_m=[]\n",
    "prof_rho.append(rho.copy())\n",
    "prof_m.append(m.copy())\n",
    "\n",
    "frac=np.sum(m<0)/(lx*ly)\n",
    "\n",
    "while((frac>0) and (frac<0.1)):\n",
    "    X0=X.copy()\n",
    "    \n",
    "    X=update_X(X0, v, D, beta, dt, ds, ly)\n",
    "    \n",
    "    rho, m = X[:ly, :], X[ly:, :]  \n",
    "    frac=np.sum(m<0)/(lx*ly)\n",
    "\n",
    "    prof_rho.append(rho)\n",
    "    prof_m.append(m)"
   ]
  },
  {
   "cell_type": "code",
   "execution_count": 212,
   "metadata": {},
   "outputs": [
    {
     "data": {
      "image/png": "[encoded data removed]",
      "text/plain": [
       "<Figure size 864x288 with 2 Axes>"
      ]
     },
     "metadata": {
      "needs_background": "light"
     },
     "output_type": "display_data"
    },
    {
     "data": {
      "image/png": "[encoded data removed]",
      "text/plain": [
       "<Figure size 864x288 with 2 Axes>"
      ]
     },
     "metadata": {
      "needs_background": "light"
     },
     "output_type": "display_data"
    }
   ],
   "source": [
    "t=-1\n",
    "mp=prof_m[t].copy()\n",
    "rhop=prof_rho[t].copy()\n",
    "vmax=max(np.abs(np.max(mp)), np.max(rhop))\n",
    "\n",
    "plt.matshow(mp, cmap='PiYG', vmin=-vmax, vmax=vmax)\n",
    "plt.colorbar()\n",
    "\n",
    "plt.matshow(rhop, cmap='magma', vmin=0, vmax=vmax)\n",
    "plt.colorbar();\n"
   ]
  },
  {
   "cell_type": "code",
   "execution_count": 206,
   "metadata": {},
   "outputs": [
    {
     "data": {
      "text/plain": [
       "[<matplotlib.lines.Line2D at 0x7fedd0617cd0>]"
      ]
     },
     "execution_count": 206,
     "metadata": {},
     "output_type": "execute_result"
    },
    {
     "data": {
      "image/png": "[encoded data removed]",
      "text/plain": [
       "<Figure size 432x288 with 1 Axes>"
      ]
     },
     "metadata": {
      "needs_background": "light"
     },
     "output_type": "display_data"
    }
   ],
   "source": [
    "plt.plot([np.sum(p<0)/(lx*ly) for p in prof_m])"
   ]
  },
  {
   "cell_type": "code",
   "execution_count": 198,
   "metadata": {},
   "outputs": [
    {
     "data": {
      "text/plain": [
       "[<matplotlib.lines.Line2D at 0x7fedd0c6e250>]"
      ]
     },
     "execution_count": 198,
     "metadata": {},
     "output_type": "execute_result"
    },
    {
     "data": {
      "image/png": "[encoded data removed]",
      "text/plain": [
       "<Figure size 432x288 with 1 Axes>"
      ]
     },
     "metadata": {
      "needs_background": "light"
     },
     "output_type": "display_data"
    }
   ],
   "source": [
    "plt.plot([np.min(p[np.int64(ly/2),:]) for p in prof_m], '-')"
   ]
  },
  {
   "cell_type": "code",
   "execution_count": 199,
   "metadata": {},
   "outputs": [
    {
     "data": {
      "text/plain": [
       "[<matplotlib.lines.Line2D at 0x7fedd11c6f10>]"
      ]
     },
     "execution_count": 199,
     "metadata": {},
     "output_type": "execute_result"
    },
    {
     "data": {
      "image/png": "[encoded data removed]",
      "text/plain": [
       "<Figure size 432x288 with 1 Axes>"
      ]
     },
     "metadata": {
      "needs_background": "light"
     },
     "output_type": "display_data"
    }
   ],
   "source": [
    "mag=np.array([np.sum(p) for p in prof_m])/np.sum(prof_rho[0])\n",
    "plt.plot(mag)"
   ]
  },
  {
   "cell_type": "code",
   "execution_count": 187,
   "metadata": {},
   "outputs": [],
   "source": [
    "def criterion_destab(h0, v, D, beta, rho0l, m0l, lx, ly):\n",
    "    rho=rho0l*np.ones((ly,lx))\n",
    "    m=m0l*np.ones((ly,lx))\n",
    "\n",
    "    m-=3*m[0,0]*gaussianFluctH(lx, ly, h0)\n",
    "    rho+=1*rho[0,0]*gaussianFluctH(lx, ly, h0)\n",
    "\n",
    "    X=np.concatenate([rho, m])\n",
    "    \n",
    "    frac=np.sum(m<0)/(lx*ly)\n",
    "\n",
    "    while((frac>0) and (frac<0.1)):\n",
    "        X0=X.copy()\n",
    "\n",
    "        X=update_X(X0, v, D, beta, dt, ds, ly)\n",
    "\n",
    "        rho, m = X[:ly, :], X[ly:, :]  \n",
    "        frac=np.sum(m<0)/(lx*ly)\n",
    "\n",
    "    rho, m = X[:ly, :], X[ly:, :]  \n",
    "    return(np.min(m[np.int64(ly/2),:]))"
   ]
  },
  {
   "cell_type": "code",
   "execution_count": 188,
   "metadata": {},
   "outputs": [
    {
     "data": {
      "text/plain": [
       "-28.499872159049183"
      ]
     },
     "execution_count": 188,
     "metadata": {},
     "output_type": "execute_result"
    }
   ],
   "source": [
    "nD=3\n",
    "criterion_destab(h0=10, v=1, D=list_D[nD], beta=2, rho0l=rhol[nD], m0l=ml[nD], lx=lx, ly=ly)"
   ]
  },
  {
   "cell_type": "code",
   "execution_count": 191,
   "metadata": {},
   "outputs": [
    {
     "data": {
      "text/plain": [
       "1.9344985702188868"
      ]
     },
     "execution_count": 191,
     "metadata": {},
     "output_type": "execute_result"
    }
   ],
   "source": [
    "nD=3\n",
    "criterion_destab(h0=0.1, v=1, D=list_D[nD], beta=2, rho0l=rhol[nD], m0l=ml[nD], lx=lx, ly=ly)"
   ]
  },
  {
   "cell_type": "code",
   "execution_count": 213,
   "metadata": {},
   "outputs": [
    {
     "name": "stdout",
     "output_type": "stream",
     "text": [
      "0.5\n",
      "0.5555555555555556\n",
      "0.6111111111111112\n",
      "0.6666666666666667\n",
      "0.7222222222222222\n",
      "0.7777777777777778\n",
      "0.8333333333333334\n",
      "0.8888888888888888\n",
      "0.9444444444444444\n",
      "1.0\n",
      "1.0\n",
      "1.3333333333333333\n",
      "1.6666666666666663\n",
      "2.0\n",
      "2.333333333333333\n",
      "2.6666666666666665\n",
      "3.0\n",
      "3.333333333333333\n",
      "3.6666666666666665\n",
      "4.0\n"
     ]
    }
   ],
   "source": [
    "h0_crit=[]\n",
    "for nD in range(len(list_D)):\n",
    "    print(list_D[nD])\n",
    "    h0_crit.append(root_scalar(criterion_destab, args=(1, list_D[nD], 2, rhol[nD], ml[nD], lx, ly), method='bisect', bracket=[0.01, 10]))"
   ]
  },
  {
   "cell_type": "code",
   "execution_count": 238,
   "metadata": {},
   "outputs": [
    {
     "data": {
      "text/plain": [
       "Text(0, 0.5, 'Critical fluctuation size')"
      ]
     },
     "execution_count": 238,
     "metadata": {},
     "output_type": "execute_result"
    },
    {
     "data": {
      "image/png": "[encoded data removed]",
      "text/plain": [
       "<Figure size 432x288 with 1 Axes>"
      ]
     },
     "metadata": {
      "needs_background": "light"
     },
     "output_type": "display_data"
    }
   ],
   "source": [
    "plt.plot(list_D, [h.root for h in h0_crit], '-')\n",
    "#plt.plot(list_D, rhol, '-')\n",
    "\n",
    "plt.xlabel(r'$D$')\n",
    "plt.ylabel('Critical fluctuation size')"
   ]
  },
  {
   "cell_type": "code",
   "execution_count": null,
   "metadata": {},
   "outputs": [],
   "source": []
  },
  {
   "cell_type": "markdown",
   "metadata": {},
   "source": [
    "# $\\vec{m}$"
   ]
  },
  {
   "cell_type": "code",
   "execution_count": 129,
   "metadata": {},
   "outputs": [],
   "source": [
    "def update_X_vect(X, v, D, beta, dt, dx, ly):\n",
    "    rho, mx, my = X[:ly, :], X[ly:2*ly, :], X[2*ly:, :]   \n",
    "    \n",
    "    drho = rho\\\n",
    "    - v*(dt/dx)*(np.roll(my, axis=0,shift=-1)-np.roll(my, axis=0,shift=1))/2\\\n",
    "    - v*(dt/dx)*(np.roll(mx, axis=1,shift=-1)-np.roll(mx, axis=1,shift=1))/2\\\n",
    "    + D*(dt/(dx*dx))*convolve2d(rho, L, mode='same', boundary='wrap')\n",
    "    \n",
    "    norm_m=np.sqrt(mx*mx+my*my)\n",
    "    \n",
    "    dmx = mx\\\n",
    "    - v*(dt/dx)*(np.roll(rho, axis=1,shift=-1)-np.roll(rho, axis=1,shift=1))/2\\\n",
    "    + D*(dt/(dx*dx))*convolve2d(mx, L, mode='same', boundary='wrap')\\\n",
    "    + 2*dt*(beta-1-1/rho)*mx \\\n",
    "    - dt*beta*beta*(1-beta/3)*mx*norm_m*norm_m/(rho*rho) \n",
    "       \n",
    "    dmy = my \\\n",
    "    - v*(dt/dx)*(np.roll(rho, axis=0,shift=-1)-np.roll(rho, axis=0,shift=1))/2 \\\n",
    "    + D*(dt/(dx*dx))*convolve2d(my, L, mode='same', boundary='wrap') \\\n",
    "    + 2*dt*(beta-1-1/rho)*my\\\n",
    "    - dt*beta*beta*(1-beta/3)*my*norm_m*norm_m/(rho*rho) \n",
    "\n",
    "    return(np.concatenate([drho, dmx, dmy]))"
   ]
  },
  {
   "cell_type": "code",
   "execution_count": 162,
   "metadata": {},
   "outputs": [],
   "source": [
    "lx=300\n",
    "ly=100\n",
    "ds=1\n",
    "\n",
    "tmax=100\n",
    "dt=0.1\n",
    "vec_t=np.arange(0,tmax,dt)\n",
    "\n",
    "v=1\n",
    "beta=2"
   ]
  },
  {
   "cell_type": "code",
   "execution_count": 221,
   "metadata": {
    "scrolled": false
   },
   "outputs": [
    {
     "name": "stdout",
     "output_type": "stream",
     "text": [
      "D = 0.5\n"
     ]
    }
   ],
   "source": [
    "# INITIAL CONDITION : fluctuation in liq phase\n",
    "nD=0\n",
    "D=list_D[nD]\n",
    "print('D =', D)\n",
    "\n",
    "rho=rhol[nD]*np.ones((ly,lx))\n",
    "mx=ml[nD]*np.ones((ly,lx))\n",
    "my=np.zeros((ly,lx))\n",
    "\n",
    "\n",
    "h0=10\n",
    "mx-=3*mx[0,0]*gaussianFluctH(lx, ly, h0)\n",
    "#my-=3*my[0,0]*gaussianFluctH(lx, ly, h0)\n",
    "\n",
    "rho+=rho[0,0]*gaussianFluctH(lx, ly, h0)\n",
    "\n",
    "X=np.concatenate([rho, mx, my])"
   ]
  },
  {
   "cell_type": "code",
   "execution_count": 255,
   "metadata": {},
   "outputs": [],
   "source": [
    "# INITIAL CONDITION : blob of particles in disordered gas\n",
    "rhof=np.ones((ly,lx))\n",
    "mxf=np.zeros((ly,lx))\n",
    "myf=np.zeros((ly,lx))\n",
    "\n",
    "\n",
    "r0=1.\n",
    "rhof[:, :]+=r0*np.exp(-((np.arange(lx)-(lx/2))/50)**2)\n",
    "mxf[:, :]=np.sqrt(2*rhof*rhof*(beta-1-1/rhof)/(beta*beta*(1-beta/3)))\n",
    "X=np.concatenate([rhof, mxf, myf])"
   ]
  },
  {
   "cell_type": "code",
   "execution_count": 256,
   "metadata": {},
   "outputs": [],
   "source": [
    "prof_rho=[]\n",
    "prof_mx=[]\n",
    "prof_my=[]\n",
    "\n",
    "rho, mx, my = X[:ly, :], X[ly:2*ly, :], X[2*ly:, :]\n",
    "prof_rho.append(rho.copy())\n",
    "prof_mx.append(mx.copy())\n",
    "prof_my.append(my.copy())\n",
    "\n",
    "\n",
    "for t in vec_t:\n",
    "    X0=X.copy()\n",
    "    \n",
    "    X=update_X_vect(X0, v, D, beta, dt, ds, ly)\n",
    "    \n",
    "    rho, mx, my = X[:ly, :], X[ly:2*ly, :], X[2*ly:, :]  \n",
    "    prof_rho.append(rho)\n",
    "    prof_mx.append(mx)\n",
    "    prof_my.append(my)"
   ]
  },
  {
   "cell_type": "code",
   "execution_count": 257,
   "metadata": {},
   "outputs": [],
   "source": [
    "# LAUNCH TO RESUME SIMU\n",
    "for t in vec_t:\n",
    "    X0=X.copy()\n",
    "    \n",
    "    X=update_X_vect(X0, v, D, beta, dt, ds, ly)\n",
    "    \n",
    "    rho, mx, my = X[:ly, :], X[ly:2*ly, :], X[2*ly:, :]  \n",
    "    prof_rho.append(rho)\n",
    "    prof_mx.append(mx)\n",
    "    prof_my.append(my)"
   ]
  },
  {
   "cell_type": "code",
   "execution_count": 260,
   "metadata": {},
   "outputs": [
    {
     "data": {
      "image/png": "[encoded data removed]",
      "text/plain": [
       "<Figure size 864x288 with 2 Axes>"
      ]
     },
     "metadata": {
      "needs_background": "light"
     },
     "output_type": "display_data"
    },
    {
     "data": {
      "image/png": "[encoded data removed]",
      "text/plain": [
       "<Figure size 864x288 with 2 Axes>"
      ]
     },
     "metadata": {
      "needs_background": "light"
     },
     "output_type": "display_data"
    }
   ],
   "source": [
    "t=50\n",
    "mxp=prof_mx[t].copy()\n",
    "myp=prof_mx[t].copy()\n",
    "\n",
    "rhop=prof_rho[t].copy()\n",
    "vmax=np.max(rhop)\n",
    "\n",
    "plt.matshow(np.arctan(myp, mxp), cmap='PiYG', vmin=-np.pi/2, vmax=np.pi/2)\n",
    "plt.colorbar()\n",
    "\n",
    "plt.matshow(rhop, cmap='magma_r', vmin=0, vmax=vmax)\n",
    "plt.colorbar();\n"
   ]
  },
  {
   "cell_type": "code",
   "execution_count": 262,
   "metadata": {},
   "outputs": [
    {
     "data": {
      "text/plain": [
       "2001"
      ]
     },
     "execution_count": 262,
     "metadata": {},
     "output_type": "execute_result"
    }
   ],
   "source": [
    "len(prof_rho)"
   ]
  },
  {
   "cell_type": "code",
   "execution_count": null,
   "metadata": {},
   "outputs": [],
   "source": [
    "import matplotlib.animation as animation\n",
    "\n",
    "fig, ax = plt.subplots()\n",
    "fig.set_size_inches(,1)\n",
    "\n",
    "frame = 0\n",
    "\n",
    "mp=prof_m[-1].copy()\n",
    "rhop=prof_rho[-1].copy()\n",
    "vmax=max(np.abs(np.max(mp)), np.max(rhop))\n",
    "img = plt.imshow(prof_m[frame], cmap='PiYG', vmin=-vmax, vmax=vmax, aspect='equal')\n",
    "plt.colorbar(shrink=0.9)\n",
    "\n",
    "def update(*args):\n",
    "    global frame\n",
    "    #print(frame)\n",
    "\n",
    "    img.set_array(prof_m[frame])\n",
    "\n",
    "    frame += 40\n",
    "    frame %= len(prof_m)\n",
    "\n",
    "    return img,\n",
    "\n",
    "ani = animation.FuncAnimation(fig, update, 160)\n",
    "writer = animation.FFMpegWriter(fps=20)\n",
    "ani.save('asympt_prof.avi', writer=writer) "
   ]
  },
  {
   "cell_type": "markdown",
   "metadata": {},
   "source": [
    "## $m_l, \\rho_l$ "
   ]
  },
  {
   "cell_type": "code",
   "execution_count": 2577,
   "metadata": {},
   "outputs": [],
   "source": [
    "def outputLastProfile(rho0, m0, tmax, dt, lx, ly, ds, v, beta, D):\n",
    "    vec_t=np.arange(0,tmax,dt)\n",
    "    X=np.concatenate([rho0, m0])\n",
    "    \n",
    "    for t in vec_t:\n",
    "        X0=X.copy()\n",
    "        X=update_X(X0, v, D, beta, dt, ds, ly)\n",
    "    \n",
    "    rho, m = X[:ly, :], X[ly:, :]\n",
    "    return(rho, m)"
   ]
  },
  {
   "cell_type": "code",
   "execution_count": 3129,
   "metadata": {},
   "outputs": [
    {
     "name": "stdout",
     "output_type": "stream",
     "text": [
      "1.0\n",
      "1.3333333333333333\n",
      "1.6666666666666665\n",
      "2.0\n",
      "2.333333333333333\n",
      "2.6666666666666665\n",
      "3.0\n",
      "3.333333333333333\n",
      "3.6666666666666665\n",
      "4.0\n"
     ]
    }
   ],
   "source": [
    "rhof=np.ones((ly,lx))\n",
    "mf=np.zeros((ly,lx))\n",
    "\n",
    "r0=1.\n",
    "rhof[:, :]+=r0*np.exp(-((np.arange(lx)-(lx/2))/50)**8)\n",
    "mf[:, :]=np.sqrt(2*rhof*rhof*(beta-1-1/rhof)/(beta*beta*(1-beta/3)))\n",
    "\n",
    "last_rho=[]\n",
    "last_m=[]\n",
    "\n",
    "list_D_2=np.linspace(1, 4, 10)\n",
    "for D in list_D_2:\n",
    "    print(D)\n",
    "    rhof, mf = outputLastProfile(rho0=rhof, m0=mf, tmax=5000, dt=1e-1, lx=400, ly=20, ds=1, \n",
    "                             v=1, beta=2, D=D)\n",
    "    last_rho_2.append(rhof)\n",
    "    last_m_2.append(mf)"
   ]
  },
  {
   "cell_type": "code",
   "execution_count": 3846,
   "metadata": {},
   "outputs": [
    {
     "data": {
      "image/png": "[encoded data removed]",
      "text/plain": [
       "<Figure size 432x288 with 1 Axes>"
      ]
     },
     "metadata": {
      "needs_background": "light"
     },
     "output_type": "display_data"
    }
   ],
   "source": [
    "for nD in range(len(last_rho)):\n",
    "    plt.plot(np.mean(last_rho[nD], axis=0), label=list_D[nD])\n",
    "    plt.legend()"
   ]
  },
  {
   "cell_type": "code",
   "execution_count": null,
   "metadata": {},
   "outputs": [],
   "source": []
  },
  {
   "cell_type": "code",
   "execution_count": null,
   "metadata": {},
   "outputs": [],
   "source": []
  },
  {
   "cell_type": "code",
   "execution_count": null,
   "metadata": {},
   "outputs": [],
   "source": []
  },
  {
   "cell_type": "code",
   "execution_count": null,
   "metadata": {},
   "outputs": [],
   "source": []
  },
  {
   "cell_type": "code",
   "execution_count": null,
   "metadata": {},
   "outputs": [],
   "source": []
  },
  {
   "cell_type": "code",
   "execution_count": null,
   "metadata": {},
   "outputs": [],
   "source": []
  },
  {
   "cell_type": "code",
   "execution_count": null,
   "metadata": {},
   "outputs": [],
   "source": []
  },
  {
   "cell_type": "code",
   "execution_count": null,
   "metadata": {},
   "outputs": [],
   "source": []
  },
  {
   "cell_type": "code",
   "execution_count": null,
   "metadata": {},
   "outputs": [],
   "source": []
  },
  {
   "cell_type": "code",
   "execution_count": null,
   "metadata": {},
   "outputs": [],
   "source": []
  },
  {
   "cell_type": "code",
   "execution_count": null,
   "metadata": {},
   "outputs": [],
   "source": []
  },
  {
   "cell_type": "code",
   "execution_count": null,
   "metadata": {},
   "outputs": [],
   "source": []
  },
  {
   "cell_type": "code",
   "execution_count": null,
   "metadata": {},
   "outputs": [],
   "source": []
  },
  {
   "cell_type": "code",
   "execution_count": null,
   "metadata": {},
   "outputs": [],
   "source": []
  },
  {
   "cell_type": "code",
   "execution_count": null,
   "metadata": {},
   "outputs": [],
   "source": []
  },
  {
   "cell_type": "code",
   "execution_count": null,
   "metadata": {},
   "outputs": [],
   "source": []
  },
  {
   "cell_type": "code",
   "execution_count": null,
   "metadata": {},
   "outputs": [],
   "source": []
  },
  {
   "cell_type": "code",
   "execution_count": null,
   "metadata": {},
   "outputs": [],
   "source": []
  },
  {
   "cell_type": "code",
   "execution_count": null,
   "metadata": {},
   "outputs": [],
   "source": []
  },
  {
   "cell_type": "code",
   "execution_count": null,
   "metadata": {},
   "outputs": [],
   "source": []
  },
  {
   "cell_type": "code",
   "execution_count": null,
   "metadata": {},
   "outputs": [],
   "source": []
  },
  {
   "cell_type": "code",
   "execution_count": null,
   "metadata": {},
   "outputs": [],
   "source": []
  },
  {
   "cell_type": "code",
   "execution_count": null,
   "metadata": {},
   "outputs": [],
   "source": []
  },
  {
   "cell_type": "code",
   "execution_count": null,
   "metadata": {},
   "outputs": [],
   "source": []
  },
  {
   "cell_type": "code",
   "execution_count": null,
   "metadata": {},
   "outputs": [],
   "source": []
  },
  {
   "cell_type": "code",
   "execution_count": null,
   "metadata": {},
   "outputs": [],
   "source": []
  },
  {
   "cell_type": "code",
   "execution_count": null,
   "metadata": {},
   "outputs": [],
   "source": []
  }
 ],
 "metadata": {
  "kernelspec": {
   "display_name": "Python 3",
   "language": "python",
   "name": "python3"
  },
  "language_info": {
   "codemirror_mode": {
    "name": "ipython",
    "version": 3
   },
   "file_extension": ".py",
   "mimetype": "text/x-python",
   "name": "python",
   "nbconvert_exporter": "python",
   "pygments_lexer": "ipython3",
   "version": "3.7.6"
  }
 },
 "nbformat": 4,
 "nbformat_minor": 4
}
