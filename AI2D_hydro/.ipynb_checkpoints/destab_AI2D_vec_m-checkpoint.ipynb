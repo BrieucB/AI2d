{
 "cells": [
  {
   "cell_type": "code",
   "execution_count": 1,
   "metadata": {},
   "outputs": [],
   "source": [
    "import numpy as np\n",
    "import matplotlib.pyplot as plt\n",
    "import pandas as pd"
   ]
  },
  {
   "cell_type": "code",
   "execution_count": 2,
   "metadata": {},
   "outputs": [],
   "source": [
    "from scipy.signal import convolve2d"
   ]
  },
  {
   "cell_type": "code",
   "execution_count": 3,
   "metadata": {},
   "outputs": [],
   "source": [
    "from scipy.optimize import fixed_point, root_scalar"
   ]
  },
  {
   "cell_type": "code",
   "execution_count": 4,
   "metadata": {},
   "outputs": [],
   "source": [
    "import matplotlib.colors as colors\n",
    "import matplotlib.cbook as cbook\n",
    "from matplotlib import cm"
   ]
  },
  {
   "cell_type": "code",
   "execution_count": 6,
   "metadata": {},
   "outputs": [],
   "source": [
    "L=np.array([[1/4,1/2,1/4], [1/2, -3,1/2], [1/4,1/2,1/4]])"
   ]
  },
  {
   "cell_type": "code",
   "execution_count": 5,
   "metadata": {},
   "outputs": [],
   "source": [
    "data_liq=pd.read_csv('D_rhol_ml.dat')\n",
    "data_liq\n",
    "\n",
    "list_D=data_liq.D.values\n",
    "rhol= data_liq.rhol\n",
    "ml=data_liq.ml"
   ]
  },
  {
   "cell_type": "code",
   "execution_count": 7,
   "metadata": {},
   "outputs": [],
   "source": [
    "def gaussianFluctH(lx, ly, h0):\n",
    "    x, y = np.meshgrid(np.arange(lx), np.arange(ly))\n",
    "    dst = np.sqrt((x-lx/2)*(x-lx/2)+(y-ly/2)*(y-ly/2))\n",
    "\n",
    "    sig=3\n",
    "    gauss = h0*np.exp(-( (dst)**2 / ( 2.0 * sig**2 ) ) )\n",
    "    return(gauss)"
   ]
  },
  {
   "cell_type": "code",
   "execution_count": 8,
   "metadata": {},
   "outputs": [],
   "source": [
    "def update_X_vect_interp(X, v, D, beta, dt, dx, ly, alpha):\n",
    "    rho, mx, my = X[:ly, :], X[ly:2*ly, :], X[2*ly:, :]   \n",
    "    \n",
    "    # derivative along x : np.roll(m, axis=1)\n",
    "    \n",
    "    drho = rho\\\n",
    "    - alpha*v*(dt/dx)*(np.roll(my, axis=0,shift=-1)-np.roll(my, axis=0,shift=1))/2\\\n",
    "    - v*(dt/dx)*(np.roll(mx, axis=1,shift=-1)-np.roll(mx, axis=1,shift=1))/2\\\n",
    "    + D*(dt/(dx*dx))*convolve2d(rho, L, mode='same', boundary='wrap')\n",
    "    \n",
    "    norm_m=np.sqrt(mx*mx+my*my)\n",
    "    \n",
    "    dmx = mx\\\n",
    "    - v*(dt/dx)*(np.roll(rho, axis=1,shift=-1)-np.roll(rho, axis=1,shift=1))/2\\\n",
    "    + D*(dt/(dx*dx))*convolve2d(mx, L, mode='same', boundary='wrap')\\\n",
    "    + 2*dt*(beta-1-1/rho)*mx \\\n",
    "    - dt*beta*beta*(1-beta/3)*mx*norm_m*norm_m/(rho*rho) \n",
    "       \n",
    "    dmy = my \\\n",
    "    - alpha*v*(dt/dx)*(np.roll(rho, axis=0,shift=-1)-np.roll(rho, axis=0,shift=1))/2 \\\n",
    "    + D*(dt/(dx*dx))*convolve2d(my, L, mode='same', boundary='wrap') \\\n",
    "    + 2*dt*(beta-1-1/rho)*my\\\n",
    "    - dt*beta*beta*(1-beta/3)*my*norm_m*norm_m/(rho*rho) \n",
    "\n",
    "    return(np.concatenate([drho, dmx, dmy]))"
   ]
  },
  {
   "cell_type": "code",
   "execution_count": 9,
   "metadata": {},
   "outputs": [],
   "source": [
    "mxl_vec=np.loadtxt('mxl_vec_m.dat')\n",
    "rhol_vec=np.loadtxt('rho_vec_m.dat')"
   ]
  },
  {
   "cell_type": "code",
   "execution_count": 10,
   "metadata": {},
   "outputs": [],
   "source": [
    "lx=400\n",
    "ly=200\n",
    "ds=1\n",
    "\n",
    "tmax=100\n",
    "dt=0.1\n",
    "vec_t=np.arange(0,tmax,dt)\n",
    "\n",
    "v=1\n",
    "beta=2"
   ]
  },
  {
   "cell_type": "code",
   "execution_count": 11,
   "metadata": {
    "scrolled": false
   },
   "outputs": [
    {
     "name": "stdout",
     "output_type": "stream",
     "text": [
      "D = 0.7777777777777778\n"
     ]
    }
   ],
   "source": [
    "# INITIAL CONDITION : fluctuation in liq phase\n",
    "nD=5\n",
    "D=list_D[nD]\n",
    "print('D =', D)\n",
    "alpha=0.3\n",
    "\n",
    "rho=rhol_vec[nD]*np.ones((ly,lx))\n",
    "mx=mxl_vec[nD]*np.ones((ly,lx))\n",
    "#my=myl_vec[nD]*np.ones((ly,lx))\n",
    "my=np.zeros((ly,lx))\n",
    "\n",
    "\n",
    "h0=2000\n",
    "mx-=3*mx[0,0]*gaussianFluctH(lx, ly, h0)\n",
    "#my-=3*my[0,0]*gaussianFluctH(lx, ly, h0)\n",
    "\n",
    "rho+=rho[0,0]*gaussianFluctH(lx, ly, h0)\n",
    "\n",
    "X=np.concatenate([rho, mx, my])"
   ]
  },
  {
   "cell_type": "code",
   "execution_count": 15,
   "metadata": {},
   "outputs": [
    {
     "data": {
      "text/plain": [
       "(200, 400)"
      ]
     },
     "execution_count": 15,
     "metadata": {},
     "output_type": "execute_result"
    }
   ],
   "source": [
    "rho.shape"
   ]
  },
  {
   "cell_type": "code",
   "execution_count": 12,
   "metadata": {},
   "outputs": [],
   "source": [
    "prof_rho=[]\n",
    "prof_mx=[]\n",
    "prof_my=[]\n",
    "\n",
    "rho, mx, my = X[:ly, :], X[ly:2*ly, :], X[2*ly:, :]\n",
    "prof_rho.append(rho.copy())\n",
    "prof_mx.append(mx.copy())\n",
    "prof_my.append(my.copy())\n",
    "\n",
    "\n",
    "for t in vec_t:\n",
    "    X0=X.copy()\n",
    "    \n",
    "    X=update_X_vect_interp(X0, v, D, beta, dt, ds, ly, alpha)\n",
    "    \n",
    "    rho, mx, my = X[:ly, :], X[ly:2*ly, :], X[2*ly:, :]  \n",
    "    prof_rho.append(rho)\n",
    "    prof_mx.append(mx)\n",
    "    prof_my.append(my)"
   ]
  },
  {
   "cell_type": "code",
   "execution_count": 152,
   "metadata": {},
   "outputs": [],
   "source": [
    "# LAUNCH TO RESUME SIMU\n",
    "t_long=1000\n",
    "vec_t_long=np.arange(0,t_long,dt)\n",
    "\n",
    "for t in vec_t_long:\n",
    "    X0=X.copy()\n",
    "    \n",
    "    X=update_X_vect_interp(X0, v, D, beta, dt, ds, ly, alpha)\n",
    "    \n",
    "    rho, mx, my = X[:ly, :], X[ly:2*ly, :], X[2*ly:, :]  \n",
    "    prof_rho.append(rho)\n",
    "    prof_mx.append(mx)\n",
    "    prof_my.append(my)"
   ]
  },
  {
   "cell_type": "code",
   "execution_count": 17,
   "metadata": {
    "scrolled": false
   },
   "outputs": [
    {
     "data": {
      "image/png": "[encoded data removed]",
      "text/plain": [
       "<Figure size 1440x720 with 2 Axes>"
      ]
     },
     "metadata": {
      "needs_background": "light"
     },
     "output_type": "display_data"
    }
   ],
   "source": [
    "fig, ax = plt.subplots()\n",
    "fig.set_size_inches(20,10)\n",
    "\n",
    "azimuths = np.arange(0, 361, 1)\n",
    "zeniths = np.arange(0, 20, 1)\n",
    "values = azimuths * np.ones((20, 361))\n",
    "\n",
    "ax2 = fig.add_axes([0.12, 0.76, 0.1, 0.1], polar=True,)\n",
    "\n",
    "ax2.pcolormesh(azimuths*np.pi/180.0, zeniths, values, cmap='twilight_shifted')\n",
    "ax2.set_yticks([])\n",
    "ax2.set_xticks([])\n",
    "\n",
    "t=100\n",
    "mxp=prof_mx[t].copy()\n",
    "myp=prof_my[t].copy()\n",
    "ax.imshow(np.roll(np.arctan2(myp,mxp), axis=1, shift=100), cmap='twilight_shifted', vmin=-np.pi, vmax=np.pi)\n",
    "\n",
    "\n",
    "plt.show()"
   ]
  },
  {
   "cell_type": "code",
   "execution_count": null,
   "metadata": {},
   "outputs": [],
   "source": []
  }
 ],
 "metadata": {
  "kernelspec": {
   "display_name": "Python 3",
   "language": "python",
   "name": "python3"
  },
  "language_info": {
   "codemirror_mode": {
    "name": "ipython",
    "version": 3
   },
   "file_extension": ".py",
   "mimetype": "text/x-python",
   "name": "python",
   "nbconvert_exporter": "python",
   "pygments_lexer": "ipython3",
   "version": "3.7.6"
  }
 },
 "nbformat": 4,
 "nbformat_minor": 4
}
