{
 "cells": [
  {
   "cell_type": "code",
   "execution_count": 1,
   "metadata": {},
   "outputs": [],
   "source": [
    "import numpy as np\n",
    "import matplotlib.pyplot as plt\n",
    "import pandas as pd"
   ]
  },
  {
   "cell_type": "code",
   "execution_count": 2,
   "metadata": {},
   "outputs": [],
   "source": [
    "from scipy.optimize import curve_fit, fixed_point"
   ]
  },
  {
   "cell_type": "code",
   "execution_count": 3,
   "metadata": {},
   "outputs": [],
   "source": [
    "import matplotlib.patches as patches"
   ]
  },
  {
   "cell_type": "code",
   "execution_count": 4,
   "metadata": {},
   "outputs": [],
   "source": [
    "import matplotlib as mpl\n",
    "mpl.rcParams['axes.prop_cycle'] = mpl.cycler(color=[plt.get_cmap('Dark2')(a) for a in np.arange(0.,0.9,0.12)][::-1]) "
   ]
  },
  {
   "cell_type": "code",
   "execution_count": 45,
   "metadata": {},
   "outputs": [],
   "source": [
    "fig_width_pt = 123  # Get this from LaTeX using \\showthe\\columnwidth\n",
    "                      # For PRL columnwidth is 246pt.\n",
    "golden_mean = (np.sqrt(5)+1.0)/2.0         # Aesthetic ratio\n",
    "\n",
    "fig_height_pt = fig_width_pt\n",
    "inches_per_pt = 1.0/72.27               # Convert pt to inch\n",
    "fig_width = fig_width_pt*inches_per_pt  # width in inches\n",
    "fig_height = fig_height_pt*inches_per_pt      # height in inches\n",
    "fig_size =  [fig_width,fig_height]\n",
    "params = {'backend': 'ps',\n",
    "          'axes.labelsize': 12,\n",
    "          'font.size': 12,\n",
    "          'xtick.labelsize': 10,\n",
    "          'xtick.direction': 'out',\n",
    "          'ytick.labelsize': 10,\n",
    "          'ytick.direction': 'out',\n",
    "          'ytick.major.pad': 1,\n",
    "          'xtick.major.pad': 1,\n",
    "          'text.usetex': True,\n",
    "          'figure.figsize': fig_size,\n",
    "          'legend.frameon': False,\n",
    "          'legend.fancybox': False}\n",
    "plt.rcParams.update(params)"
   ]
  },
  {
   "cell_type": "code",
   "execution_count": 39,
   "metadata": {},
   "outputs": [],
   "source": [
    "list_beta=np.array([1.1, 1.2, 1.3, 1.4, 1.5, 1.6, 1.7, 1.8, 1.9, 2.0])\n",
    "list_beta2=np.array([1.08, 1.13, 1.15, 1.18, 1.23, 1.25])"
   ]
  },
  {
   "cell_type": "code",
   "execution_count": 40,
   "metadata": {},
   "outputs": [],
   "source": [
    "speedfront={}\n",
    "speedback={}\n",
    "speedcomet={}\n",
    "frontdens={}\n",
    " \n",
    "for beta in list_beta:\n",
    "    try:\n",
    "        data=pd.read_csv('data_speeds/beta%.1f/dx0.1/f_out.dat'%(beta), sep=' ', names=['t', 'frontpos', 'backpos', 'cometpos', 'frontdens'])\n",
    "        speedfront[beta]=np.polyfit(data.t[20:500], data.frontpos[20:500], deg=1)[0]\n",
    "        speedback[beta]=np.polyfit(data.t[20:500], data.backpos[20:500], deg=1)[0]\n",
    "        speedcomet[beta]=np.polyfit(data.t[20:500], data.cometpos[20:500], deg=1)[0]\n",
    "        frontdens[beta]=np.mean(data.frontdens.values[-50:])\n",
    "    except: \n",
    "        pass\n",
    "    \n",
    "for beta in list_beta2:\n",
    "    try:\n",
    "        data=pd.read_csv('data_speeds/beta%.2f/dx0.1/f_out.dat'%(beta), sep=' ', names=['t', 'frontpos', 'backpos', 'cometpos', 'frontdens'])\n",
    "        speedfront[beta]=np.polyfit(data.t[20:500], data.frontpos[20:500], deg=1)[0]\n",
    "        speedback[beta]=np.polyfit(data.t[20:500], data.backpos[20:500], deg=1)[0]\n",
    "        speedcomet[beta]=np.polyfit(data.t[20:500], data.cometpos[20:500], deg=1)[0]\n",
    "        frontdens[beta]=np.mean(data.frontdens.values[-50:])\n",
    "    except: \n",
    "        pass"
   ]
  },
  {
   "cell_type": "code",
   "execution_count": 53,
   "metadata": {},
   "outputs": [],
   "source": [
    "dx=0.1\n",
    "list_beta_plot=np.sort(np.concatenate((list_beta, list_beta2)))\n",
    "speedfront_plot=-np.array([speedfront[beta]*dx for beta in list_beta_plot])\n",
    "speedback_plot=-np.array([speedback[beta]*dx for beta in list_beta_plot])\n",
    "speedcomet_plot=-np.array([speedcomet[beta]*dx for beta in list_beta_plot])"
   ]
  },
  {
   "cell_type": "code",
   "execution_count": 90,
   "metadata": {},
   "outputs": [
    {
     "data": {
      "image/png": "[encoded data removed]",
      "text/plain": [
       "<Figure size 122.54x122.54 with 1 Axes>"
      ]
     },
     "metadata": {
      "needs_background": "light"
     },
     "output_type": "display_data"
    }
   ],
   "source": [
    "xlab=0.45\n",
    "ylab=1.05\n",
    "ms=3.5\n",
    "lw=1.2\n",
    "\n",
    "plt.text(s=r'$\\mathrm{(c)}$', x=xlab, y=ylab, transform=plt.gca().transAxes)\n",
    "\n",
    "plt.plot(list_beta_plot, speedfront_plot, 'o-', label=r'$c_{\\rm f}$', markersize=ms, linewidth=lw)\n",
    "plt.plot(list_beta_plot, speedback_plot, 'o-', label=r'$c^+$', markersize=ms, linewidth=lw)\n",
    "\n",
    "plt.plot(list_beta_plot, speedcomet_plot, 'o-', label=r'$c^-$', markersize=ms, linewidth=lw)\n",
    "\n",
    "\n",
    "vec_beta=np.linspace(1.05, 2.1)\n",
    "fp_beta=np.array([fixed_point(lambda x: np.tanh(beta*x), 0.5) for beta in vec_beta])\n",
    "plt.plot(vec_beta, fp_beta, 'k--')\n",
    "plt.plot(vec_beta, -fp_beta, 'k--', label=r'$\\mathrm{Theory}$')\n",
    "\n",
    "l=plt.legend(fontsize=10, handletextpad=0.3, handlelength=1.2, ncol=2, columnspacing=0.8, loc=(0.15, 0.3))\n",
    "l.set_in_layout(False)\n",
    "\n",
    "plt.xlim([1.05, 2.1])\n",
    "plt.ylim(-1.6, 1.8)\n",
    "\n",
    "plt.xticks([1, 1.5, 2.0])\n",
    "\n",
    "s=plt.xlabel(r'$\\beta$', labelpad=-25, x=0.94, rotation=0, zorder=100);\n",
    "s.set_in_layout(False)\n",
    "\n",
    "plt.tight_layout(pad=0.01)\n",
    "plt.savefig('speeds_droplet.pdf');"
   ]
  },
  {
   "cell_type": "code",
   "execution_count": null,
   "metadata": {},
   "outputs": [],
   "source": []
  }
 ],
 "metadata": {
  "kernelspec": {
   "display_name": "Python 3",
   "language": "python",
   "name": "python3"
  },
  "language_info": {
   "codemirror_mode": {
    "name": "ipython",
    "version": 3
   },
   "file_extension": ".py",
   "mimetype": "text/x-python",
   "name": "python",
   "nbconvert_exporter": "python",
   "pygments_lexer": "ipython3",
   "version": "3.7.6"
  }
 },
 "nbformat": 4,
 "nbformat_minor": 4
}
